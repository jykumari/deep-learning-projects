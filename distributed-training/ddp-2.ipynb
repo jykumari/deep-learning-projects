{
 "cells": [
  {
   "cell_type": "code",
   "execution_count": 1,
   "id": "61be9899",
   "metadata": {
    "executionInfo": {
     "elapsed": 4198,
     "status": "ok",
     "timestamp": 1624759883403,
     "user": {
      "displayName": "Dima Rekesh",
      "photoUrl": "https://lh3.googleusercontent.com/a-/AOh14GgCxhnQN9cW764WS8AiJguM8wE5foCZLMjr-NyFuQ=s64",
      "userId": "05362657998610812765"
     },
     "user_tz": 420
    },
    "id": "f2513038"
   },
   "outputs": [],
   "source": [
    "import os\n",
    "import random\n",
    "import shutil\n",
    "import time\n",
    "import warnings\n",
    "\n",
    "import torch\n",
    "import torch.nn as nn\n",
    "import torch.backends.cudnn as cudnn\n",
    "import torch.optim\n",
    "\n",
    "import torch.utils.data\n",
    "import torchvision\n",
    "import torchvision.transforms as transforms\n",
    "import torchvision.datasets as datasets\n",
    "import torchvision.models as models"
   ]
  },
  {
   "cell_type": "code",
   "execution_count": 2,
   "id": "fe6b0b87",
   "metadata": {},
   "outputs": [],
   "source": [
    "# using pytorch native AMP\n",
    "from torch.cuda.amp import GradScaler\n",
    "from torch.cuda.amp import autocast"
   ]
  },
  {
   "cell_type": "code",
   "execution_count": 3,
   "id": "d9462d5c",
   "metadata": {},
   "outputs": [],
   "source": [
    "# using Tensorboard\n",
    "from torch.utils.tensorboard import SummaryWriter\n",
    "writer = SummaryWriter(log_dir=\"/data/runs\")"
   ]
  },
  {
   "cell_type": "code",
   "execution_count": 4,
   "id": "4c7f1053",
   "metadata": {},
   "outputs": [
    {
     "name": "stdout",
     "output_type": "stream",
     "text": [
      "Requirement already satisfied: wandb in /opt/conda/lib/python3.8/site-packages (0.10.33)\n",
      "Requirement already satisfied: GitPython>=1.0.0 in /opt/conda/lib/python3.8/site-packages (from wandb) (3.1.18)\n",
      "Requirement already satisfied: subprocess32>=3.5.3 in /opt/conda/lib/python3.8/site-packages (from wandb) (3.5.4)\n",
      "Requirement already satisfied: docker-pycreds>=0.4.0 in /opt/conda/lib/python3.8/site-packages (from wandb) (0.4.0)\n",
      "Requirement already satisfied: shortuuid>=0.5.0 in /opt/conda/lib/python3.8/site-packages (from wandb) (1.0.1)\n",
      "Requirement already satisfied: six>=1.13.0 in /opt/conda/lib/python3.8/site-packages (from wandb) (1.16.0)\n",
      "Requirement already satisfied: pathtools in /opt/conda/lib/python3.8/site-packages (from wandb) (0.1.2)\n",
      "Requirement already satisfied: Click!=8.0.0,>=7.0 in /opt/conda/lib/python3.8/site-packages (from wandb) (7.1.2)\n",
      "Requirement already satisfied: psutil>=5.0.0 in /opt/conda/lib/python3.8/site-packages (from wandb) (5.8.0)\n",
      "Requirement already satisfied: promise<3,>=2.0 in /opt/conda/lib/python3.8/site-packages (from wandb) (2.3)\n",
      "Requirement already satisfied: protobuf>=3.12.0 in /opt/conda/lib/python3.8/site-packages (from wandb) (3.17.2)\n",
      "Requirement already satisfied: requests<3,>=2.0.0 in /opt/conda/lib/python3.8/site-packages (from wandb) (2.25.1)\n",
      "Requirement already satisfied: python-dateutil>=2.6.1 in /opt/conda/lib/python3.8/site-packages (from wandb) (2.8.1)\n",
      "Requirement already satisfied: sentry-sdk>=0.4.0 in /opt/conda/lib/python3.8/site-packages (from wandb) (1.1.0)\n",
      "Requirement already satisfied: PyYAML in /opt/conda/lib/python3.8/site-packages (from wandb) (5.4.1)\n",
      "Requirement already satisfied: configparser>=3.8.1 in /opt/conda/lib/python3.8/site-packages (from wandb) (5.0.2)\n",
      "Requirement already satisfied: gitdb<5,>=4.0.1 in /opt/conda/lib/python3.8/site-packages (from GitPython>=1.0.0->wandb) (4.0.7)\n",
      "Requirement already satisfied: smmap<5,>=3.0.1 in /opt/conda/lib/python3.8/site-packages (from gitdb<5,>=4.0.1->GitPython>=1.0.0->wandb) (4.0.0)\n",
      "Requirement already satisfied: idna<3,>=2.5 in /opt/conda/lib/python3.8/site-packages (from requests<3,>=2.0.0->wandb) (2.10)\n",
      "Requirement already satisfied: certifi>=2017.4.17 in /opt/conda/lib/python3.8/site-packages (from requests<3,>=2.0.0->wandb) (2021.5.30)\n",
      "Requirement already satisfied: urllib3<1.27,>=1.21.1 in /opt/conda/lib/python3.8/site-packages (from requests<3,>=2.0.0->wandb) (1.26.4)\n",
      "Requirement already satisfied: chardet<5,>=3.0.2 in /opt/conda/lib/python3.8/site-packages (from requests<3,>=2.0.0->wandb) (4.0.0)\n",
      "\u001b[33mWARNING: Running pip as root will break packages and permissions. You should install packages reliably by using venv: https://pip.pypa.io/warnings/venv\u001b[0m\n"
     ]
    }
   ],
   "source": [
    "!pip install wandb\n",
    "# wandb login"
   ]
  },
  {
   "cell_type": "code",
   "execution_count": 5,
   "id": "6f2b2930",
   "metadata": {},
   "outputs": [
    {
     "name": "stderr",
     "output_type": "stream",
     "text": [
      "\u001b[34m\u001b[1mwandb\u001b[0m: Currently logged in as: \u001b[33mjyotik\u001b[0m (use `wandb login --relogin` to force relogin)\n"
     ]
    },
    {
     "data": {
      "text/plain": [
       "True"
      ]
     },
     "execution_count": 5,
     "metadata": {},
     "output_type": "execute_result"
    }
   ],
   "source": [
    "import wandb\n",
    "wandb.login()"
   ]
  },
  {
   "cell_type": "code",
   "execution_count": 6,
   "id": "c49f56ed",
   "metadata": {},
   "outputs": [
    {
     "data": {
      "text/html": [
       "\n",
       "                Tracking run with wandb version 0.10.33<br/>\n",
       "                Syncing run <strong style=\"color:#cdcd00\">azure-dust-20</strong> to <a href=\"https://wandb.ai\" target=\"_blank\">Weights & Biases</a> <a href=\"https://docs.wandb.com/integrations/jupyter.html\" target=\"_blank\">(Documentation)</a>.<br/>\n",
       "                Project page: <a href=\"https://wandb.ai/jyotik/hw09-w251-ddp\" target=\"_blank\">https://wandb.ai/jyotik/hw09-w251-ddp</a><br/>\n",
       "                Run page: <a href=\"https://wandb.ai/jyotik/hw09-w251-ddp/runs/p26kt194\" target=\"_blank\">https://wandb.ai/jyotik/hw09-w251-ddp/runs/p26kt194</a><br/>\n",
       "                Run data is saved locally in <code>/app/wandb/run-20210704_155110-p26kt194</code><br/><br/>\n",
       "            "
      ],
      "text/plain": [
       "<IPython.core.display.HTML object>"
      ]
     },
     "metadata": {},
     "output_type": "display_data"
    },
    {
     "data": {
      "text/html": [
       "<h1>Run(p26kt194)</h1><iframe src=\"https://wandb.ai/jyotik/hw09-w251-ddp/runs/p26kt194\" style=\"border:none;width:100%;height:400px\"></iframe>"
      ],
      "text/plain": [
       "<wandb.sdk.wandb_run.Run at 0x7f0a0edb7df0>"
      ]
     },
     "execution_count": 6,
     "metadata": {},
     "output_type": "execute_result"
    }
   ],
   "source": [
    "wandb.init(project=\"hw09-w251-ddp\")"
   ]
  },
  {
   "cell_type": "code",
   "execution_count": 7,
   "id": "cecb2201",
   "metadata": {},
   "outputs": [],
   "source": [
    "import torch.distributed as dist"
   ]
  },
  {
   "cell_type": "code",
   "execution_count": 8,
   "id": "8b68bcd0",
   "metadata": {
    "id": "8cb72e29"
   },
   "outputs": [],
   "source": [
    "# Assume that this notebook only sees one GPU.\n",
    "GPU=0"
   ]
  },
  {
   "cell_type": "code",
   "execution_count": 9,
   "id": "53413fd6",
   "metadata": {
    "executionInfo": {
     "elapsed": 354,
     "status": "ok",
     "timestamp": 1624759889299,
     "user": {
      "displayName": "Dima Rekesh",
      "photoUrl": "https://lh3.googleusercontent.com/a-/AOh14GgCxhnQN9cW764WS8AiJguM8wE5foCZLMjr-NyFuQ=s64",
      "userId": "05362657998610812765"
     },
     "user_tz": 420
    },
    "id": "02d1a0c0"
   },
   "outputs": [],
   "source": [
    "SEED=1"
   ]
  },
  {
   "cell_type": "code",
   "execution_count": 10,
   "id": "5468f00e",
   "metadata": {
    "executionInfo": {
     "elapsed": 17,
     "status": "ok",
     "timestamp": 1624759891917,
     "user": {
      "displayName": "Dima Rekesh",
      "photoUrl": "https://lh3.googleusercontent.com/a-/AOh14GgCxhnQN9cW764WS8AiJguM8wE5foCZLMjr-NyFuQ=s64",
      "userId": "05362657998610812765"
     },
     "user_tz": 420
    },
    "id": "b1b9bfde"
   },
   "outputs": [],
   "source": [
    "random.seed(SEED)\n",
    "torch.manual_seed(SEED)\n",
    "cudnn.deterministic = True"
   ]
  },
  {
   "cell_type": "code",
   "execution_count": 11,
   "id": "8e1471c8",
   "metadata": {
    "colab": {
     "base_uri": "https://localhost:8080/"
    },
    "executionInfo": {
     "elapsed": 230,
     "status": "ok",
     "timestamp": 1624759894660,
     "user": {
      "displayName": "Dima Rekesh",
      "photoUrl": "https://lh3.googleusercontent.com/a-/AOh14GgCxhnQN9cW764WS8AiJguM8wE5foCZLMjr-NyFuQ=s64",
      "userId": "05362657998610812765"
     },
     "user_tz": 420
    },
    "id": "e9eb47a7",
    "outputId": "c49775ff-91ee-488c-d99c-3739e452d6af"
   },
   "outputs": [
    {
     "data": {
      "text/plain": [
       "1"
      ]
     },
     "execution_count": 11,
     "metadata": {},
     "output_type": "execute_result"
    }
   ],
   "source": [
    "torch.cuda.device_count()"
   ]
  },
  {
   "cell_type": "code",
   "execution_count": 12,
   "id": "b10bc4a8",
   "metadata": {
    "id": "073b7b81"
   },
   "outputs": [],
   "source": [
    "START_EPOCH = 0"
   ]
  },
  {
   "cell_type": "code",
   "execution_count": 13,
   "id": "c054cd1e",
   "metadata": {
    "id": "5e18ae51",
    "tags": [
     "parameters"
    ]
   },
   "outputs": [],
   "source": [
    "# ARCH = 'resnet18'\n",
    "ARCH = 'resnet18'\n",
    "EPOCHS = 200\n",
    "LR = 0.1\n",
    "MOMENTUM = 0.9\n",
    "WEIGHT_DECAY = 1e-4\n",
    "PRINT_FREQ = 50\n",
    "TRAIN_BATCH=256\n",
    "VAL_BATCH=256\n",
    "WORKERS=8\n",
    "TRAINDIR=\"/data/train\"\n",
    "VALDIR=\"/data/val\""
   ]
  },
  {
   "cell_type": "code",
   "execution_count": 14,
   "id": "26dfaab5",
   "metadata": {},
   "outputs": [
    {
     "data": {
      "text/html": [
       "Finishing last run (ID:p26kt194) before initializing another..."
      ],
      "text/plain": [
       "<IPython.core.display.HTML object>"
      ]
     },
     "metadata": {},
     "output_type": "display_data"
    },
    {
     "data": {
      "text/html": [
       "<br/>Waiting for W&B process to finish, PID 3150<br/>Program ended successfully."
      ],
      "text/plain": [
       "<IPython.core.display.HTML object>"
      ]
     },
     "metadata": {},
     "output_type": "display_data"
    },
    {
     "data": {
      "text/html": [
       "Find user logs for this run at: <code>/app/wandb/run-20210704_155110-p26kt194/logs/debug.log</code>"
      ],
      "text/plain": [
       "<IPython.core.display.HTML object>"
      ]
     },
     "metadata": {},
     "output_type": "display_data"
    },
    {
     "data": {
      "text/html": [
       "Find internal logs for this run at: <code>/app/wandb/run-20210704_155110-p26kt194/logs/debug-internal.log</code>"
      ],
      "text/plain": [
       "<IPython.core.display.HTML object>"
      ]
     },
     "metadata": {},
     "output_type": "display_data"
    },
    {
     "data": {
      "text/html": [
       "Synced 4 W&B file(s), 0 media file(s), 0 artifact file(s) and 0 other file(s)"
      ],
      "text/plain": [
       "<IPython.core.display.HTML object>"
      ]
     },
     "metadata": {},
     "output_type": "display_data"
    },
    {
     "data": {
      "text/html": [
       "\n",
       "                    <br/>Synced <strong style=\"color:#cdcd00\">azure-dust-20</strong>: <a href=\"https://wandb.ai/jyotik/hw09-w251-ddp/runs/p26kt194\" target=\"_blank\">https://wandb.ai/jyotik/hw09-w251-ddp/runs/p26kt194</a><br/>\n",
       "                "
      ],
      "text/plain": [
       "<IPython.core.display.HTML object>"
      ]
     },
     "metadata": {},
     "output_type": "display_data"
    },
    {
     "data": {
      "text/html": [
       "...Successfully finished last run (ID:p26kt194). Initializing new run:<br/><br/>"
      ],
      "text/plain": [
       "<IPython.core.display.HTML object>"
      ]
     },
     "metadata": {},
     "output_type": "display_data"
    },
    {
     "data": {
      "text/html": [
       "\n",
       "                Tracking run with wandb version 0.10.33<br/>\n",
       "                Syncing run <strong style=\"color:#cdcd00\">gallant-armadillo-29</strong> to <a href=\"https://wandb.ai\" target=\"_blank\">Weights & Biases</a> <a href=\"https://docs.wandb.com/integrations/jupyter.html\" target=\"_blank\">(Documentation)</a>.<br/>\n",
       "                Project page: <a href=\"https://wandb.ai/jyotik/uncategorized\" target=\"_blank\">https://wandb.ai/jyotik/uncategorized</a><br/>\n",
       "                Run page: <a href=\"https://wandb.ai/jyotik/uncategorized/runs/jq4dqn61\" target=\"_blank\">https://wandb.ai/jyotik/uncategorized/runs/jq4dqn61</a><br/>\n",
       "                Run data is saved locally in <code>/app/wandb/run-20210704_155112-jq4dqn61</code><br/><br/>\n",
       "            "
      ],
      "text/plain": [
       "<IPython.core.display.HTML object>"
      ]
     },
     "metadata": {},
     "output_type": "display_data"
    },
    {
     "data": {
      "text/html": [
       "<h1>Run(jq4dqn61)</h1><iframe src=\"https://wandb.ai/jyotik/uncategorized/runs/jq4dqn61\" style=\"border:none;width:100%;height:400px\"></iframe>"
      ],
      "text/plain": [
       "<wandb.sdk.wandb_run.Run at 0x7f0a0ed87f70>"
      ]
     },
     "execution_count": 14,
     "metadata": {},
     "output_type": "execute_result"
    }
   ],
   "source": [
    "wandb.init(config={\"epochs\": EPOCHS, \"batch_size\": TRAIN_BATCH, \"momentum\": MOMENTUM, \"WEIGHT_DECAY\": WEIGHT_DECAY, \"arch\": ARCH})"
   ]
  },
  {
   "cell_type": "code",
   "execution_count": 15,
   "id": "cb886968",
   "metadata": {
    "id": "85299ee3"
   },
   "outputs": [],
   "source": [
    "TRAINDIR=\"/data/train\"\n",
    "VALDIR=\"/data/val\""
   ]
  },
  {
   "cell_type": "code",
   "execution_count": 16,
   "id": "326c6096",
   "metadata": {
    "colab": {
     "base_uri": "https://localhost:8080/"
    },
    "executionInfo": {
     "elapsed": 137,
     "status": "ok",
     "timestamp": 1622949197302,
     "user": {
      "displayName": "Jayanth Srinivasa",
      "photoUrl": "",
      "userId": "03369694624178485882"
     },
     "user_tz": 420
    },
    "id": "c6bf6a83",
    "outputId": "72d2e92f-7574-4c0a-c813-288cd69eaa36"
   },
   "outputs": [],
   "source": [
    "if not torch.cuda.is_available():\n",
    "    print('GPU not detected.. did you pass through your GPU?')"
   ]
  },
  {
   "cell_type": "code",
   "execution_count": 17,
   "id": "62ca7b4c",
   "metadata": {},
   "outputs": [],
   "source": [
    "# how many processes in cluster?\n",
    "WORLD_SIZE = 2\n",
    "BACKEND = 'nccl'\n",
    "# where is the master?\n",
    "#URL = 'tcp://13.57.216.199:1234'\n",
    "URL = 'tcp://13.57.177.94:1234'"
   ]
  },
  {
   "cell_type": "code",
   "execution_count": 18,
   "id": "6920ccfa",
   "metadata": {},
   "outputs": [],
   "source": [
    "#what is my rank?\n",
    "#RANK = 0\n",
    "RANK = 1"
   ]
  },
  {
   "cell_type": "code",
   "execution_count": 19,
   "id": "6535b84c",
   "metadata": {
    "id": "68491838"
   },
   "outputs": [],
   "source": [
    "dist.init_process_group(backend = BACKEND, init_method= URL,\n",
    "                                world_size= WORLD_SIZE, rank=RANK)"
   ]
  },
  {
   "cell_type": "code",
   "execution_count": 20,
   "id": "1d77a040",
   "metadata": {
    "id": "acd97390"
   },
   "outputs": [],
   "source": [
    "#torch.cuda.set_device('cpu')\n",
    "torch.cuda.set_device(GPU)"
   ]
  },
  {
   "cell_type": "code",
   "execution_count": 21,
   "id": "ad14f7ee",
   "metadata": {
    "id": "e19a5849"
   },
   "outputs": [],
   "source": [
    "cudnn.benchmark = True"
   ]
  },
  {
   "cell_type": "code",
   "execution_count": 22,
   "id": "87ea3275",
   "metadata": {},
   "outputs": [],
   "source": [
    "global_step = 0"
   ]
  },
  {
   "cell_type": "code",
   "execution_count": 23,
   "id": "ebfb3653",
   "metadata": {
    "id": "4e65743f"
   },
   "outputs": [],
   "source": [
    "def train(train_loader, model, criterion, optimizer, epoch):\n",
    "    global global_step\n",
    "    batch_time = AverageMeter('Time', ':6.3f')\n",
    "    data_time = AverageMeter('Data', ':6.3f')\n",
    "    losses = AverageMeter('Loss', ':.4e')\n",
    "    top1 = AverageMeter('Acc@1', ':6.2f')\n",
    "    top5 = AverageMeter('Acc@5', ':6.2f')\n",
    "    progress = ProgressMeter(\n",
    "        len(train_loader),\n",
    "        [batch_time, data_time, losses, top1, top5],\n",
    "        prefix=\"Epoch: [{}]\".format(epoch))\n",
    "\n",
    "    # Grad Scaler\n",
    "    scaler = GradScaler()\n",
    "    \n",
    "    # switch to train mode\n",
    "    model.train()\n",
    "\n",
    "    end = time.time()\n",
    "    for i, (images, target) in enumerate(train_loader):\n",
    "        # measure data loading time\n",
    "        data_time.update(time.time() - end)\n",
    "\n",
    "        if GPU is not None:\n",
    "            images = images.cuda(GPU, non_blocking=True)\n",
    "        if torch.cuda.is_available():\n",
    "            target = target.cuda(GPU, non_blocking=True)\n",
    "\n",
    "        # compute output\n",
    "        with autocast():\n",
    "            output = model(images)\n",
    "            loss = criterion(output, target)\n",
    "\n",
    "        # measure accuracy and record loss\n",
    "        acc1, acc5 = accuracy(output, target, topk=(1, 5))\n",
    "        losses.update(loss.item(), images.size(0))\n",
    "        top1.update(acc1[0], images.size(0))\n",
    "        top5.update(acc5[0], images.size(0))\n",
    "\n",
    "        # compute gradient and do SGD step\n",
    "        #optimizer.zero_grad()\n",
    "        #loss.backward()\n",
    "        #optimizer.step()\n",
    "        \n",
    "        # use the scaler\n",
    "        scaler.scale(loss).backward()\n",
    "        scaler.step(optimizer)\n",
    "        scaler.update()\n",
    "\n",
    "        # measure elapsed time\n",
    "        batch_time.update(time.time() - end)\n",
    "        end = time.time()\n",
    "        wandb.log({\"Loss/train\": loss, 'acc1/train': top1.avg, 'acc5/train': top5.avg})\n",
    "        \n",
    "        writer.add_scalar(\"Loss/train\", loss, global_step = global_step)\n",
    "        writer.add_scalar(\"acc1/train\", top1.avg, global_step = global_step)\n",
    "        writer.add_scalar(\"acc5/train\", top5.avg, global_step = global_step)\n",
    "        global_step = global_step + 1\n",
    "\n",
    "        if i % PRINT_FREQ == 0:\n",
    "            progress.display(i)"
   ]
  },
  {
   "cell_type": "code",
   "execution_count": 24,
   "id": "79213ce9",
   "metadata": {
    "id": "ab30a1a4"
   },
   "outputs": [],
   "source": [
    "def validate(val_loader, model, criterion):\n",
    "    global global_step\n",
    "    batch_time = AverageMeter('Time', ':6.3f')\n",
    "    losses = AverageMeter('Loss', ':.4e')\n",
    "    top1 = AverageMeter('Acc@1', ':6.2f')\n",
    "    top5 = AverageMeter('Acc@5', ':6.2f')\n",
    "    progress = ProgressMeter(\n",
    "        len(val_loader),\n",
    "        [batch_time, losses, top1, top5],\n",
    "        prefix='Test: ')\n",
    "\n",
    "    # switch to evaluate mode\n",
    "    model.eval()\n",
    "\n",
    "    with torch.no_grad():\n",
    "        end = time.time()\n",
    "        for i, (images, target) in enumerate(val_loader):\n",
    "            if GPU is not None:\n",
    "                images = images.cuda(GPU, non_blocking=True)\n",
    "            if torch.cuda.is_available():\n",
    "                target = target.cuda(GPU, non_blocking=True)\n",
    "\n",
    "            # compute output\n",
    "            output = model(images)\n",
    "            loss = criterion(output, target)\n",
    "\n",
    "            # measure accuracy and record loss\n",
    "            acc1, acc5 = accuracy(output, target, topk=(1, 5))\n",
    "            losses.update(loss.item(), images.size(0))\n",
    "            top1.update(acc1[0], images.size(0))\n",
    "            top5.update(acc5[0], images.size(0))\n",
    "\n",
    "            # measure elapsed time\n",
    "            batch_time.update(time.time() - end)\n",
    "            end = time.time()\n",
    "\n",
    "            if i % PRINT_FREQ == 0:\n",
    "                progress.display(i)\n",
    "\n",
    "        # TODO: this should also be done with the ProgressMeter\n",
    "        print(' * Acc@1 {top1.avg:.3f} Acc@5 {top5.avg:.3f}'\n",
    "              .format(top1=top1, top5=top5))\n",
    "\n",
    "    writer.add_scalar(\"Loss/val\", losses.avg, global_step = global_step)\n",
    "    writer.add_scalar(\"acc1/val\", top1.avg, global_step = global_step)\n",
    "    writer.add_scalar(\"acc5/val\", top5.avg, global_step = global_step)\n",
    "    \n",
    "    wandb.log({\"Loss/val\": losses.avg, 'acc1/val': top1.avg, 'acc5/val': top5.avg})\n",
    "    return top1.avg"
   ]
  },
  {
   "cell_type": "code",
   "execution_count": 25,
   "id": "2944362e",
   "metadata": {
    "id": "afa7d9fd"
   },
   "outputs": [],
   "source": [
    "def save_checkpoint(state, is_best, filename='checkpoint.pth.tar'):\n",
    "    torch.save(state, filename)\n",
    "    if is_best:\n",
    "        shutil.copyfile(filename, 'model_best.pth.tar')"
   ]
  },
  {
   "cell_type": "code",
   "execution_count": 26,
   "id": "6349aae5",
   "metadata": {
    "id": "8c5f0ab4"
   },
   "outputs": [],
   "source": [
    "class AverageMeter(object):\n",
    "    \"\"\"Computes and stores the average and current value\"\"\"\n",
    "    def __init__(self, name, fmt=':f'):\n",
    "        self.name = name\n",
    "        self.fmt = fmt\n",
    "        self.reset()\n",
    "\n",
    "    def reset(self):\n",
    "        self.val = 0\n",
    "        self.avg = 0\n",
    "        self.sum = 0\n",
    "        self.count = 0\n",
    "\n",
    "    def update(self, val, n=1):\n",
    "        self.val = val\n",
    "        self.sum += val * n\n",
    "        self.count += n\n",
    "        self.avg = self.sum / self.count\n",
    "\n",
    "    def __str__(self):\n",
    "        fmtstr = '{name} {val' + self.fmt + '} ({avg' + self.fmt + '})'\n",
    "        return fmtstr.format(**self.__dict__)"
   ]
  },
  {
   "cell_type": "code",
   "execution_count": 27,
   "id": "94a6a9ef",
   "metadata": {
    "id": "ce30c86a"
   },
   "outputs": [],
   "source": [
    "class ProgressMeter(object):\n",
    "    def __init__(self, num_batches, meters, prefix=\"\"):\n",
    "        self.batch_fmtstr = self._get_batch_fmtstr(num_batches)\n",
    "        self.meters = meters\n",
    "        self.prefix = prefix\n",
    "\n",
    "    def display(self, batch):\n",
    "        entries = [self.prefix + self.batch_fmtstr.format(batch)]\n",
    "        entries += [str(meter) for meter in self.meters]\n",
    "        print('\\t'.join(entries))\n",
    "\n",
    "    def _get_batch_fmtstr(self, num_batches):\n",
    "        num_digits = len(str(num_batches // 1))\n",
    "        fmt = '{:' + str(num_digits) + 'd}'\n",
    "        return '[' + fmt + '/' + fmt.format(num_batches) + ']'"
   ]
  },
  {
   "cell_type": "code",
   "execution_count": 28,
   "id": "70d732da",
   "metadata": {
    "id": "7504ce7a"
   },
   "outputs": [],
   "source": [
    "def adjust_learning_rate(optimizer, epoch):\n",
    "    \"\"\"Sets the learning rate to the initial LR decayed by 10 every 30 epochs\"\"\"\n",
    "    lr = LR * (0.1 ** (epoch // 30))\n",
    "    for param_group in optimizer.param_groups:\n",
    "        param_group['lr'] = lr"
   ]
  },
  {
   "cell_type": "code",
   "execution_count": 29,
   "id": "d3c3ae98",
   "metadata": {
    "id": "0d659923"
   },
   "outputs": [],
   "source": [
    "def accuracy(output, target, topk=(1,)):\n",
    "    \"\"\"Computes the accuracy over the k top predictions for the specified values of k\"\"\"\n",
    "    with torch.no_grad():\n",
    "        maxk = max(topk)\n",
    "        batch_size = target.size(0)\n",
    "\n",
    "        _, pred = output.topk(maxk, 1, True, True)\n",
    "        pred = pred.t()\n",
    "        correct = pred.eq(target.view(1, -1).expand_as(pred))\n",
    "\n",
    "        res = []\n",
    "        for k in topk:\n",
    "            correct_k = correct[:k].reshape(-1).float().sum(0, keepdim=True)\n",
    "            res.append(correct_k.mul_(100.0 / batch_size))\n",
    "        return res"
   ]
  },
  {
   "cell_type": "code",
   "execution_count": 30,
   "id": "a4005b80",
   "metadata": {
    "id": "f74f06e1"
   },
   "outputs": [],
   "source": [
    "imagenet_mean_RGB = [0.47889522, 0.47227842, 0.43047404]\n",
    "imagenet_std_RGB = [0.229, 0.224, 0.225]"
   ]
  },
  {
   "cell_type": "code",
   "execution_count": 31,
   "id": "8d0d6e3a",
   "metadata": {
    "id": "c005e2dd"
   },
   "outputs": [],
   "source": [
    "normalize = transforms.Normalize(mean=imagenet_mean_RGB, std=imagenet_std_RGB)"
   ]
  },
  {
   "cell_type": "code",
   "execution_count": 32,
   "id": "16a625d5",
   "metadata": {
    "id": "29d54592"
   },
   "outputs": [],
   "source": [
    "IMG_SIZE = 224"
   ]
  },
  {
   "cell_type": "code",
   "execution_count": 33,
   "id": "8a34713c",
   "metadata": {
    "id": "94059b7f"
   },
   "outputs": [],
   "source": [
    "NUM_CLASSES = 1000"
   ]
  },
  {
   "cell_type": "code",
   "execution_count": 34,
   "id": "d87ab66a",
   "metadata": {
    "id": "788c0401"
   },
   "outputs": [],
   "source": [
    "model = models.__dict__[ARCH]()"
   ]
  },
  {
   "cell_type": "code",
   "execution_count": 35,
   "id": "622f8889",
   "metadata": {
    "id": "63dc579e"
   },
   "outputs": [],
   "source": [
    "inf = model.fc.in_features"
   ]
  },
  {
   "cell_type": "code",
   "execution_count": 36,
   "id": "b01570d3",
   "metadata": {
    "id": "edf9cf5d"
   },
   "outputs": [],
   "source": [
    "model.fc = nn.Linear(inf, NUM_CLASSES)"
   ]
  },
  {
   "cell_type": "code",
   "execution_count": 37,
   "id": "081fcc54",
   "metadata": {
    "id": "319e2d99"
   },
   "outputs": [],
   "source": [
    "model.cuda(GPU)\n",
    "model = torch.nn.parallel.DistributedDataParallel(model, device_ids=[GPU])\n",
    "# model = torch.nn.parallel.DistributedDataParallel(model)"
   ]
  },
  {
   "cell_type": "code",
   "execution_count": 38,
   "id": "55aece6d",
   "metadata": {
    "id": "b8dc59b5"
   },
   "outputs": [],
   "source": [
    "criterion = nn.CrossEntropyLoss().cuda(GPU)"
   ]
  },
  {
   "cell_type": "code",
   "execution_count": 39,
   "id": "87d510f3",
   "metadata": {
    "id": "3999d84a"
   },
   "outputs": [],
   "source": [
    "optimizer = torch.optim.SGD(model.parameters(), LR,\n",
    "                                momentum=MOMENTUM,\n",
    "                                weight_decay=WEIGHT_DECAY)"
   ]
  },
  {
   "cell_type": "code",
   "execution_count": 40,
   "id": "df375b6b",
   "metadata": {
    "id": "9fae338b"
   },
   "outputs": [],
   "source": [
    "scheduler = torch.optim.lr_scheduler.CosineAnnealingLR(optimizer, T_max=EPOCHS)"
   ]
  },
  {
   "cell_type": "code",
   "execution_count": 41,
   "id": "3caa486f",
   "metadata": {
    "id": "34dbcdb1"
   },
   "outputs": [],
   "source": [
    "#transform_train = transforms.Compose([\n",
    "#    transforms.Resize(256),\n",
    "#    transforms.RandomResizedCrop(224),\n",
    "#    transforms.CenterCrop(224),\n",
    "#    transforms.RandomHorizontalFlip(),\n",
    "#    transforms.ToTensor(),\n",
    "#    transforms.Normalize(imagenet_mean_RGB, imagenet_std_RGB),\n",
    "#])"
   ]
  },
  {
   "cell_type": "code",
   "execution_count": 42,
   "id": "4cb0bd14",
   "metadata": {
    "id": "e5275a69"
   },
   "outputs": [],
   "source": [
    "#train_dataset = datasets.ImageFolder(\n",
    "#    TRAINDIR, transform=transform_train)"
   ]
  },
  {
   "cell_type": "code",
   "execution_count": 43,
   "id": "5e8f6bc2",
   "metadata": {},
   "outputs": [],
   "source": [
    "train_dataset = datasets.ImageFolder(\n",
    "    TRAINDIR,\n",
    "    transforms.Compose([\n",
    "        transforms.Resize(256),\n",
    "        transforms.RandomResizedCrop(224),\n",
    "        transforms.CenterCrop(224),\n",
    "        transforms.RandomHorizontalFlip(),\n",
    "        transforms.ToTensor(),\n",
    "        normalize,\n",
    "    ])\n",
    ")"
   ]
  },
  {
   "cell_type": "code",
   "execution_count": 44,
   "id": "b3ad2799",
   "metadata": {
    "id": "854ca1ad"
   },
   "outputs": [],
   "source": [
    "#transform_val = transforms.Compose([\n",
    "#    transforms.Resize(256),\n",
    "#    transforms.CenterCrop(224),\n",
    "#    transforms.ToTensor(),\n",
    "#    transforms.Normalize(imagenet_mean_RGB, imagenet_std_RGB),\n",
    "#])"
   ]
  },
  {
   "cell_type": "code",
   "execution_count": 45,
   "id": "ccaf065d",
   "metadata": {
    "id": "abfa5fb6"
   },
   "outputs": [],
   "source": [
    "#val_dataset = datasets.ImageFolder(\n",
    "#    VALDIR, transform=transform_val)"
   ]
  },
  {
   "cell_type": "code",
   "execution_count": 46,
   "id": "5befab6f",
   "metadata": {},
   "outputs": [],
   "source": [
    "val_dataset = datasets.ImageFolder(\n",
    "    VALDIR,\n",
    "    transforms.Compose([\n",
    "        transforms.Resize(256),\n",
    "        transforms.CenterCrop(224),\n",
    "        transforms.ToTensor(),\n",
    "        normalize,\n",
    "    ])\n",
    ")"
   ]
  },
  {
   "cell_type": "code",
   "execution_count": 47,
   "id": "3d4a9ee6",
   "metadata": {
    "id": "07a0bdf4"
   },
   "outputs": [],
   "source": [
    "train_loader = torch.utils.data.DataLoader(\n",
    "        train_dataset, batch_size=TRAIN_BATCH, shuffle=False,\n",
    "        num_workers=WORKERS, pin_memory=True, sampler=torch.utils.data.distributed.DistributedSampler(train_dataset))"
   ]
  },
  {
   "cell_type": "code",
   "execution_count": 48,
   "id": "63a0916d",
   "metadata": {
    "id": "192ae835"
   },
   "outputs": [],
   "source": [
    "val_loader = torch.utils.data.DataLoader(\n",
    "        val_dataset, batch_size=VAL_BATCH, shuffle=False,\n",
    "        num_workers=WORKERS, pin_memory=True, sampler=torch.utils.data.distributed.DistributedSampler(val_dataset)) "
   ]
  },
  {
   "cell_type": "code",
   "execution_count": 49,
   "id": "7baeafc8",
   "metadata": {
    "id": "1502c5db"
   },
   "outputs": [],
   "source": [
    "best_acc1 = 0"
   ]
  },
  {
   "cell_type": "code",
   "execution_count": 50,
   "id": "b56ff9dc",
   "metadata": {
    "id": "ceb95e07"
   },
   "outputs": [
    {
     "name": "stderr",
     "output_type": "stream",
     "text": [
      "/opt/conda/lib/python3.8/site-packages/torch/nn/functional.py:718: UserWarning: Named tensors and all their associated APIs are an experimental feature and subject to change. Please do not use them for anything important until they are released as stable. (Triggered internally at  ../c10/core/TensorImpl.h:1153.)\n",
      "  return torch.max_pool2d(input, kernel_size, stride, padding, dilation, ceil_mode)\n"
     ]
    },
    {
     "name": "stdout",
     "output_type": "stream",
     "text": [
      "Epoch: [0][   0/2503]\tTime 14.148 (14.148)\tData  3.674 ( 3.674)\tLoss 7.0252e+00 (7.0252e+00)\tAcc@1   0.00 (  0.00)\tAcc@5   0.39 (  0.39)\n",
      "Epoch: [0][  50/2503]\tTime  0.371 ( 0.624)\tData  0.002 ( 0.074)\tLoss 6.7622e+00 (6.9440e+00)\tAcc@1   1.17 (  0.21)\tAcc@5   3.91 (  1.02)\n",
      "Epoch: [0][ 100/2503]\tTime  0.345 ( 0.491)\tData  0.002 ( 0.039)\tLoss 6.6621e+00 (6.8187e+00)\tAcc@1   0.78 (  0.41)\tAcc@5   2.34 (  1.71)\n",
      "Epoch: [0][ 150/2503]\tTime  0.347 ( 0.446)\tData  0.002 ( 0.027)\tLoss 6.4812e+00 (6.7205e+00)\tAcc@1   1.17 (  0.57)\tAcc@5   3.91 (  2.29)\n",
      "Epoch: [0][ 200/2503]\tTime  0.367 ( 0.424)\tData  0.002 ( 0.021)\tLoss 6.4402e+00 (6.6353e+00)\tAcc@1   0.00 (  0.80)\tAcc@5   3.52 (  2.95)\n",
      "Epoch: [0][ 250/2503]\tTime  0.344 ( 0.411)\tData  0.002 ( 0.017)\tLoss 6.1696e+00 (6.5514e+00)\tAcc@1   1.95 (  1.00)\tAcc@5   6.64 (  3.63)\n"
     ]
    },
    {
     "name": "stderr",
     "output_type": "stream",
     "text": [
      "/opt/conda/lib/python3.8/site-packages/PIL/TiffImagePlugin.py:788: UserWarning: Corrupt EXIF data.  Expecting to read 4 bytes but only got 0. \n",
      "  warnings.warn(str(msg))\n"
     ]
    },
    {
     "name": "stdout",
     "output_type": "stream",
     "text": [
      "Epoch: [0][ 300/2503]\tTime  0.343 ( 0.402)\tData  0.002 ( 0.015)\tLoss 6.1438e+00 (6.4739e+00)\tAcc@1   2.73 (  1.19)\tAcc@5   5.08 (  4.26)\n",
      "Epoch: [0][ 350/2503]\tTime  0.378 ( 0.395)\tData  0.003 ( 0.013)\tLoss 6.1019e+00 (6.4061e+00)\tAcc@1   2.34 (  1.40)\tAcc@5   8.20 (  4.91)\n",
      "Epoch: [0][ 400/2503]\tTime  0.349 ( 0.391)\tData  0.002 ( 0.012)\tLoss 5.7108e+00 (6.3431e+00)\tAcc@1   3.12 (  1.60)\tAcc@5  12.11 (  5.49)\n",
      "Epoch: [0][ 450/2503]\tTime  0.343 ( 0.387)\tData  0.002 ( 0.011)\tLoss 5.7403e+00 (6.2829e+00)\tAcc@1   2.73 (  1.79)\tAcc@5   9.38 (  6.13)\n",
      "Epoch: [0][ 500/2503]\tTime  0.373 ( 0.385)\tData  0.003 ( 0.010)\tLoss 5.7713e+00 (6.2242e+00)\tAcc@1   1.95 (  2.00)\tAcc@5  10.94 (  6.78)\n",
      "Epoch: [0][ 550/2503]\tTime  0.389 ( 0.382)\tData  0.004 ( 0.009)\tLoss 5.6150e+00 (6.1699e+00)\tAcc@1   3.52 (  2.21)\tAcc@5  13.28 (  7.36)\n",
      "Epoch: [0][ 600/2503]\tTime  0.349 ( 0.380)\tData  0.002 ( 0.009)\tLoss 5.5668e+00 (6.1193e+00)\tAcc@1   4.30 (  2.43)\tAcc@5  14.84 (  7.95)\n",
      "Epoch: [0][ 650/2503]\tTime  0.346 ( 0.379)\tData  0.002 ( 0.008)\tLoss 5.4673e+00 (6.0711e+00)\tAcc@1   8.59 (  2.63)\tAcc@5  18.75 (  8.53)\n",
      "Epoch: [0][ 700/2503]\tTime  0.348 ( 0.378)\tData  0.002 ( 0.008)\tLoss 5.5879e+00 (6.0225e+00)\tAcc@1   8.98 (  2.87)\tAcc@5  14.06 (  9.12)\n",
      "Epoch: [0][ 750/2503]\tTime  0.344 ( 0.376)\tData  0.002 ( 0.007)\tLoss 5.2155e+00 (5.9781e+00)\tAcc@1   9.77 (  3.11)\tAcc@5  19.14 (  9.67)\n",
      "Epoch: [0][ 800/2503]\tTime  0.370 ( 0.375)\tData  0.003 ( 0.007)\tLoss 5.4147e+00 (5.9377e+00)\tAcc@1   5.47 (  3.32)\tAcc@5  16.80 ( 10.23)\n",
      "Epoch: [0][ 850/2503]\tTime  0.343 ( 0.374)\tData  0.002 ( 0.007)\tLoss 5.2784e+00 (5.8956e+00)\tAcc@1   7.03 (  3.54)\tAcc@5  23.05 ( 10.82)\n",
      "Epoch: [0][ 900/2503]\tTime  0.350 ( 0.374)\tData  0.002 ( 0.007)\tLoss 5.1784e+00 (5.8587e+00)\tAcc@1   8.59 (  3.74)\tAcc@5  21.88 ( 11.32)\n",
      "Epoch: [0][ 950/2503]\tTime  0.351 ( 0.373)\tData  0.002 ( 0.006)\tLoss 5.1221e+00 (5.8206e+00)\tAcc@1   9.77 (  3.97)\tAcc@5  23.83 ( 11.84)\n",
      "Epoch: [0][1000/2503]\tTime  0.349 ( 0.372)\tData  0.002 ( 0.006)\tLoss 5.0370e+00 (5.7849e+00)\tAcc@1   9.38 (  4.19)\tAcc@5  25.39 ( 12.37)\n",
      "Epoch: [0][1050/2503]\tTime  0.368 ( 0.372)\tData  0.002 ( 0.006)\tLoss 5.1912e+00 (5.7503e+00)\tAcc@1   5.86 (  4.39)\tAcc@5  21.48 ( 12.86)\n",
      "Epoch: [0][1100/2503]\tTime  0.368 ( 0.371)\tData  0.002 ( 0.006)\tLoss 5.0106e+00 (5.7161e+00)\tAcc@1   8.98 (  4.61)\tAcc@5  23.44 ( 13.34)\n",
      "Epoch: [0][1150/2503]\tTime  0.344 ( 0.370)\tData  0.003 ( 0.006)\tLoss 4.9363e+00 (5.6818e+00)\tAcc@1  10.94 (  4.85)\tAcc@5  20.70 ( 13.86)\n",
      "Epoch: [0][1200/2503]\tTime  0.370 ( 0.370)\tData  0.003 ( 0.006)\tLoss 4.7764e+00 (5.6499e+00)\tAcc@1  12.11 (  5.06)\tAcc@5  27.34 ( 14.33)\n",
      "Epoch: [0][1250/2503]\tTime  0.366 ( 0.369)\tData  0.003 ( 0.005)\tLoss 4.9302e+00 (5.6186e+00)\tAcc@1   9.77 (  5.28)\tAcc@5  25.00 ( 14.84)\n",
      "Epoch: [0][1300/2503]\tTime  0.379 ( 0.369)\tData  0.004 ( 0.005)\tLoss 4.6851e+00 (5.5872e+00)\tAcc@1  10.16 (  5.51)\tAcc@5  27.73 ( 15.33)\n",
      "Epoch: [0][1350/2503]\tTime  0.367 ( 0.369)\tData  0.003 ( 0.005)\tLoss 4.8588e+00 (5.5577e+00)\tAcc@1  10.16 (  5.72)\tAcc@5  26.56 ( 15.77)\n",
      "Epoch: [0][1400/2503]\tTime  0.352 ( 0.368)\tData  0.002 ( 0.005)\tLoss 4.7828e+00 (5.5282e+00)\tAcc@1  11.33 (  5.93)\tAcc@5  25.39 ( 16.21)\n",
      "Epoch: [0][1450/2503]\tTime  0.380 ( 0.368)\tData  0.003 ( 0.005)\tLoss 4.7210e+00 (5.4988e+00)\tAcc@1  13.67 (  6.16)\tAcc@5  30.47 ( 16.69)\n",
      "Epoch: [0][1500/2503]\tTime  0.368 ( 0.368)\tData  0.003 ( 0.005)\tLoss 4.3909e+00 (5.4703e+00)\tAcc@1  14.45 (  6.40)\tAcc@5  37.89 ( 17.15)\n",
      "Epoch: [0][1550/2503]\tTime  0.369 ( 0.368)\tData  0.002 ( 0.005)\tLoss 4.6628e+00 (5.4431e+00)\tAcc@1   8.59 (  6.61)\tAcc@5  27.73 ( 17.60)\n",
      "Epoch: [0][1600/2503]\tTime  0.344 ( 0.367)\tData  0.002 ( 0.005)\tLoss 4.5899e+00 (5.4163e+00)\tAcc@1  15.23 (  6.82)\tAcc@5  33.20 ( 18.03)\n",
      "Epoch: [0][1650/2503]\tTime  0.344 ( 0.367)\tData  0.002 ( 0.005)\tLoss 4.5067e+00 (5.3902e+00)\tAcc@1  16.41 (  7.04)\tAcc@5  35.55 ( 18.46)\n",
      "Epoch: [0][1700/2503]\tTime  0.344 ( 0.367)\tData  0.002 ( 0.005)\tLoss 4.4867e+00 (5.3641e+00)\tAcc@1  12.50 (  7.25)\tAcc@5  29.69 ( 18.90)\n",
      "Epoch: [0][1750/2503]\tTime  0.343 ( 0.367)\tData  0.002 ( 0.005)\tLoss 4.4571e+00 (5.3387e+00)\tAcc@1  16.02 (  7.46)\tAcc@5  36.33 ( 19.32)\n",
      "Epoch: [0][1800/2503]\tTime  0.342 ( 0.366)\tData  0.003 ( 0.005)\tLoss 4.2835e+00 (5.3138e+00)\tAcc@1  17.19 (  7.67)\tAcc@5  36.33 ( 19.72)\n",
      "Epoch: [0][1850/2503]\tTime  0.364 ( 0.366)\tData  0.002 ( 0.005)\tLoss 4.3773e+00 (5.2902e+00)\tAcc@1  16.02 (  7.88)\tAcc@5  35.16 ( 20.12)\n",
      "Epoch: [0][1900/2503]\tTime  0.344 ( 0.366)\tData  0.002 ( 0.004)\tLoss 4.2512e+00 (5.2663e+00)\tAcc@1  18.36 (  8.09)\tAcc@5  36.33 ( 20.52)\n",
      "Epoch: [0][1950/2503]\tTime  0.366 ( 0.366)\tData  0.002 ( 0.004)\tLoss 4.3709e+00 (5.2431e+00)\tAcc@1  15.23 (  8.30)\tAcc@5  32.42 ( 20.90)\n",
      "Epoch: [0][2000/2503]\tTime  0.366 ( 0.366)\tData  0.002 ( 0.004)\tLoss 4.4165e+00 (5.2208e+00)\tAcc@1  14.45 (  8.50)\tAcc@5  32.03 ( 21.29)\n",
      "Epoch: [0][2050/2503]\tTime  0.369 ( 0.366)\tData  0.002 ( 0.004)\tLoss 4.2404e+00 (5.1979e+00)\tAcc@1  19.92 (  8.72)\tAcc@5  41.80 ( 21.68)\n",
      "Epoch: [0][2100/2503]\tTime  0.344 ( 0.365)\tData  0.002 ( 0.004)\tLoss 4.1955e+00 (5.1755e+00)\tAcc@1  19.92 (  8.93)\tAcc@5  41.02 ( 22.07)\n",
      "Epoch: [0][2150/2503]\tTime  0.349 ( 0.365)\tData  0.002 ( 0.004)\tLoss 4.4793e+00 (5.1534e+00)\tAcc@1  12.89 (  9.13)\tAcc@5  34.38 ( 22.45)\n",
      "Epoch: [0][2200/2503]\tTime  0.365 ( 0.365)\tData  0.003 ( 0.004)\tLoss 4.4434e+00 (5.1323e+00)\tAcc@1  16.80 (  9.33)\tAcc@5  36.33 ( 22.80)\n",
      "Epoch: [0][2250/2503]\tTime  0.348 ( 0.365)\tData  0.002 ( 0.004)\tLoss 4.3527e+00 (5.1109e+00)\tAcc@1  14.45 (  9.53)\tAcc@5  36.33 ( 23.18)\n",
      "Epoch: [0][2300/2503]\tTime  0.347 ( 0.365)\tData  0.002 ( 0.004)\tLoss 4.0659e+00 (5.0906e+00)\tAcc@1  18.75 (  9.73)\tAcc@5  42.97 ( 23.52)\n",
      "Epoch: [0][2350/2503]\tTime  0.367 ( 0.365)\tData  0.002 ( 0.004)\tLoss 4.0313e+00 (5.0702e+00)\tAcc@1  18.36 (  9.93)\tAcc@5  38.28 ( 23.87)\n",
      "Epoch: [0][2400/2503]\tTime  0.364 ( 0.365)\tData  0.002 ( 0.004)\tLoss 4.1561e+00 (5.0494e+00)\tAcc@1  17.97 ( 10.13)\tAcc@5  41.02 ( 24.22)\n",
      "Epoch: [0][2450/2503]\tTime  0.384 ( 0.365)\tData  0.002 ( 0.004)\tLoss 4.0533e+00 (5.0304e+00)\tAcc@1  19.92 ( 10.31)\tAcc@5  42.19 ( 24.56)\n",
      "Epoch: [0][2500/2503]\tTime  0.337 ( 0.364)\tData  0.002 ( 0.004)\tLoss 3.9214e+00 (5.0108e+00)\tAcc@1  22.27 ( 10.51)\tAcc@5  44.14 ( 24.90)\n",
      "Test: [ 0/98]\tTime  4.448 ( 4.448)\tLoss 4.3699e+00 (4.3699e+00)\tAcc@1  19.14 ( 19.14)\tAcc@5  38.28 ( 38.28)\n",
      "Test: [50/98]\tTime  0.341 ( 0.320)\tLoss 4.0566e+00 (4.0618e+00)\tAcc@1  19.14 ( 19.51)\tAcc@5  41.02 ( 41.13)\n",
      " * Acc@1 19.332 Acc@5 41.352\n",
      "lr: [0.09999383162408304]\n",
      "Epoch: [1][   0/2503]\tTime  4.569 ( 4.569)\tData  3.175 ( 3.175)\tLoss 4.1191e+00 (4.1191e+00)\tAcc@1  16.02 ( 16.02)\tAcc@5  38.28 ( 38.28)\n",
      "Epoch: [1][  50/2503]\tTime  0.349 ( 0.445)\tData  0.002 ( 0.065)\tLoss 4.0948e+00 (4.0300e+00)\tAcc@1  19.92 ( 20.24)\tAcc@5  37.89 ( 41.80)\n",
      "Epoch: [1][ 100/2503]\tTime  0.379 ( 0.405)\tData  0.002 ( 0.034)\tLoss 4.0641e+00 (4.0128e+00)\tAcc@1  22.27 ( 20.42)\tAcc@5  45.31 ( 42.34)\n",
      "Epoch: [1][ 150/2503]\tTime  0.363 ( 0.390)\tData  0.002 ( 0.024)\tLoss 3.9742e+00 (4.0052e+00)\tAcc@1  21.09 ( 20.59)\tAcc@5  40.62 ( 42.40)\n",
      "Epoch: [1][ 200/2503]\tTime  0.386 ( 0.382)\tData  0.003 ( 0.018)\tLoss 4.2097e+00 (3.9925e+00)\tAcc@1  15.23 ( 20.76)\tAcc@5  35.16 ( 42.68)\n",
      "Epoch: [1][ 250/2503]\tTime  0.370 ( 0.378)\tData  0.003 ( 0.015)\tLoss 3.9442e+00 (3.9828e+00)\tAcc@1  19.53 ( 20.80)\tAcc@5  42.58 ( 42.86)\n"
     ]
    },
    {
     "name": "stderr",
     "output_type": "stream",
     "text": [
      "/opt/conda/lib/python3.8/site-packages/PIL/TiffImagePlugin.py:788: UserWarning: Corrupt EXIF data.  Expecting to read 4 bytes but only got 0. \n",
      "  warnings.warn(str(msg))\n"
     ]
    },
    {
     "name": "stdout",
     "output_type": "stream",
     "text": [
      "Epoch: [1][ 300/2503]\tTime  0.369 ( 0.375)\tData  0.002 ( 0.013)\tLoss 4.1487e+00 (3.9719e+00)\tAcc@1  19.53 ( 20.94)\tAcc@5  39.84 ( 43.12)\n",
      "Epoch: [1][ 350/2503]\tTime  0.348 ( 0.373)\tData  0.002 ( 0.012)\tLoss 4.0946e+00 (3.9610e+00)\tAcc@1  20.70 ( 21.11)\tAcc@5  40.23 ( 43.39)\n",
      "Epoch: [1][ 400/2503]\tTime  0.347 ( 0.371)\tData  0.002 ( 0.011)\tLoss 3.8892e+00 (3.9562e+00)\tAcc@1  25.00 ( 21.22)\tAcc@5  44.92 ( 43.51)\n",
      "Epoch: [1][ 450/2503]\tTime  0.347 ( 0.370)\tData  0.002 ( 0.010)\tLoss 3.8615e+00 (3.9478e+00)\tAcc@1  24.22 ( 21.39)\tAcc@5  48.44 ( 43.69)\n",
      "Epoch: [1][ 500/2503]\tTime  0.344 ( 0.369)\tData  0.002 ( 0.009)\tLoss 3.7865e+00 (3.9369e+00)\tAcc@1  26.17 ( 21.55)\tAcc@5  50.39 ( 43.93)\n",
      "Epoch: [1][ 550/2503]\tTime  0.354 ( 0.368)\tData  0.002 ( 0.008)\tLoss 3.5855e+00 (3.9243e+00)\tAcc@1  25.78 ( 21.74)\tAcc@5  47.27 ( 44.19)\n",
      "Epoch: [1][ 600/2503]\tTime  0.375 ( 0.367)\tData  0.002 ( 0.008)\tLoss 3.6673e+00 (3.9120e+00)\tAcc@1  28.12 ( 21.95)\tAcc@5  48.83 ( 44.42)\n",
      "Epoch: [1][ 650/2503]\tTime  0.344 ( 0.367)\tData  0.002 ( 0.008)\tLoss 3.7071e+00 (3.9020e+00)\tAcc@1  24.22 ( 22.05)\tAcc@5  43.36 ( 44.57)\n",
      "Epoch: [1][ 700/2503]\tTime  0.342 ( 0.367)\tData  0.002 ( 0.007)\tLoss 3.9013e+00 (3.8900e+00)\tAcc@1  23.44 ( 22.22)\tAcc@5  45.70 ( 44.79)\n",
      "Epoch: [1][ 750/2503]\tTime  0.343 ( 0.366)\tData  0.002 ( 0.007)\tLoss 3.5744e+00 (3.8797e+00)\tAcc@1  25.00 ( 22.38)\tAcc@5  49.22 ( 45.00)\n",
      "Epoch: [1][ 800/2503]\tTime  0.370 ( 0.366)\tData  0.003 ( 0.007)\tLoss 3.6995e+00 (3.8725e+00)\tAcc@1  23.44 ( 22.50)\tAcc@5  45.70 ( 45.14)\n",
      "Epoch: [1][ 850/2503]\tTime  0.346 ( 0.365)\tData  0.002 ( 0.006)\tLoss 3.7970e+00 (3.8627e+00)\tAcc@1  25.39 ( 22.63)\tAcc@5  51.56 ( 45.32)\n",
      "Epoch: [1][ 900/2503]\tTime  0.410 ( 0.365)\tData  0.002 ( 0.006)\tLoss 3.6564e+00 (3.8559e+00)\tAcc@1  21.48 ( 22.74)\tAcc@5  49.22 ( 45.46)\n",
      "Epoch: [1][ 950/2503]\tTime  0.345 ( 0.365)\tData  0.002 ( 0.006)\tLoss 3.8095e+00 (3.8473e+00)\tAcc@1  26.17 ( 22.87)\tAcc@5  47.66 ( 45.62)\n",
      "Epoch: [1][1000/2503]\tTime  0.343 ( 0.365)\tData  0.002 ( 0.006)\tLoss 3.6365e+00 (3.8396e+00)\tAcc@1  28.52 ( 23.01)\tAcc@5  51.56 ( 45.77)\n",
      "Epoch: [1][1050/2503]\tTime  0.365 ( 0.365)\tData  0.002 ( 0.006)\tLoss 3.6066e+00 (3.8314e+00)\tAcc@1  27.34 ( 23.11)\tAcc@5  49.61 ( 45.93)\n",
      "Epoch: [1][1100/2503]\tTime  0.360 ( 0.364)\tData  0.002 ( 0.005)\tLoss 3.6540e+00 (3.8228e+00)\tAcc@1  26.95 ( 23.26)\tAcc@5  49.61 ( 46.10)\n",
      "Epoch: [1][1150/2503]\tTime  0.345 ( 0.364)\tData  0.002 ( 0.005)\tLoss 3.8066e+00 (3.8144e+00)\tAcc@1  21.88 ( 23.38)\tAcc@5  45.31 ( 46.25)\n",
      "Epoch: [1][1200/2503]\tTime  0.364 ( 0.364)\tData  0.003 ( 0.005)\tLoss 3.6861e+00 (3.8064e+00)\tAcc@1  27.34 ( 23.51)\tAcc@5  47.66 ( 46.44)\n",
      "Epoch: [1][1250/2503]\tTime  0.348 ( 0.364)\tData  0.002 ( 0.005)\tLoss 3.8217e+00 (3.7984e+00)\tAcc@1  24.22 ( 23.64)\tAcc@5  45.31 ( 46.58)\n",
      "Epoch: [1][1300/2503]\tTime  0.384 ( 0.364)\tData  0.003 ( 0.005)\tLoss 3.5050e+00 (3.7909e+00)\tAcc@1  29.69 ( 23.77)\tAcc@5  51.17 ( 46.71)\n",
      "Epoch: [1][1350/2503]\tTime  0.366 ( 0.363)\tData  0.003 ( 0.005)\tLoss 3.7318e+00 (3.7830e+00)\tAcc@1  26.17 ( 23.89)\tAcc@5  47.66 ( 46.87)\n",
      "Epoch: [1][1400/2503]\tTime  0.347 ( 0.363)\tData  0.002 ( 0.005)\tLoss 3.4606e+00 (3.7747e+00)\tAcc@1  29.30 ( 24.00)\tAcc@5  55.86 ( 47.03)\n",
      "Epoch: [1][1450/2503]\tTime  0.371 ( 0.363)\tData  0.002 ( 0.005)\tLoss 3.6536e+00 (3.7672e+00)\tAcc@1  23.83 ( 24.10)\tAcc@5  45.70 ( 47.16)\n",
      "Epoch: [1][1500/2503]\tTime  0.380 ( 0.363)\tData  0.002 ( 0.005)\tLoss 3.4013e+00 (3.7586e+00)\tAcc@1  30.08 ( 24.24)\tAcc@5  55.47 ( 47.32)\n",
      "Epoch: [1][1550/2503]\tTime  0.372 ( 0.363)\tData  0.002 ( 0.005)\tLoss 3.7604e+00 (3.7488e+00)\tAcc@1  23.44 ( 24.39)\tAcc@5  47.66 ( 47.52)\n",
      "Epoch: [1][1600/2503]\tTime  0.384 ( 0.363)\tData  0.003 ( 0.005)\tLoss 3.4761e+00 (3.7409e+00)\tAcc@1  31.64 ( 24.50)\tAcc@5  51.56 ( 47.66)\n",
      "Epoch: [1][1650/2503]\tTime  0.370 ( 0.363)\tData  0.002 ( 0.005)\tLoss 3.4137e+00 (3.7335e+00)\tAcc@1  29.69 ( 24.61)\tAcc@5  51.17 ( 47.80)\n",
      "Epoch: [1][1700/2503]\tTime  0.371 ( 0.363)\tData  0.002 ( 0.004)\tLoss 3.2587e+00 (3.7252e+00)\tAcc@1  30.08 ( 24.72)\tAcc@5  58.98 ( 47.97)\n",
      "Epoch: [1][1750/2503]\tTime  0.345 ( 0.363)\tData  0.002 ( 0.004)\tLoss 3.4266e+00 (3.7179e+00)\tAcc@1  32.42 ( 24.82)\tAcc@5  54.69 ( 48.10)\n",
      "Epoch: [1][1800/2503]\tTime  0.345 ( 0.363)\tData  0.006 ( 0.004)\tLoss 3.3610e+00 (3.7103e+00)\tAcc@1  32.42 ( 24.95)\tAcc@5  54.69 ( 48.24)\n",
      "Epoch: [1][1850/2503]\tTime  0.345 ( 0.362)\tData  0.002 ( 0.004)\tLoss 3.2910e+00 (3.7034e+00)\tAcc@1  28.52 ( 25.04)\tAcc@5  53.52 ( 48.38)\n",
      "Epoch: [1][1900/2503]\tTime  0.366 ( 0.362)\tData  0.004 ( 0.004)\tLoss 3.4112e+00 (3.6960e+00)\tAcc@1  26.56 ( 25.16)\tAcc@5  53.12 ( 48.53)\n",
      "Epoch: [1][1950/2503]\tTime  0.362 ( 0.362)\tData  0.002 ( 0.004)\tLoss 3.3952e+00 (3.6884e+00)\tAcc@1  27.34 ( 25.28)\tAcc@5  57.81 ( 48.67)\n",
      "Epoch: [1][2000/2503]\tTime  0.362 ( 0.362)\tData  0.002 ( 0.004)\tLoss 3.4450e+00 (3.6822e+00)\tAcc@1  28.91 ( 25.38)\tAcc@5  53.52 ( 48.78)\n",
      "Epoch: [1][2050/2503]\tTime  0.344 ( 0.362)\tData  0.002 ( 0.004)\tLoss 3.2070e+00 (3.6747e+00)\tAcc@1  29.30 ( 25.50)\tAcc@5  58.20 ( 48.92)\n",
      "Epoch: [1][2100/2503]\tTime  0.364 ( 0.362)\tData  0.002 ( 0.004)\tLoss 3.2697e+00 (3.6682e+00)\tAcc@1  28.52 ( 25.59)\tAcc@5  54.69 ( 49.04)\n",
      "Epoch: [1][2150/2503]\tTime  0.366 ( 0.362)\tData  0.002 ( 0.004)\tLoss 3.3711e+00 (3.6610e+00)\tAcc@1  23.44 ( 25.71)\tAcc@5  52.73 ( 49.17)\n",
      "Epoch: [1][2200/2503]\tTime  0.342 ( 0.361)\tData  0.003 ( 0.004)\tLoss 3.6108e+00 (3.6548e+00)\tAcc@1  29.30 ( 25.81)\tAcc@5  50.39 ( 49.27)\n",
      "Epoch: [1][2250/2503]\tTime  0.369 ( 0.361)\tData  0.002 ( 0.004)\tLoss 3.5212e+00 (3.6482e+00)\tAcc@1  25.00 ( 25.90)\tAcc@5  53.12 ( 49.40)\n",
      "Epoch: [1][2300/2503]\tTime  0.343 ( 0.361)\tData  0.002 ( 0.004)\tLoss 3.1669e+00 (3.6418e+00)\tAcc@1  33.20 ( 26.00)\tAcc@5  59.38 ( 49.53)\n",
      "Epoch: [1][2350/2503]\tTime  0.346 ( 0.361)\tData  0.003 ( 0.004)\tLoss 3.2135e+00 (3.6346e+00)\tAcc@1  31.64 ( 26.10)\tAcc@5  57.81 ( 49.65)\n",
      "Epoch: [1][2400/2503]\tTime  0.346 ( 0.361)\tData  0.002 ( 0.004)\tLoss 3.5983e+00 (3.6277e+00)\tAcc@1  28.52 ( 26.19)\tAcc@5  50.39 ( 49.78)\n",
      "Epoch: [1][2450/2503]\tTime  0.343 ( 0.361)\tData  0.002 ( 0.004)\tLoss 3.1685e+00 (3.6213e+00)\tAcc@1  28.91 ( 26.28)\tAcc@5  58.20 ( 49.89)\n",
      "Epoch: [1][2500/2503]\tTime  0.339 ( 0.361)\tData  0.002 ( 0.004)\tLoss 3.0867e+00 (3.6149e+00)\tAcc@1  35.94 ( 26.39)\tAcc@5  61.33 ( 50.02)\n",
      "Test: [ 0/98]\tTime  3.413 ( 3.413)\tLoss 3.6978e+00 (3.6978e+00)\tAcc@1  27.73 ( 27.73)\tAcc@5  51.95 ( 51.95)\n",
      "Test: [50/98]\tTime  0.250 ( 0.336)\tLoss 3.6673e+00 (3.5045e+00)\tAcc@1  26.17 ( 28.97)\tAcc@5  53.12 ( 52.90)\n",
      " * Acc@1 28.524 Acc@5 53.120\n",
      "lr: [0.09998149525276118]\n",
      "CPU times: user 40min 45s, sys: 20min 6s, total: 1h 51s\n",
      "Wall time: 31min 17s\n"
     ]
    }
   ],
   "source": [
    "%%time\n",
    "for epoch in range(START_EPOCH, 2):\n",
    "    adjust_learning_rate(optimizer, epoch)\n",
    "\n",
    "    # train for one epoch\n",
    "    train(train_loader, model, criterion, optimizer, epoch)\n",
    "\n",
    "    # evaluate on validation set\n",
    "    acc1 = validate(val_loader, model, criterion)\n",
    "\n",
    "    # remember best acc@1 and save checkpoint\n",
    "    is_best = acc1 > best_acc1\n",
    "    best_acc1 = max(acc1, best_acc1)\n",
    "\n",
    "\n",
    "    save_checkpoint({\n",
    "        'epoch': epoch + 1,\n",
    "        'arch': ARCH,\n",
    "        'state_dict': model.state_dict(),\n",
    "        'best_acc1': best_acc1,\n",
    "        'optimizer' : optimizer.state_dict(),\n",
    "    }, is_best)\n",
    "    \n",
    "    scheduler.step()\n",
    "    print('lr: ' + str(scheduler.get_last_lr()))\n",
    "    writer.add_scalar(\"lr\", scheduler.get_last_lr()[0], global_step = global_step)\n",
    "    wandb.log({'lr': scheduler.get_last_lr()[0]})"
   ]
  },
  {
   "cell_type": "code",
   "execution_count": null,
   "id": "89c3110e",
   "metadata": {
    "id": "adc68068"
   },
   "outputs": [],
   "source": []
  },
  {
   "cell_type": "code",
   "execution_count": null,
   "id": "a24fee08",
   "metadata": {
    "id": "d3faf0cd"
   },
   "outputs": [],
   "source": []
  }
 ],
 "metadata": {
  "colab": {
   "name": "cinic.ipynb",
   "provenance": []
  },
  "kernelspec": {
   "display_name": "Python 3",
   "language": "python",
   "name": "python3"
  },
  "language_info": {
   "codemirror_mode": {
    "name": "ipython",
    "version": 3
   },
   "file_extension": ".py",
   "mimetype": "text/x-python",
   "name": "python",
   "nbconvert_exporter": "python",
   "pygments_lexer": "ipython3",
   "version": "3.8.10"
  }
 },
 "nbformat": 4,
 "nbformat_minor": 5
}

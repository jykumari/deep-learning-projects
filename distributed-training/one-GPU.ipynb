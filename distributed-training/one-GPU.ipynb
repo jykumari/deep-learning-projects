{
 "cells": [
  {
   "cell_type": "code",
   "execution_count": 1,
   "id": "7eac15f1",
   "metadata": {
    "executionInfo": {
     "elapsed": 4198,
     "status": "ok",
     "timestamp": 1624759883403,
     "user": {
      "displayName": "Dima Rekesh",
      "photoUrl": "https://lh3.googleusercontent.com/a-/AOh14GgCxhnQN9cW764WS8AiJguM8wE5foCZLMjr-NyFuQ=s64",
      "userId": "05362657998610812765"
     },
     "user_tz": 420
    },
    "id": "f2513038"
   },
   "outputs": [],
   "source": [
    "import os\n",
    "import random\n",
    "import shutil\n",
    "import time\n",
    "import warnings\n",
    "\n",
    "import torch\n",
    "import torch.nn as nn\n",
    "import torch.backends.cudnn as cudnn\n",
    "import torch.optim\n",
    "\n",
    "import torch.utils.data\n",
    "import torchvision\n",
    "import torchvision.transforms as transforms\n",
    "import torchvision.datasets as datasets\n",
    "import torchvision.models as models"
   ]
  },
  {
   "cell_type": "code",
   "execution_count": 2,
   "id": "1dc9b3d8",
   "metadata": {},
   "outputs": [],
   "source": [
    "# using pytorch native AMP\n",
    "from torch.cuda.amp import GradScaler\n",
    "from torch.cuda.amp import autocast"
   ]
  },
  {
   "cell_type": "code",
   "execution_count": 3,
   "id": "f40b8ef4",
   "metadata": {},
   "outputs": [],
   "source": [
    "# using Tensorboard\n",
    "from torch.utils.tensorboard import SummaryWriter\n",
    "writer = SummaryWriter(log_dir=\"/data/runs\")"
   ]
  },
  {
   "cell_type": "code",
   "execution_count": 4,
   "id": "d2bf23a2",
   "metadata": {},
   "outputs": [
    {
     "name": "stdout",
     "output_type": "stream",
     "text": [
      "Requirement already satisfied: wandb in /opt/conda/lib/python3.8/site-packages (0.10.33)\n",
      "Requirement already satisfied: requests<3,>=2.0.0 in /opt/conda/lib/python3.8/site-packages (from wandb) (2.25.1)\n",
      "Requirement already satisfied: Click!=8.0.0,>=7.0 in /opt/conda/lib/python3.8/site-packages (from wandb) (7.1.2)\n",
      "Requirement already satisfied: pathtools in /opt/conda/lib/python3.8/site-packages (from wandb) (0.1.2)\n",
      "Requirement already satisfied: psutil>=5.0.0 in /opt/conda/lib/python3.8/site-packages (from wandb) (5.8.0)\n",
      "Requirement already satisfied: configparser>=3.8.1 in /opt/conda/lib/python3.8/site-packages (from wandb) (5.0.2)\n",
      "Requirement already satisfied: PyYAML in /opt/conda/lib/python3.8/site-packages (from wandb) (5.4.1)\n",
      "Requirement already satisfied: docker-pycreds>=0.4.0 in /opt/conda/lib/python3.8/site-packages (from wandb) (0.4.0)\n",
      "Requirement already satisfied: GitPython>=1.0.0 in /opt/conda/lib/python3.8/site-packages (from wandb) (3.1.18)\n",
      "Requirement already satisfied: promise<3,>=2.0 in /opt/conda/lib/python3.8/site-packages (from wandb) (2.3)\n",
      "Requirement already satisfied: sentry-sdk>=0.4.0 in /opt/conda/lib/python3.8/site-packages (from wandb) (1.1.0)\n",
      "Requirement already satisfied: subprocess32>=3.5.3 in /opt/conda/lib/python3.8/site-packages (from wandb) (3.5.4)\n",
      "Requirement already satisfied: six>=1.13.0 in /opt/conda/lib/python3.8/site-packages (from wandb) (1.16.0)\n",
      "Requirement already satisfied: shortuuid>=0.5.0 in /opt/conda/lib/python3.8/site-packages (from wandb) (1.0.1)\n",
      "Requirement already satisfied: python-dateutil>=2.6.1 in /opt/conda/lib/python3.8/site-packages (from wandb) (2.8.1)\n",
      "Requirement already satisfied: protobuf>=3.12.0 in /opt/conda/lib/python3.8/site-packages (from wandb) (3.17.2)\n",
      "Requirement already satisfied: gitdb<5,>=4.0.1 in /opt/conda/lib/python3.8/site-packages (from GitPython>=1.0.0->wandb) (4.0.7)\n",
      "Requirement already satisfied: smmap<5,>=3.0.1 in /opt/conda/lib/python3.8/site-packages (from gitdb<5,>=4.0.1->GitPython>=1.0.0->wandb) (4.0.0)\n",
      "Requirement already satisfied: urllib3<1.27,>=1.21.1 in /opt/conda/lib/python3.8/site-packages (from requests<3,>=2.0.0->wandb) (1.26.4)\n",
      "Requirement already satisfied: certifi>=2017.4.17 in /opt/conda/lib/python3.8/site-packages (from requests<3,>=2.0.0->wandb) (2021.5.30)\n",
      "Requirement already satisfied: chardet<5,>=3.0.2 in /opt/conda/lib/python3.8/site-packages (from requests<3,>=2.0.0->wandb) (4.0.0)\n",
      "Requirement already satisfied: idna<3,>=2.5 in /opt/conda/lib/python3.8/site-packages (from requests<3,>=2.0.0->wandb) (2.10)\n",
      "\u001b[33mWARNING: Running pip as root will break packages and permissions. You should install packages reliably by using venv: https://pip.pypa.io/warnings/venv\u001b[0m\n"
     ]
    }
   ],
   "source": [
    "!pip install wandb\n",
    "# wandb login"
   ]
  },
  {
   "cell_type": "code",
   "execution_count": 5,
   "id": "1b9db8bd",
   "metadata": {},
   "outputs": [
    {
     "name": "stderr",
     "output_type": "stream",
     "text": [
      "\u001b[34m\u001b[1mwandb\u001b[0m: Currently logged in as: \u001b[33mjyotik\u001b[0m (use `wandb login --relogin` to force relogin)\n"
     ]
    },
    {
     "data": {
      "text/plain": [
       "True"
      ]
     },
     "execution_count": 5,
     "metadata": {},
     "output_type": "execute_result"
    }
   ],
   "source": [
    "import wandb\n",
    "wandb.login()"
   ]
  },
  {
   "cell_type": "code",
   "execution_count": 6,
   "id": "56ab6748",
   "metadata": {},
   "outputs": [
    {
     "data": {
      "text/html": [
       "\n",
       "                Tracking run with wandb version 0.10.33<br/>\n",
       "                Syncing run <strong style=\"color:#cdcd00\">driven-meadow-9</strong> to <a href=\"https://wandb.ai\" target=\"_blank\">Weights & Biases</a> <a href=\"https://docs.wandb.com/integrations/jupyter.html\" target=\"_blank\">(Documentation)</a>.<br/>\n",
       "                Project page: <a href=\"https://wandb.ai/jyotik/hw09-w251-1GPU\" target=\"_blank\">https://wandb.ai/jyotik/hw09-w251-1GPU</a><br/>\n",
       "                Run page: <a href=\"https://wandb.ai/jyotik/hw09-w251-1GPU/runs/11kj6sxu\" target=\"_blank\">https://wandb.ai/jyotik/hw09-w251-1GPU/runs/11kj6sxu</a><br/>\n",
       "                Run data is saved locally in <code>/app/wandb/run-20210704_082745-11kj6sxu</code><br/><br/>\n",
       "            "
      ],
      "text/plain": [
       "<IPython.core.display.HTML object>"
      ]
     },
     "metadata": {},
     "output_type": "display_data"
    },
    {
     "data": {
      "text/html": [
       "<h1>Run(11kj6sxu)</h1><iframe src=\"https://wandb.ai/jyotik/hw09-w251-1GPU/runs/11kj6sxu\" style=\"border:none;width:100%;height:400px\"></iframe>"
      ],
      "text/plain": [
       "<wandb.sdk.wandb_run.Run at 0x7f8709cdcc10>"
      ]
     },
     "execution_count": 6,
     "metadata": {},
     "output_type": "execute_result"
    }
   ],
   "source": [
    "wandb.init(project=\"hw09-w251-1GPU\")"
   ]
  },
  {
   "cell_type": "code",
   "execution_count": 7,
   "id": "3bb00fa2",
   "metadata": {},
   "outputs": [],
   "source": [
    "#import torch.distributed as dist"
   ]
  },
  {
   "cell_type": "code",
   "execution_count": 8,
   "id": "39a8a3ef",
   "metadata": {
    "id": "8cb72e29"
   },
   "outputs": [],
   "source": [
    "# Assume that this notebook only sees one GPU.\n",
    "GPU=0"
   ]
  },
  {
   "cell_type": "code",
   "execution_count": 9,
   "id": "0bc63f89",
   "metadata": {
    "executionInfo": {
     "elapsed": 354,
     "status": "ok",
     "timestamp": 1624759889299,
     "user": {
      "displayName": "Dima Rekesh",
      "photoUrl": "https://lh3.googleusercontent.com/a-/AOh14GgCxhnQN9cW764WS8AiJguM8wE5foCZLMjr-NyFuQ=s64",
      "userId": "05362657998610812765"
     },
     "user_tz": 420
    },
    "id": "02d1a0c0"
   },
   "outputs": [],
   "source": [
    "SEED=1"
   ]
  },
  {
   "cell_type": "code",
   "execution_count": 10,
   "id": "c8de5045",
   "metadata": {
    "executionInfo": {
     "elapsed": 17,
     "status": "ok",
     "timestamp": 1624759891917,
     "user": {
      "displayName": "Dima Rekesh",
      "photoUrl": "https://lh3.googleusercontent.com/a-/AOh14GgCxhnQN9cW764WS8AiJguM8wE5foCZLMjr-NyFuQ=s64",
      "userId": "05362657998610812765"
     },
     "user_tz": 420
    },
    "id": "b1b9bfde"
   },
   "outputs": [],
   "source": [
    "random.seed(SEED)\n",
    "torch.manual_seed(SEED)\n",
    "cudnn.deterministic = True"
   ]
  },
  {
   "cell_type": "code",
   "execution_count": 11,
   "id": "ca623dc1",
   "metadata": {
    "colab": {
     "base_uri": "https://localhost:8080/"
    },
    "executionInfo": {
     "elapsed": 230,
     "status": "ok",
     "timestamp": 1624759894660,
     "user": {
      "displayName": "Dima Rekesh",
      "photoUrl": "https://lh3.googleusercontent.com/a-/AOh14GgCxhnQN9cW764WS8AiJguM8wE5foCZLMjr-NyFuQ=s64",
      "userId": "05362657998610812765"
     },
     "user_tz": 420
    },
    "id": "e9eb47a7",
    "outputId": "c49775ff-91ee-488c-d99c-3739e452d6af"
   },
   "outputs": [
    {
     "data": {
      "text/plain": [
       "1"
      ]
     },
     "execution_count": 11,
     "metadata": {},
     "output_type": "execute_result"
    }
   ],
   "source": [
    "torch.cuda.device_count()"
   ]
  },
  {
   "cell_type": "code",
   "execution_count": 12,
   "id": "01d4da7b",
   "metadata": {
    "id": "073b7b81"
   },
   "outputs": [],
   "source": [
    "START_EPOCH = 0"
   ]
  },
  {
   "cell_type": "code",
   "execution_count": 13,
   "id": "0f043b7e",
   "metadata": {
    "id": "5e18ae51",
    "tags": [
     "parameters"
    ]
   },
   "outputs": [],
   "source": [
    "# ARCH = 'resnet18'\n",
    "ARCH = 'resnet18'\n",
    "EPOCHS = 200\n",
    "LR = 0.1\n",
    "MOMENTUM = 0.9\n",
    "WEIGHT_DECAY = 1e-4\n",
    "PRINT_FREQ = 50\n",
    "TRAIN_BATCH=256\n",
    "VAL_BATCH=256\n",
    "WORKERS=8\n",
    "TRAINDIR=\"/data/train\"\n",
    "VALDIR=\"/data/val\""
   ]
  },
  {
   "cell_type": "code",
   "execution_count": 14,
   "id": "46fca305",
   "metadata": {},
   "outputs": [
    {
     "data": {
      "text/html": [
       "Finishing last run (ID:11kj6sxu) before initializing another..."
      ],
      "text/plain": [
       "<IPython.core.display.HTML object>"
      ]
     },
     "metadata": {},
     "output_type": "display_data"
    },
    {
     "data": {
      "text/html": [
       "<br/>Waiting for W&B process to finish, PID 2825<br/>Program ended successfully."
      ],
      "text/plain": [
       "<IPython.core.display.HTML object>"
      ]
     },
     "metadata": {},
     "output_type": "display_data"
    },
    {
     "data": {
      "text/html": [
       "Find user logs for this run at: <code>/app/wandb/run-20210704_082745-11kj6sxu/logs/debug.log</code>"
      ],
      "text/plain": [
       "<IPython.core.display.HTML object>"
      ]
     },
     "metadata": {},
     "output_type": "display_data"
    },
    {
     "data": {
      "text/html": [
       "Find internal logs for this run at: <code>/app/wandb/run-20210704_082745-11kj6sxu/logs/debug-internal.log</code>"
      ],
      "text/plain": [
       "<IPython.core.display.HTML object>"
      ]
     },
     "metadata": {},
     "output_type": "display_data"
    },
    {
     "data": {
      "text/html": [
       "Synced 4 W&B file(s), 0 media file(s), 0 artifact file(s) and 0 other file(s)"
      ],
      "text/plain": [
       "<IPython.core.display.HTML object>"
      ]
     },
     "metadata": {},
     "output_type": "display_data"
    },
    {
     "data": {
      "text/html": [
       "\n",
       "                    <br/>Synced <strong style=\"color:#cdcd00\">driven-meadow-9</strong>: <a href=\"https://wandb.ai/jyotik/hw09-w251-1GPU/runs/11kj6sxu\" target=\"_blank\">https://wandb.ai/jyotik/hw09-w251-1GPU/runs/11kj6sxu</a><br/>\n",
       "                "
      ],
      "text/plain": [
       "<IPython.core.display.HTML object>"
      ]
     },
     "metadata": {},
     "output_type": "display_data"
    },
    {
     "data": {
      "text/html": [
       "...Successfully finished last run (ID:11kj6sxu). Initializing new run:<br/><br/>"
      ],
      "text/plain": [
       "<IPython.core.display.HTML object>"
      ]
     },
     "metadata": {},
     "output_type": "display_data"
    },
    {
     "data": {
      "text/html": [
       "\n",
       "                Tracking run with wandb version 0.10.33<br/>\n",
       "                Syncing run <strong style=\"color:#cdcd00\">drawn-feather-26</strong> to <a href=\"https://wandb.ai\" target=\"_blank\">Weights & Biases</a> <a href=\"https://docs.wandb.com/integrations/jupyter.html\" target=\"_blank\">(Documentation)</a>.<br/>\n",
       "                Project page: <a href=\"https://wandb.ai/jyotik/uncategorized\" target=\"_blank\">https://wandb.ai/jyotik/uncategorized</a><br/>\n",
       "                Run page: <a href=\"https://wandb.ai/jyotik/uncategorized/runs/2rxomexr\" target=\"_blank\">https://wandb.ai/jyotik/uncategorized/runs/2rxomexr</a><br/>\n",
       "                Run data is saved locally in <code>/app/wandb/run-20210704_082746-2rxomexr</code><br/><br/>\n",
       "            "
      ],
      "text/plain": [
       "<IPython.core.display.HTML object>"
      ]
     },
     "metadata": {},
     "output_type": "display_data"
    },
    {
     "data": {
      "text/html": [
       "<h1>Run(2rxomexr)</h1><iframe src=\"https://wandb.ai/jyotik/uncategorized/runs/2rxomexr\" style=\"border:none;width:100%;height:400px\"></iframe>"
      ],
      "text/plain": [
       "<wandb.sdk.wandb_run.Run at 0x7f8709c98fa0>"
      ]
     },
     "execution_count": 14,
     "metadata": {},
     "output_type": "execute_result"
    }
   ],
   "source": [
    "wandb.init(config={\"epochs\": EPOCHS, \"batch_size\": TRAIN_BATCH, \"momentum\": MOMENTUM, \"WEIGHT_DECAY\": WEIGHT_DECAY, \"arch\": ARCH})"
   ]
  },
  {
   "cell_type": "code",
   "execution_count": 15,
   "id": "e31fe87f",
   "metadata": {
    "id": "85299ee3"
   },
   "outputs": [],
   "source": [
    "TRAINDIR=\"/data/train\"\n",
    "VALDIR=\"/data/val\""
   ]
  },
  {
   "cell_type": "code",
   "execution_count": 16,
   "id": "e96b8a1c",
   "metadata": {
    "colab": {
     "base_uri": "https://localhost:8080/"
    },
    "executionInfo": {
     "elapsed": 137,
     "status": "ok",
     "timestamp": 1622949197302,
     "user": {
      "displayName": "Jayanth Srinivasa",
      "photoUrl": "",
      "userId": "03369694624178485882"
     },
     "user_tz": 420
    },
    "id": "c6bf6a83",
    "outputId": "72d2e92f-7574-4c0a-c813-288cd69eaa36"
   },
   "outputs": [],
   "source": [
    "if not torch.cuda.is_available():\n",
    "    print('GPU not detected.. did you pass through your GPU?')"
   ]
  },
  {
   "cell_type": "code",
   "execution_count": 17,
   "id": "b7a22eb4",
   "metadata": {},
   "outputs": [],
   "source": [
    "# how many processes in cluster?\n",
    "WORLD_SIZE = 2\n",
    "BACKEND = 'nccl'\n",
    "# where is the master?\n",
    "URL = 'tcp://13.57.216.199:1234'"
   ]
  },
  {
   "cell_type": "code",
   "execution_count": 18,
   "id": "62523e1b",
   "metadata": {},
   "outputs": [],
   "source": [
    "#what is my rank?\n",
    "#RANK = 1"
   ]
  },
  {
   "cell_type": "code",
   "execution_count": 19,
   "id": "777c1258",
   "metadata": {
    "id": "68491838"
   },
   "outputs": [],
   "source": [
    "#dist.init_process_group(backend = BACKEND, init_method= URL,\n",
    "    #                            world_size= WORLD_SIZE, rank=RANK)"
   ]
  },
  {
   "cell_type": "code",
   "execution_count": 20,
   "id": "d662db57",
   "metadata": {
    "id": "acd97390"
   },
   "outputs": [],
   "source": [
    "#torch.cuda.set_device('cpu')\n",
    "torch.cuda.set_device(GPU)"
   ]
  },
  {
   "cell_type": "code",
   "execution_count": 21,
   "id": "c5942939",
   "metadata": {
    "id": "e19a5849"
   },
   "outputs": [],
   "source": [
    "cudnn.benchmark = True"
   ]
  },
  {
   "cell_type": "code",
   "execution_count": 22,
   "id": "8dc87f8e",
   "metadata": {},
   "outputs": [],
   "source": [
    "global_step = 0"
   ]
  },
  {
   "cell_type": "code",
   "execution_count": 23,
   "id": "febc459a",
   "metadata": {
    "id": "4e65743f"
   },
   "outputs": [],
   "source": [
    "def train(train_loader, model, criterion, optimizer, epoch):\n",
    "    global global_step\n",
    "    \n",
    "    batch_time = AverageMeter('Time', ':6.3f')\n",
    "    data_time = AverageMeter('Data', ':6.3f')\n",
    "    losses = AverageMeter('Loss', ':.4e')\n",
    "    top1 = AverageMeter('Acc@1', ':6.2f')\n",
    "    top5 = AverageMeter('Acc@5', ':6.2f')\n",
    "    progress = ProgressMeter(\n",
    "        len(train_loader),\n",
    "        [batch_time, data_time, losses, top1, top5],\n",
    "        prefix=\"Epoch: [{}]\".format(epoch))\n",
    "\n",
    "    # Grad Scaler\n",
    "    scaler = GradScaler()\n",
    "    \n",
    "    # switch to train mode\n",
    "    model.train()\n",
    "\n",
    "    end = time.time()\n",
    "    for i, (images, target) in enumerate(train_loader):\n",
    "        # measure data loading time\n",
    "        data_time.update(time.time() - end)\n",
    "\n",
    "        if GPU is not None:\n",
    "            images = images.cuda(GPU, non_blocking=True)\n",
    "        if torch.cuda.is_available():\n",
    "            target = target.cuda(GPU, non_blocking=True)\n",
    "\n",
    "        # compute output\n",
    "        with autocast():\n",
    "            output = model(images)\n",
    "            loss = criterion(output, target)\n",
    "\n",
    "        # measure accuracy and record loss\n",
    "        acc1, acc5 = accuracy(output, target, topk=(1, 5))\n",
    "        losses.update(loss.item(), images.size(0))\n",
    "        top1.update(acc1[0], images.size(0))\n",
    "        top5.update(acc5[0], images.size(0))\n",
    "\n",
    "        # compute gradient and do SGD step\n",
    "        #optimizer.zero_grad()\n",
    "        #loss.backward()\n",
    "        #optimizer.step()\n",
    "        \n",
    "        # use the scaler\n",
    "        scaler.scale(loss).backward()\n",
    "        scaler.step(optimizer)\n",
    "        scaler.update()\n",
    "\n",
    "        # measure elapsed time\n",
    "        batch_time.update(time.time() - end)\n",
    "        end = time.time()\n",
    "        wandb.log({\"Loss/train\": loss, 'acc1/train': top1.avg, 'acc5/train': top5.avg})\n",
    "        \n",
    "        writer.add_scalar(\"Loss/train\", loss, global_step = global_step)\n",
    "        writer.add_scalar(\"acc1/train\", top1.avg, global_step = global_step)\n",
    "        writer.add_scalar(\"acc5/train\", top5.avg, global_step = global_step)\n",
    "        global_step = global_step + 1\n",
    "\n",
    "        if i % PRINT_FREQ == 0:\n",
    "            progress.display(i)"
   ]
  },
  {
   "cell_type": "code",
   "execution_count": 24,
   "id": "56686da9",
   "metadata": {
    "id": "ab30a1a4"
   },
   "outputs": [],
   "source": [
    "def validate(val_loader, model, criterion):\n",
    "    global global_step\n",
    "    batch_time = AverageMeter('Time', ':6.3f')\n",
    "    losses = AverageMeter('Loss', ':.4e')\n",
    "    top1 = AverageMeter('Acc@1', ':6.2f')\n",
    "    top5 = AverageMeter('Acc@5', ':6.2f')\n",
    "    progress = ProgressMeter(\n",
    "        len(val_loader),\n",
    "        [batch_time, losses, top1, top5],\n",
    "        prefix='Test: ')\n",
    "\n",
    "    # switch to evaluate mode\n",
    "    model.eval()\n",
    "\n",
    "    with torch.no_grad():\n",
    "        end = time.time()\n",
    "        for i, (images, target) in enumerate(val_loader):\n",
    "            if GPU is not None:\n",
    "                images = images.cuda(GPU, non_blocking=True)\n",
    "            if torch.cuda.is_available():\n",
    "                target = target.cuda(GPU, non_blocking=True)\n",
    "\n",
    "            # compute output\n",
    "            output = model(images)\n",
    "            loss = criterion(output, target)\n",
    "\n",
    "            # measure accuracy and record loss\n",
    "            acc1, acc5 = accuracy(output, target, topk=(1, 5))\n",
    "            losses.update(loss.item(), images.size(0))\n",
    "            top1.update(acc1[0], images.size(0))\n",
    "            top5.update(acc5[0], images.size(0))\n",
    "\n",
    "            # measure elapsed time\n",
    "            batch_time.update(time.time() - end)\n",
    "            end = time.time()\n",
    "\n",
    "            if i % PRINT_FREQ == 0:\n",
    "                progress.display(i)\n",
    "\n",
    "        # TODO: this should also be done with the ProgressMeter\n",
    "        print(' * Acc@1 {top1.avg:.3f} Acc@5 {top5.avg:.3f}'\n",
    "              .format(top1=top1, top5=top5))\n",
    "\n",
    "    writer.add_scalar(\"Loss/val\", losses.avg, global_step = global_step)\n",
    "    writer.add_scalar(\"acc1/val\", top1.avg, global_step = global_step)\n",
    "    writer.add_scalar(\"acc5/val\", top5.avg, global_step = global_step)\n",
    "    \n",
    "    wandb.log({\"Loss/val\": losses.avg, 'acc1/val': top1.avg, 'acc5/val': top5.avg})\n",
    "    return top1.avg"
   ]
  },
  {
   "cell_type": "code",
   "execution_count": 25,
   "id": "1a498f65",
   "metadata": {
    "id": "afa7d9fd"
   },
   "outputs": [],
   "source": [
    "def save_checkpoint(state, is_best, filename='checkpoint.pth.tar'):\n",
    "    torch.save(state, filename)\n",
    "    if is_best:\n",
    "        shutil.copyfile(filename, 'model_best.pth.tar')"
   ]
  },
  {
   "cell_type": "code",
   "execution_count": 26,
   "id": "076ce549",
   "metadata": {
    "id": "8c5f0ab4"
   },
   "outputs": [],
   "source": [
    "class AverageMeter(object):\n",
    "    \"\"\"Computes and stores the average and current value\"\"\"\n",
    "    def __init__(self, name, fmt=':f'):\n",
    "        self.name = name\n",
    "        self.fmt = fmt\n",
    "        self.reset()\n",
    "\n",
    "    def reset(self):\n",
    "        self.val = 0\n",
    "        self.avg = 0\n",
    "        self.sum = 0\n",
    "        self.count = 0\n",
    "\n",
    "    def update(self, val, n=1):\n",
    "        self.val = val\n",
    "        self.sum += val * n\n",
    "        self.count += n\n",
    "        self.avg = self.sum / self.count\n",
    "\n",
    "    def __str__(self):\n",
    "        fmtstr = '{name} {val' + self.fmt + '} ({avg' + self.fmt + '})'\n",
    "        return fmtstr.format(**self.__dict__)"
   ]
  },
  {
   "cell_type": "code",
   "execution_count": 27,
   "id": "69b1d082",
   "metadata": {
    "id": "ce30c86a"
   },
   "outputs": [],
   "source": [
    "class ProgressMeter(object):\n",
    "    def __init__(self, num_batches, meters, prefix=\"\"):\n",
    "        self.batch_fmtstr = self._get_batch_fmtstr(num_batches)\n",
    "        self.meters = meters\n",
    "        self.prefix = prefix\n",
    "\n",
    "    def display(self, batch):\n",
    "        entries = [self.prefix + self.batch_fmtstr.format(batch)]\n",
    "        entries += [str(meter) for meter in self.meters]\n",
    "        print('\\t'.join(entries))\n",
    "\n",
    "    def _get_batch_fmtstr(self, num_batches):\n",
    "        num_digits = len(str(num_batches // 1))\n",
    "        fmt = '{:' + str(num_digits) + 'd}'\n",
    "        return '[' + fmt + '/' + fmt.format(num_batches) + ']'"
   ]
  },
  {
   "cell_type": "code",
   "execution_count": 28,
   "id": "0a452799",
   "metadata": {
    "id": "7504ce7a"
   },
   "outputs": [],
   "source": [
    "def adjust_learning_rate(optimizer, epoch):\n",
    "    \"\"\"Sets the learning rate to the initial LR decayed by 10 every 30 epochs\"\"\"\n",
    "    lr = LR * (0.1 ** (epoch // 30))\n",
    "    for param_group in optimizer.param_groups:\n",
    "        param_group['lr'] = lr"
   ]
  },
  {
   "cell_type": "code",
   "execution_count": 29,
   "id": "684edae5",
   "metadata": {
    "id": "0d659923"
   },
   "outputs": [],
   "source": [
    "def accuracy(output, target, topk=(1,)):\n",
    "    \"\"\"Computes the accuracy over the k top predictions for the specified values of k\"\"\"\n",
    "    with torch.no_grad():\n",
    "        maxk = max(topk)\n",
    "        batch_size = target.size(0)\n",
    "\n",
    "        _, pred = output.topk(maxk, 1, True, True)\n",
    "        pred = pred.t()\n",
    "        correct = pred.eq(target.view(1, -1).expand_as(pred))\n",
    "\n",
    "        res = []\n",
    "        for k in topk:\n",
    "            correct_k = correct[:k].reshape(-1).float().sum(0, keepdim=True)\n",
    "            res.append(correct_k.mul_(100.0 / batch_size))\n",
    "        return res"
   ]
  },
  {
   "cell_type": "code",
   "execution_count": 30,
   "id": "17018f06",
   "metadata": {
    "id": "f74f06e1"
   },
   "outputs": [],
   "source": [
    "imagenet_mean_RGB = [0.47889522, 0.47227842, 0.43047404]\n",
    "imagenet_std_RGB = [0.229, 0.224, 0.225]\n",
    "#cinic_mean_RGB = [0.47889522, 0.47227842, 0.43047404]\n",
    "#cinic_std_RGB = [0.24205776, 0.23828046, 0.25874835]\n",
    "#cifar_mean_RGB = [0.4914, 0.4822, 0.4465]\n",
    "#cifar_std_RGB = [0.2023, 0.1994, 0.2010]"
   ]
  },
  {
   "cell_type": "code",
   "execution_count": 31,
   "id": "4818fa80",
   "metadata": {
    "id": "c005e2dd"
   },
   "outputs": [],
   "source": [
    "normalize = transforms.Normalize(mean=imagenet_mean_RGB, std=imagenet_std_RGB)"
   ]
  },
  {
   "cell_type": "code",
   "execution_count": 32,
   "id": "4dc49c16",
   "metadata": {
    "id": "29d54592"
   },
   "outputs": [],
   "source": [
    "IMG_SIZE = 224"
   ]
  },
  {
   "cell_type": "code",
   "execution_count": 33,
   "id": "d26745e7",
   "metadata": {
    "id": "94059b7f"
   },
   "outputs": [],
   "source": [
    "NUM_CLASSES = 1000"
   ]
  },
  {
   "cell_type": "code",
   "execution_count": 34,
   "id": "6e170394",
   "metadata": {
    "id": "788c0401"
   },
   "outputs": [],
   "source": [
    "model = models.__dict__[ARCH]()"
   ]
  },
  {
   "cell_type": "code",
   "execution_count": 35,
   "id": "48913df8",
   "metadata": {
    "id": "63dc579e"
   },
   "outputs": [],
   "source": [
    "inf = model.fc.in_features"
   ]
  },
  {
   "cell_type": "code",
   "execution_count": 36,
   "id": "478e449a",
   "metadata": {
    "id": "edf9cf5d"
   },
   "outputs": [],
   "source": [
    "model.fc = nn.Linear(inf, NUM_CLASSES)"
   ]
  },
  {
   "cell_type": "code",
   "execution_count": 37,
   "id": "c36b6628",
   "metadata": {
    "id": "319e2d99"
   },
   "outputs": [
    {
     "data": {
      "text/plain": [
       "ResNet(\n",
       "  (conv1): Conv2d(3, 64, kernel_size=(7, 7), stride=(2, 2), padding=(3, 3), bias=False)\n",
       "  (bn1): BatchNorm2d(64, eps=1e-05, momentum=0.1, affine=True, track_running_stats=True)\n",
       "  (relu): ReLU(inplace=True)\n",
       "  (maxpool): MaxPool2d(kernel_size=3, stride=2, padding=1, dilation=1, ceil_mode=False)\n",
       "  (layer1): Sequential(\n",
       "    (0): BasicBlock(\n",
       "      (conv1): Conv2d(64, 64, kernel_size=(3, 3), stride=(1, 1), padding=(1, 1), bias=False)\n",
       "      (bn1): BatchNorm2d(64, eps=1e-05, momentum=0.1, affine=True, track_running_stats=True)\n",
       "      (relu): ReLU(inplace=True)\n",
       "      (conv2): Conv2d(64, 64, kernel_size=(3, 3), stride=(1, 1), padding=(1, 1), bias=False)\n",
       "      (bn2): BatchNorm2d(64, eps=1e-05, momentum=0.1, affine=True, track_running_stats=True)\n",
       "    )\n",
       "    (1): BasicBlock(\n",
       "      (conv1): Conv2d(64, 64, kernel_size=(3, 3), stride=(1, 1), padding=(1, 1), bias=False)\n",
       "      (bn1): BatchNorm2d(64, eps=1e-05, momentum=0.1, affine=True, track_running_stats=True)\n",
       "      (relu): ReLU(inplace=True)\n",
       "      (conv2): Conv2d(64, 64, kernel_size=(3, 3), stride=(1, 1), padding=(1, 1), bias=False)\n",
       "      (bn2): BatchNorm2d(64, eps=1e-05, momentum=0.1, affine=True, track_running_stats=True)\n",
       "    )\n",
       "  )\n",
       "  (layer2): Sequential(\n",
       "    (0): BasicBlock(\n",
       "      (conv1): Conv2d(64, 128, kernel_size=(3, 3), stride=(2, 2), padding=(1, 1), bias=False)\n",
       "      (bn1): BatchNorm2d(128, eps=1e-05, momentum=0.1, affine=True, track_running_stats=True)\n",
       "      (relu): ReLU(inplace=True)\n",
       "      (conv2): Conv2d(128, 128, kernel_size=(3, 3), stride=(1, 1), padding=(1, 1), bias=False)\n",
       "      (bn2): BatchNorm2d(128, eps=1e-05, momentum=0.1, affine=True, track_running_stats=True)\n",
       "      (downsample): Sequential(\n",
       "        (0): Conv2d(64, 128, kernel_size=(1, 1), stride=(2, 2), bias=False)\n",
       "        (1): BatchNorm2d(128, eps=1e-05, momentum=0.1, affine=True, track_running_stats=True)\n",
       "      )\n",
       "    )\n",
       "    (1): BasicBlock(\n",
       "      (conv1): Conv2d(128, 128, kernel_size=(3, 3), stride=(1, 1), padding=(1, 1), bias=False)\n",
       "      (bn1): BatchNorm2d(128, eps=1e-05, momentum=0.1, affine=True, track_running_stats=True)\n",
       "      (relu): ReLU(inplace=True)\n",
       "      (conv2): Conv2d(128, 128, kernel_size=(3, 3), stride=(1, 1), padding=(1, 1), bias=False)\n",
       "      (bn2): BatchNorm2d(128, eps=1e-05, momentum=0.1, affine=True, track_running_stats=True)\n",
       "    )\n",
       "  )\n",
       "  (layer3): Sequential(\n",
       "    (0): BasicBlock(\n",
       "      (conv1): Conv2d(128, 256, kernel_size=(3, 3), stride=(2, 2), padding=(1, 1), bias=False)\n",
       "      (bn1): BatchNorm2d(256, eps=1e-05, momentum=0.1, affine=True, track_running_stats=True)\n",
       "      (relu): ReLU(inplace=True)\n",
       "      (conv2): Conv2d(256, 256, kernel_size=(3, 3), stride=(1, 1), padding=(1, 1), bias=False)\n",
       "      (bn2): BatchNorm2d(256, eps=1e-05, momentum=0.1, affine=True, track_running_stats=True)\n",
       "      (downsample): Sequential(\n",
       "        (0): Conv2d(128, 256, kernel_size=(1, 1), stride=(2, 2), bias=False)\n",
       "        (1): BatchNorm2d(256, eps=1e-05, momentum=0.1, affine=True, track_running_stats=True)\n",
       "      )\n",
       "    )\n",
       "    (1): BasicBlock(\n",
       "      (conv1): Conv2d(256, 256, kernel_size=(3, 3), stride=(1, 1), padding=(1, 1), bias=False)\n",
       "      (bn1): BatchNorm2d(256, eps=1e-05, momentum=0.1, affine=True, track_running_stats=True)\n",
       "      (relu): ReLU(inplace=True)\n",
       "      (conv2): Conv2d(256, 256, kernel_size=(3, 3), stride=(1, 1), padding=(1, 1), bias=False)\n",
       "      (bn2): BatchNorm2d(256, eps=1e-05, momentum=0.1, affine=True, track_running_stats=True)\n",
       "    )\n",
       "  )\n",
       "  (layer4): Sequential(\n",
       "    (0): BasicBlock(\n",
       "      (conv1): Conv2d(256, 512, kernel_size=(3, 3), stride=(2, 2), padding=(1, 1), bias=False)\n",
       "      (bn1): BatchNorm2d(512, eps=1e-05, momentum=0.1, affine=True, track_running_stats=True)\n",
       "      (relu): ReLU(inplace=True)\n",
       "      (conv2): Conv2d(512, 512, kernel_size=(3, 3), stride=(1, 1), padding=(1, 1), bias=False)\n",
       "      (bn2): BatchNorm2d(512, eps=1e-05, momentum=0.1, affine=True, track_running_stats=True)\n",
       "      (downsample): Sequential(\n",
       "        (0): Conv2d(256, 512, kernel_size=(1, 1), stride=(2, 2), bias=False)\n",
       "        (1): BatchNorm2d(512, eps=1e-05, momentum=0.1, affine=True, track_running_stats=True)\n",
       "      )\n",
       "    )\n",
       "    (1): BasicBlock(\n",
       "      (conv1): Conv2d(512, 512, kernel_size=(3, 3), stride=(1, 1), padding=(1, 1), bias=False)\n",
       "      (bn1): BatchNorm2d(512, eps=1e-05, momentum=0.1, affine=True, track_running_stats=True)\n",
       "      (relu): ReLU(inplace=True)\n",
       "      (conv2): Conv2d(512, 512, kernel_size=(3, 3), stride=(1, 1), padding=(1, 1), bias=False)\n",
       "      (bn2): BatchNorm2d(512, eps=1e-05, momentum=0.1, affine=True, track_running_stats=True)\n",
       "    )\n",
       "  )\n",
       "  (avgpool): AdaptiveAvgPool2d(output_size=(1, 1))\n",
       "  (fc): Linear(in_features=512, out_features=1000, bias=True)\n",
       ")"
      ]
     },
     "execution_count": 37,
     "metadata": {},
     "output_type": "execute_result"
    }
   ],
   "source": [
    "model.cuda(GPU)\n",
    "#model = torch.nn.parallel.DistributedDataParallel(model, device_ids=[GPU])\n",
    "# model = torch.nn.parallel.DistributedDataParallel(model)"
   ]
  },
  {
   "cell_type": "code",
   "execution_count": 38,
   "id": "8ddc687b",
   "metadata": {
    "id": "b8dc59b5"
   },
   "outputs": [],
   "source": [
    "criterion = nn.CrossEntropyLoss().cuda(GPU)"
   ]
  },
  {
   "cell_type": "code",
   "execution_count": 39,
   "id": "a2231b2c",
   "metadata": {
    "id": "3999d84a"
   },
   "outputs": [],
   "source": [
    "optimizer = torch.optim.SGD(model.parameters(), LR,\n",
    "                                momentum=MOMENTUM,\n",
    "                                weight_decay=WEIGHT_DECAY)"
   ]
  },
  {
   "cell_type": "code",
   "execution_count": 40,
   "id": "4d368a67",
   "metadata": {
    "id": "9fae338b"
   },
   "outputs": [],
   "source": [
    "scheduler = torch.optim.lr_scheduler.CosineAnnealingLR(optimizer, T_max=EPOCHS)"
   ]
  },
  {
   "cell_type": "code",
   "execution_count": 41,
   "id": "48202c7c",
   "metadata": {
    "id": "34dbcdb1"
   },
   "outputs": [],
   "source": [
    "#transform_train = transforms.Compose([\n",
    "#    transforms.Resize(256),\n",
    "#    transforms.RandomResizedCrop(224),\n",
    "#    transforms.CenterCrop(224),\n",
    "#    transforms.RandomHorizontalFlip(),\n",
    "#    transforms.ToTensor(),\n",
    "#    transforms.Normalize(imagenet_mean_RGB, imagenet_std_RGB),\n",
    "#])"
   ]
  },
  {
   "cell_type": "code",
   "execution_count": 42,
   "id": "6dfde8a7",
   "metadata": {},
   "outputs": [],
   "source": [
    "train_dataset = datasets.ImageFolder(\n",
    "    TRAINDIR,\n",
    "    transforms.Compose([\n",
    "        transforms.Resize(256),\n",
    "        transforms.RandomResizedCrop(224),\n",
    "        transforms.CenterCrop(224),\n",
    "        transforms.RandomHorizontalFlip(),\n",
    "        transforms.ToTensor(),\n",
    "        normalize,\n",
    "    ])\n",
    ")"
   ]
  },
  {
   "cell_type": "code",
   "execution_count": 43,
   "id": "870eb313",
   "metadata": {
    "id": "e5275a69"
   },
   "outputs": [],
   "source": [
    "#train_dataset = datasets.ImageFolder(\n",
    "#    TRAINDIR, transform=transform_train)"
   ]
  },
  {
   "cell_type": "code",
   "execution_count": 44,
   "id": "36d41ee4",
   "metadata": {
    "id": "854ca1ad"
   },
   "outputs": [],
   "source": [
    "#transform_val = transforms.Compose([\n",
    "#    transforms.Resize(256),\n",
    "#    transforms.CenterCrop(224),\n",
    "#    transforms.ToTensor(),\n",
    "#    transforms.Normalize(imagenet_mean_RGB, imagenet_std_RGB),\n",
    "#])"
   ]
  },
  {
   "cell_type": "code",
   "execution_count": 45,
   "id": "48ffa3d9",
   "metadata": {
    "id": "abfa5fb6"
   },
   "outputs": [],
   "source": [
    "#val_dataset = datasets.ImageFolder(\n",
    "#    VALDIR, transform=transform_val)"
   ]
  },
  {
   "cell_type": "code",
   "execution_count": 46,
   "id": "2682a2da",
   "metadata": {},
   "outputs": [],
   "source": [
    "val_dataset = datasets.ImageFolder(\n",
    "    VALDIR,\n",
    "    transforms.Compose([\n",
    "        transforms.Resize(256),\n",
    "        transforms.CenterCrop(224),\n",
    "        transforms.ToTensor(),\n",
    "        normalize,\n",
    "    ])\n",
    ")"
   ]
  },
  {
   "cell_type": "code",
   "execution_count": 47,
   "id": "df9f905c",
   "metadata": {
    "id": "07a0bdf4"
   },
   "outputs": [],
   "source": [
    "train_loader = torch.utils.data.DataLoader(\n",
    "        train_dataset, batch_size=TRAIN_BATCH, shuffle=True,\n",
    "        num_workers=WORKERS, pin_memory=True, sampler=None)"
   ]
  },
  {
   "cell_type": "code",
   "execution_count": 48,
   "id": "dd722d0e",
   "metadata": {
    "id": "192ae835"
   },
   "outputs": [],
   "source": [
    "val_loader = torch.utils.data.DataLoader(\n",
    "        val_dataset, batch_size=VAL_BATCH, shuffle=False,\n",
    "        num_workers=WORKERS, pin_memory=True, sampler=None) "
   ]
  },
  {
   "cell_type": "code",
   "execution_count": 49,
   "id": "2451dfe2",
   "metadata": {
    "id": "1502c5db"
   },
   "outputs": [],
   "source": [
    "best_acc1 = 0"
   ]
  },
  {
   "cell_type": "code",
   "execution_count": 50,
   "id": "048e48ad",
   "metadata": {
    "id": "ceb95e07"
   },
   "outputs": [
    {
     "name": "stderr",
     "output_type": "stream",
     "text": [
      "/opt/conda/lib/python3.8/site-packages/torch/nn/functional.py:718: UserWarning: Named tensors and all their associated APIs are an experimental feature and subject to change. Please do not use them for anything important until they are released as stable. (Triggered internally at  ../c10/core/TensorImpl.h:1153.)\n",
      "  return torch.max_pool2d(input, kernel_size, stride, padding, dilation, ceil_mode)\n"
     ]
    },
    {
     "name": "stdout",
     "output_type": "stream",
     "text": [
      "Epoch: [0][   0/5005]\tTime 11.059 (11.059)\tData  3.194 ( 3.194)\tLoss 6.9886e+00 (6.9886e+00)\tAcc@1   0.00 (  0.00)\tAcc@5   0.78 (  0.78)\n",
      "Epoch: [0][  50/5005]\tTime  0.317 ( 0.534)\tData  0.002 ( 0.065)\tLoss 6.9305e+00 (7.0310e+00)\tAcc@1   0.00 (  0.21)\tAcc@5   1.17 (  0.79)\n",
      "Epoch: [0][ 100/5005]\tTime  0.319 ( 0.432)\tData  0.002 ( 0.034)\tLoss 6.7997e+00 (6.9383e+00)\tAcc@1   0.00 (  0.27)\tAcc@5   2.34 (  1.13)\n",
      "Epoch: [0][ 150/5005]\tTime  0.320 ( 0.397)\tData  0.002 ( 0.024)\tLoss 6.7080e+00 (6.8687e+00)\tAcc@1   0.00 (  0.40)\tAcc@5   1.56 (  1.49)\n",
      "Epoch: [0][ 200/5005]\tTime  0.344 ( 0.380)\tData  0.003 ( 0.018)\tLoss 6.6337e+00 (6.8090e+00)\tAcc@1   0.00 (  0.47)\tAcc@5   3.12 (  1.78)\n",
      "Epoch: [0][ 250/5005]\tTime  0.320 ( 0.369)\tData  0.002 ( 0.015)\tLoss 6.4551e+00 (6.7550e+00)\tAcc@1   1.56 (  0.55)\tAcc@5   3.91 (  2.11)\n",
      "Epoch: [0][ 300/5005]\tTime  0.319 ( 0.362)\tData  0.002 ( 0.013)\tLoss 6.4018e+00 (6.7062e+00)\tAcc@1   1.17 (  0.62)\tAcc@5   5.08 (  2.40)\n",
      "Epoch: [0][ 350/5005]\tTime  0.345 ( 0.357)\tData  0.002 ( 0.011)\tLoss 6.2436e+00 (6.6596e+00)\tAcc@1   1.95 (  0.68)\tAcc@5   6.25 (  2.65)\n",
      "Epoch: [0][ 400/5005]\tTime  0.322 ( 0.354)\tData  0.002 ( 0.010)\tLoss 6.2017e+00 (6.6154e+00)\tAcc@1   2.73 (  0.76)\tAcc@5   9.38 (  2.96)\n",
      "Epoch: [0][ 450/5005]\tTime  0.346 ( 0.351)\tData  0.002 ( 0.009)\tLoss 6.2409e+00 (6.5736e+00)\tAcc@1   0.78 (  0.84)\tAcc@5   3.52 (  3.30)\n",
      "Epoch: [0][ 500/5005]\tTime  0.337 ( 0.349)\tData  0.002 ( 0.009)\tLoss 6.1749e+00 (6.5311e+00)\tAcc@1   0.78 (  0.93)\tAcc@5   3.91 (  3.61)\n",
      "Epoch: [0][ 550/5005]\tTime  0.345 ( 0.347)\tData  0.002 ( 0.008)\tLoss 6.1662e+00 (6.4938e+00)\tAcc@1   1.56 (  1.01)\tAcc@5   7.03 (  3.90)\n",
      "Epoch: [0][ 600/5005]\tTime  0.323 ( 0.345)\tData  0.002 ( 0.008)\tLoss 6.1741e+00 (6.4553e+00)\tAcc@1   0.78 (  1.10)\tAcc@5   4.30 (  4.22)\n",
      "Epoch: [0][ 650/5005]\tTime  0.322 ( 0.344)\tData  0.002 ( 0.007)\tLoss 6.0680e+00 (6.4215e+00)\tAcc@1   3.52 (  1.17)\tAcc@5   8.59 (  4.51)\n",
      "Epoch: [0][ 700/5005]\tTime  0.321 ( 0.343)\tData  0.002 ( 0.007)\tLoss 5.7538e+00 (6.3865e+00)\tAcc@1   2.34 (  1.28)\tAcc@5  12.89 (  4.84)\n",
      "Epoch: [0][ 750/5005]\tTime  0.331 ( 0.342)\tData  0.002 ( 0.007)\tLoss 5.7523e+00 (6.3536e+00)\tAcc@1   2.73 (  1.39)\tAcc@5  10.94 (  5.19)\n",
      "Epoch: [0][ 800/5005]\tTime  0.339 ( 0.341)\tData  0.003 ( 0.006)\tLoss 5.8537e+00 (6.3235e+00)\tAcc@1   2.73 (  1.49)\tAcc@5  12.11 (  5.48)\n",
      "Epoch: [0][ 850/5005]\tTime  0.323 ( 0.340)\tData  0.002 ( 0.006)\tLoss 5.8299e+00 (6.2914e+00)\tAcc@1   4.69 (  1.60)\tAcc@5  10.55 (  5.81)\n",
      "Epoch: [0][ 900/5005]\tTime  0.321 ( 0.340)\tData  0.002 ( 0.006)\tLoss 5.6589e+00 (6.2613e+00)\tAcc@1   3.52 (  1.69)\tAcc@5  13.28 (  6.13)\n"
     ]
    },
    {
     "name": "stderr",
     "output_type": "stream",
     "text": [
      "/opt/conda/lib/python3.8/site-packages/PIL/TiffImagePlugin.py:788: UserWarning: Corrupt EXIF data.  Expecting to read 4 bytes but only got 0. \n",
      "  warnings.warn(str(msg))\n"
     ]
    },
    {
     "name": "stdout",
     "output_type": "stream",
     "text": [
      "Epoch: [0][ 950/5005]\tTime  0.320 ( 0.339)\tData  0.002 ( 0.006)\tLoss 5.6386e+00 (6.2320e+00)\tAcc@1   5.47 (  1.83)\tAcc@5  15.23 (  6.46)\n",
      "Epoch: [0][1000/5005]\tTime  0.321 ( 0.339)\tData  0.003 ( 0.006)\tLoss 5.5779e+00 (6.2026e+00)\tAcc@1   3.52 (  1.94)\tAcc@5  15.23 (  6.80)\n",
      "Epoch: [0][1050/5005]\tTime  0.348 ( 0.338)\tData  0.003 ( 0.005)\tLoss 5.6560e+00 (6.1748e+00)\tAcc@1   1.56 (  2.05)\tAcc@5  10.55 (  7.11)\n",
      "Epoch: [0][1100/5005]\tTime  0.320 ( 0.338)\tData  0.002 ( 0.005)\tLoss 5.5794e+00 (6.1486e+00)\tAcc@1   5.47 (  2.15)\tAcc@5  16.02 (  7.41)\n",
      "Epoch: [0][1150/5005]\tTime  0.321 ( 0.337)\tData  0.002 ( 0.005)\tLoss 5.5507e+00 (6.1212e+00)\tAcc@1   4.69 (  2.26)\tAcc@5  14.84 (  7.73)\n",
      "Epoch: [0][1200/5005]\tTime  0.321 ( 0.337)\tData  0.002 ( 0.005)\tLoss 5.6266e+00 (6.0960e+00)\tAcc@1   5.86 (  2.38)\tAcc@5  14.06 (  8.04)\n",
      "Epoch: [0][1250/5005]\tTime  0.322 ( 0.337)\tData  0.002 ( 0.005)\tLoss 5.5400e+00 (6.0725e+00)\tAcc@1   5.86 (  2.48)\tAcc@5  18.36 (  8.33)\n",
      "Epoch: [0][1300/5005]\tTime  0.346 ( 0.337)\tData  0.003 ( 0.005)\tLoss 5.5145e+00 (6.0484e+00)\tAcc@1   4.69 (  2.61)\tAcc@5  14.84 (  8.64)\n",
      "Epoch: [0][1350/5005]\tTime  0.323 ( 0.336)\tData  0.002 ( 0.005)\tLoss 5.3062e+00 (6.0241e+00)\tAcc@1   5.86 (  2.72)\tAcc@5  18.75 (  8.95)\n",
      "Epoch: [0][1400/5005]\tTime  0.324 ( 0.336)\tData  0.002 ( 0.005)\tLoss 5.3333e+00 (6.0009e+00)\tAcc@1   5.08 (  2.83)\tAcc@5  19.14 (  9.25)\n",
      "Epoch: [0][1450/5005]\tTime  0.324 ( 0.336)\tData  0.002 ( 0.005)\tLoss 5.2895e+00 (5.9774e+00)\tAcc@1   5.08 (  2.95)\tAcc@5  16.02 (  9.57)\n",
      "Epoch: [0][1500/5005]\tTime  0.324 ( 0.336)\tData  0.002 ( 0.005)\tLoss 5.2009e+00 (5.9544e+00)\tAcc@1  10.94 (  3.07)\tAcc@5  23.44 (  9.88)\n",
      "Epoch: [0][1550/5005]\tTime  0.326 ( 0.336)\tData  0.002 ( 0.005)\tLoss 5.4579e+00 (5.9330e+00)\tAcc@1   6.25 (  3.19)\tAcc@5  14.84 ( 10.17)\n",
      "Epoch: [0][1600/5005]\tTime  0.327 ( 0.336)\tData  0.002 ( 0.004)\tLoss 5.2496e+00 (5.9114e+00)\tAcc@1   5.86 (  3.32)\tAcc@5  18.36 ( 10.48)\n",
      "Epoch: [0][1650/5005]\tTime  0.348 ( 0.336)\tData  0.002 ( 0.004)\tLoss 5.1663e+00 (5.8899e+00)\tAcc@1   8.20 (  3.44)\tAcc@5  20.70 ( 10.77)\n",
      "Epoch: [0][1700/5005]\tTime  0.330 ( 0.336)\tData  0.002 ( 0.004)\tLoss 5.2442e+00 (5.8696e+00)\tAcc@1   7.03 (  3.55)\tAcc@5  21.48 ( 11.06)\n",
      "Epoch: [0][1750/5005]\tTime  0.332 ( 0.336)\tData  0.002 ( 0.004)\tLoss 5.2509e+00 (5.8488e+00)\tAcc@1   7.42 (  3.66)\tAcc@5  18.75 ( 11.34)\n",
      "Epoch: [0][1800/5005]\tTime  0.327 ( 0.336)\tData  0.002 ( 0.004)\tLoss 5.1181e+00 (5.8283e+00)\tAcc@1   7.81 (  3.78)\tAcc@5  20.70 ( 11.63)\n",
      "Epoch: [0][1850/5005]\tTime  0.349 ( 0.336)\tData  0.002 ( 0.004)\tLoss 5.2020e+00 (5.8075e+00)\tAcc@1   6.64 (  3.91)\tAcc@5  17.97 ( 11.94)\n",
      "Epoch: [0][1900/5005]\tTime  0.347 ( 0.336)\tData  0.002 ( 0.004)\tLoss 5.1685e+00 (5.7882e+00)\tAcc@1   8.20 (  4.03)\tAcc@5  19.14 ( 12.22)\n",
      "Epoch: [0][1950/5005]\tTime  0.346 ( 0.336)\tData  0.002 ( 0.004)\tLoss 5.1187e+00 (5.7690e+00)\tAcc@1   6.64 (  4.14)\tAcc@5  23.83 ( 12.50)\n",
      "Epoch: [0][2000/5005]\tTime  0.322 ( 0.335)\tData  0.002 ( 0.004)\tLoss 4.9839e+00 (5.7505e+00)\tAcc@1  11.33 (  4.28)\tAcc@5  23.44 ( 12.78)\n",
      "Epoch: [0][2050/5005]\tTime  0.323 ( 0.335)\tData  0.002 ( 0.004)\tLoss 5.0372e+00 (5.7318e+00)\tAcc@1   7.42 (  4.40)\tAcc@5  24.22 ( 13.05)\n",
      "Epoch: [0][2100/5005]\tTime  0.322 ( 0.335)\tData  0.002 ( 0.004)\tLoss 4.9947e+00 (5.7128e+00)\tAcc@1   7.81 (  4.52)\tAcc@5  23.05 ( 13.33)\n",
      "Epoch: [0][2150/5005]\tTime  0.321 ( 0.335)\tData  0.002 ( 0.004)\tLoss 4.9244e+00 (5.6945e+00)\tAcc@1  11.72 (  4.66)\tAcc@5  24.61 ( 13.62)\n",
      "Epoch: [0][2200/5005]\tTime  0.324 ( 0.335)\tData  0.002 ( 0.004)\tLoss 4.9785e+00 (5.6763e+00)\tAcc@1   8.98 (  4.80)\tAcc@5  26.17 ( 13.90)\n",
      "Epoch: [0][2250/5005]\tTime  0.321 ( 0.335)\tData  0.002 ( 0.004)\tLoss 4.7969e+00 (5.6581e+00)\tAcc@1  12.89 (  4.92)\tAcc@5  26.56 ( 14.18)\n",
      "Epoch: [0][2300/5005]\tTime  0.324 ( 0.335)\tData  0.002 ( 0.004)\tLoss 4.7625e+00 (5.6405e+00)\tAcc@1  14.06 (  5.05)\tAcc@5  28.91 ( 14.44)\n",
      "Epoch: [0][2350/5005]\tTime  0.324 ( 0.335)\tData  0.002 ( 0.004)\tLoss 4.8340e+00 (5.6223e+00)\tAcc@1  10.94 (  5.18)\tAcc@5  26.17 ( 14.72)\n",
      "Epoch: [0][2400/5005]\tTime  0.324 ( 0.335)\tData  0.002 ( 0.004)\tLoss 4.9365e+00 (5.6049e+00)\tAcc@1  10.94 (  5.31)\tAcc@5  24.61 ( 14.98)\n",
      "Epoch: [0][2450/5005]\tTime  0.352 ( 0.335)\tData  0.002 ( 0.004)\tLoss 4.6155e+00 (5.5880e+00)\tAcc@1  10.94 (  5.43)\tAcc@5  29.69 ( 15.24)\n",
      "Epoch: [0][2500/5005]\tTime  0.327 ( 0.335)\tData  0.002 ( 0.004)\tLoss 4.8237e+00 (5.5716e+00)\tAcc@1  12.50 (  5.55)\tAcc@5  26.17 ( 15.51)\n",
      "Epoch: [0][2550/5005]\tTime  0.329 ( 0.335)\tData  0.002 ( 0.004)\tLoss 4.5981e+00 (5.5546e+00)\tAcc@1  12.11 (  5.68)\tAcc@5  31.25 ( 15.78)\n",
      "Epoch: [0][2600/5005]\tTime  0.331 ( 0.335)\tData  0.002 ( 0.004)\tLoss 4.6766e+00 (5.5386e+00)\tAcc@1  10.55 (  5.80)\tAcc@5  31.25 ( 16.03)\n",
      "Epoch: [0][2650/5005]\tTime  0.334 ( 0.335)\tData  0.002 ( 0.004)\tLoss 4.9471e+00 (5.5230e+00)\tAcc@1  11.33 (  5.92)\tAcc@5  25.39 ( 16.28)\n",
      "Epoch: [0][2700/5005]\tTime  0.326 ( 0.335)\tData  0.002 ( 0.004)\tLoss 4.8453e+00 (5.5063e+00)\tAcc@1   8.98 (  6.05)\tAcc@5  22.66 ( 16.55)\n",
      "Epoch: [0][2750/5005]\tTime  0.350 ( 0.335)\tData  0.002 ( 0.004)\tLoss 4.5210e+00 (5.4909e+00)\tAcc@1  10.55 (  6.17)\tAcc@5  34.77 ( 16.80)\n",
      "Epoch: [0][2800/5005]\tTime  0.323 ( 0.335)\tData  0.003 ( 0.004)\tLoss 4.6867e+00 (5.4747e+00)\tAcc@1  11.33 (  6.30)\tAcc@5  30.08 ( 17.06)\n",
      "Epoch: [0][2850/5005]\tTime  0.321 ( 0.335)\tData  0.002 ( 0.004)\tLoss 4.6767e+00 (5.4596e+00)\tAcc@1  12.50 (  6.42)\tAcc@5  29.69 ( 17.31)\n",
      "Epoch: [0][2900/5005]\tTime  0.323 ( 0.335)\tData  0.002 ( 0.004)\tLoss 4.4625e+00 (5.4443e+00)\tAcc@1  15.62 (  6.54)\tAcc@5  36.33 ( 17.57)\n",
      "Epoch: [0][2950/5005]\tTime  0.320 ( 0.334)\tData  0.002 ( 0.004)\tLoss 4.5538e+00 (5.4298e+00)\tAcc@1  10.94 (  6.66)\tAcc@5  29.69 ( 17.80)\n",
      "Epoch: [0][3000/5005]\tTime  0.321 ( 0.334)\tData  0.002 ( 0.004)\tLoss 4.4217e+00 (5.4143e+00)\tAcc@1  17.97 (  6.79)\tAcc@5  36.72 ( 18.05)\n",
      "Epoch: [0][3050/5005]\tTime  0.321 ( 0.334)\tData  0.002 ( 0.004)\tLoss 4.5018e+00 (5.3990e+00)\tAcc@1  14.45 (  6.92)\tAcc@5  30.47 ( 18.31)\n",
      "Epoch: [0][3100/5005]\tTime  0.324 ( 0.334)\tData  0.002 ( 0.003)\tLoss 4.5533e+00 (5.3845e+00)\tAcc@1  11.72 (  7.04)\tAcc@5  30.47 ( 18.55)\n",
      "Epoch: [0][3150/5005]\tTime  0.324 ( 0.334)\tData  0.002 ( 0.003)\tLoss 4.4369e+00 (5.3702e+00)\tAcc@1  11.33 (  7.16)\tAcc@5  33.98 ( 18.79)\n",
      "Epoch: [0][3200/5005]\tTime  0.347 ( 0.334)\tData  0.002 ( 0.003)\tLoss 4.5974e+00 (5.3561e+00)\tAcc@1  14.84 (  7.28)\tAcc@5  32.81 ( 19.03)\n",
      "Epoch: [0][3250/5005]\tTime  0.323 ( 0.334)\tData  0.002 ( 0.003)\tLoss 4.3243e+00 (5.3416e+00)\tAcc@1  19.53 (  7.40)\tAcc@5  33.98 ( 19.28)\n",
      "Epoch: [0][3300/5005]\tTime  0.325 ( 0.334)\tData  0.002 ( 0.003)\tLoss 4.3262e+00 (5.3277e+00)\tAcc@1  17.97 (  7.53)\tAcc@5  36.72 ( 19.51)\n",
      "Epoch: [0][3350/5005]\tTime  0.325 ( 0.334)\tData  0.002 ( 0.003)\tLoss 4.4203e+00 (5.3138e+00)\tAcc@1  14.45 (  7.65)\tAcc@5  38.28 ( 19.74)\n",
      "Epoch: [0][3400/5005]\tTime  0.327 ( 0.334)\tData  0.002 ( 0.003)\tLoss 4.3737e+00 (5.3002e+00)\tAcc@1  16.41 (  7.77)\tAcc@5  33.98 ( 19.98)\n",
      "Epoch: [0][3450/5005]\tTime  0.329 ( 0.334)\tData  0.002 ( 0.003)\tLoss 4.3476e+00 (5.2865e+00)\tAcc@1  13.67 (  7.89)\tAcc@5  36.33 ( 20.21)\n",
      "Epoch: [0][3500/5005]\tTime  0.328 ( 0.334)\tData  0.002 ( 0.003)\tLoss 4.3657e+00 (5.2730e+00)\tAcc@1  14.45 (  8.01)\tAcc@5  34.77 ( 20.45)\n",
      "Epoch: [0][3550/5005]\tTime  0.333 ( 0.334)\tData  0.002 ( 0.003)\tLoss 4.2676e+00 (5.2591e+00)\tAcc@1  14.06 (  8.15)\tAcc@5  39.06 ( 20.68)\n",
      "Epoch: [0][3600/5005]\tTime  0.352 ( 0.334)\tData  0.002 ( 0.003)\tLoss 4.0719e+00 (5.2460e+00)\tAcc@1  18.36 (  8.26)\tAcc@5  37.89 ( 20.90)\n",
      "Epoch: [0][3650/5005]\tTime  0.349 ( 0.334)\tData  0.002 ( 0.003)\tLoss 4.3106e+00 (5.2331e+00)\tAcc@1  17.19 (  8.38)\tAcc@5  36.33 ( 21.13)\n",
      "Epoch: [0][3700/5005]\tTime  0.322 ( 0.334)\tData  0.002 ( 0.003)\tLoss 3.9908e+00 (5.2201e+00)\tAcc@1  16.41 (  8.50)\tAcc@5  42.19 ( 21.36)\n",
      "Epoch: [0][3750/5005]\tTime  0.322 ( 0.334)\tData  0.002 ( 0.003)\tLoss 4.3926e+00 (5.2070e+00)\tAcc@1  15.62 (  8.62)\tAcc@5  37.50 ( 21.58)\n",
      "Epoch: [0][3800/5005]\tTime  0.344 ( 0.334)\tData  0.002 ( 0.003)\tLoss 4.1375e+00 (5.1939e+00)\tAcc@1  22.66 (  8.73)\tAcc@5  42.19 ( 21.80)\n",
      "Epoch: [0][3850/5005]\tTime  0.350 ( 0.334)\tData  0.031 ( 0.003)\tLoss 4.1531e+00 (5.1812e+00)\tAcc@1  15.23 (  8.85)\tAcc@5  37.11 ( 22.02)\n",
      "Epoch: [0][3900/5005]\tTime  0.341 ( 0.334)\tData  0.003 ( 0.003)\tLoss 4.1446e+00 (5.1686e+00)\tAcc@1  17.97 (  8.98)\tAcc@5  39.06 ( 22.23)\n",
      "Epoch: [0][3950/5005]\tTime  0.348 ( 0.334)\tData  0.003 ( 0.003)\tLoss 4.4023e+00 (5.1562e+00)\tAcc@1  15.62 (  9.10)\tAcc@5  35.55 ( 22.45)\n",
      "Epoch: [0][4000/5005]\tTime  0.352 ( 0.334)\tData  0.002 ( 0.003)\tLoss 4.0721e+00 (5.1440e+00)\tAcc@1  18.75 (  9.21)\tAcc@5  41.80 ( 22.66)\n",
      "Epoch: [0][4050/5005]\tTime  0.323 ( 0.334)\tData  0.002 ( 0.003)\tLoss 4.1306e+00 (5.1315e+00)\tAcc@1  20.70 (  9.33)\tAcc@5  41.41 ( 22.88)\n",
      "Epoch: [0][4100/5005]\tTime  0.340 ( 0.334)\tData  0.002 ( 0.003)\tLoss 4.0483e+00 (5.1191e+00)\tAcc@1  19.14 (  9.45)\tAcc@5  39.84 ( 23.10)\n",
      "Epoch: [0][4150/5005]\tTime  0.348 ( 0.334)\tData  0.002 ( 0.003)\tLoss 4.3859e+00 (5.1071e+00)\tAcc@1  16.41 (  9.57)\tAcc@5  32.81 ( 23.31)\n",
      "Epoch: [0][4200/5005]\tTime  0.324 ( 0.334)\tData  0.002 ( 0.003)\tLoss 3.8876e+00 (5.0954e+00)\tAcc@1  22.66 (  9.68)\tAcc@5  42.97 ( 23.52)\n",
      "Epoch: [0][4250/5005]\tTime  0.325 ( 0.334)\tData  0.002 ( 0.003)\tLoss 4.1893e+00 (5.0839e+00)\tAcc@1  13.67 (  9.78)\tAcc@5  37.50 ( 23.72)\n",
      "Epoch: [0][4300/5005]\tTime  0.382 ( 0.334)\tData  0.004 ( 0.003)\tLoss 4.0940e+00 (5.0725e+00)\tAcc@1  17.19 (  9.90)\tAcc@5  39.45 ( 23.92)\n",
      "Epoch: [0][4350/5005]\tTime  0.330 ( 0.334)\tData  0.002 ( 0.003)\tLoss 4.0355e+00 (5.0609e+00)\tAcc@1  21.88 ( 10.01)\tAcc@5  41.80 ( 24.13)\n",
      "Epoch: [0][4400/5005]\tTime  0.330 ( 0.334)\tData  0.002 ( 0.003)\tLoss 4.2378e+00 (5.0495e+00)\tAcc@1  18.75 ( 10.12)\tAcc@5  36.72 ( 24.33)\n",
      "Epoch: [0][4450/5005]\tTime  0.353 ( 0.334)\tData  0.002 ( 0.003)\tLoss 4.1686e+00 (5.0381e+00)\tAcc@1  14.84 ( 10.23)\tAcc@5  40.62 ( 24.53)\n",
      "Epoch: [0][4500/5005]\tTime  0.346 ( 0.334)\tData  0.003 ( 0.003)\tLoss 4.2256e+00 (5.0272e+00)\tAcc@1  17.19 ( 10.34)\tAcc@5  39.45 ( 24.73)\n",
      "Epoch: [0][4550/5005]\tTime  0.325 ( 0.334)\tData  0.002 ( 0.003)\tLoss 4.0080e+00 (5.0160e+00)\tAcc@1  25.00 ( 10.45)\tAcc@5  42.97 ( 24.92)\n",
      "Epoch: [0][4600/5005]\tTime  0.339 ( 0.334)\tData  0.003 ( 0.003)\tLoss 3.9694e+00 (5.0054e+00)\tAcc@1  19.53 ( 10.56)\tAcc@5  43.36 ( 25.12)\n",
      "Epoch: [0][4650/5005]\tTime  0.349 ( 0.334)\tData  0.004 ( 0.003)\tLoss 4.0295e+00 (4.9946e+00)\tAcc@1  21.09 ( 10.67)\tAcc@5  44.14 ( 25.31)\n",
      "Epoch: [0][4700/5005]\tTime  0.345 ( 0.334)\tData  0.002 ( 0.003)\tLoss 3.9155e+00 (4.9839e+00)\tAcc@1  22.27 ( 10.77)\tAcc@5  46.48 ( 25.50)\n",
      "Epoch: [0][4750/5005]\tTime  0.322 ( 0.334)\tData  0.002 ( 0.003)\tLoss 3.9123e+00 (4.9732e+00)\tAcc@1  24.61 ( 10.88)\tAcc@5  45.70 ( 25.68)\n",
      "Epoch: [0][4800/5005]\tTime  0.320 ( 0.334)\tData  0.002 ( 0.003)\tLoss 4.0718e+00 (4.9627e+00)\tAcc@1  19.14 ( 10.99)\tAcc@5  44.92 ( 25.87)\n",
      "Epoch: [0][4850/5005]\tTime  0.322 ( 0.333)\tData  0.002 ( 0.003)\tLoss 3.9724e+00 (4.9522e+00)\tAcc@1  17.58 ( 11.10)\tAcc@5  44.53 ( 26.05)\n",
      "Epoch: [0][4900/5005]\tTime  0.321 ( 0.333)\tData  0.002 ( 0.003)\tLoss 3.7704e+00 (4.9420e+00)\tAcc@1  20.70 ( 11.21)\tAcc@5  46.48 ( 26.23)\n",
      "Epoch: [0][4950/5005]\tTime  0.320 ( 0.333)\tData  0.002 ( 0.003)\tLoss 3.8569e+00 (4.9315e+00)\tAcc@1  23.05 ( 11.32)\tAcc@5  42.97 ( 26.42)\n",
      "Epoch: [0][5000/5005]\tTime  0.321 ( 0.333)\tData  0.002 ( 0.003)\tLoss 3.8274e+00 (4.9210e+00)\tAcc@1  20.31 ( 11.43)\tAcc@5  43.75 ( 26.60)\n",
      "Test: [  0/196]\tTime  4.319 ( 4.319)\tLoss 2.5572e+00 (2.5572e+00)\tAcc@1  39.84 ( 39.84)\tAcc@5  75.78 ( 75.78)\n",
      "Test: [ 50/196]\tTime  0.209 ( 0.326)\tLoss 3.2514e+00 (3.4591e+00)\tAcc@1  23.44 ( 24.89)\tAcc@5  56.64 ( 51.90)\n",
      "Test: [100/196]\tTime  0.211 ( 0.304)\tLoss 5.0022e+00 (3.6099e+00)\tAcc@1   7.42 ( 23.80)\tAcc@5  21.48 ( 49.39)\n",
      "Test: [150/196]\tTime  0.213 ( 0.293)\tLoss 4.0658e+00 (3.7797e+00)\tAcc@1  19.92 ( 22.47)\tAcc@5  40.23 ( 46.54)\n",
      " * Acc@1 22.510 Acc@5 46.218\n",
      "lr: [0.09999383162408304]\n",
      "Epoch: [1][   0/5005]\tTime  3.411 ( 3.411)\tData  3.036 ( 3.036)\tLoss 3.7504e+00 (3.7504e+00)\tAcc@1  21.88 ( 21.88)\tAcc@5  47.27 ( 47.27)\n",
      "Epoch: [1][  50/5005]\tTime  0.322 ( 0.396)\tData  0.002 ( 0.063)\tLoss 3.7607e+00 (3.8879e+00)\tAcc@1  23.83 ( 22.82)\tAcc@5  45.31 ( 44.70)\n",
      "Epoch: [1][ 100/5005]\tTime  0.326 ( 0.365)\tData  0.002 ( 0.033)\tLoss 3.7232e+00 (3.8758e+00)\tAcc@1  23.83 ( 22.68)\tAcc@5  48.05 ( 44.84)\n",
      "Epoch: [1][ 150/5005]\tTime  0.329 ( 0.356)\tData  0.002 ( 0.023)\tLoss 3.9244e+00 (3.8649e+00)\tAcc@1  19.14 ( 22.65)\tAcc@5  44.92 ( 45.20)\n",
      "Epoch: [1][ 200/5005]\tTime  0.327 ( 0.350)\tData  0.002 ( 0.018)\tLoss 3.8830e+00 (3.8618e+00)\tAcc@1  17.19 ( 22.58)\tAcc@5  46.88 ( 45.31)\n",
      "Epoch: [1][ 250/5005]\tTime  0.323 ( 0.347)\tData  0.002 ( 0.015)\tLoss 3.9200e+00 (3.8538e+00)\tAcc@1  26.56 ( 22.77)\tAcc@5  45.70 ( 45.53)\n",
      "Epoch: [1][ 300/5005]\tTime  0.349 ( 0.344)\tData  0.002 ( 0.013)\tLoss 3.8735e+00 (3.8461e+00)\tAcc@1  21.09 ( 22.82)\tAcc@5  43.75 ( 45.65)\n",
      "Epoch: [1][ 350/5005]\tTime  0.322 ( 0.342)\tData  0.002 ( 0.011)\tLoss 3.8591e+00 (3.8400e+00)\tAcc@1  23.83 ( 22.84)\tAcc@5  46.88 ( 45.81)\n",
      "Epoch: [1][ 400/5005]\tTime  0.321 ( 0.340)\tData  0.002 ( 0.010)\tLoss 3.8797e+00 (3.8351e+00)\tAcc@1  19.92 ( 22.95)\tAcc@5  45.31 ( 45.90)\n",
      "Epoch: [1][ 450/5005]\tTime  0.321 ( 0.339)\tData  0.002 ( 0.009)\tLoss 3.7575e+00 (3.8268e+00)\tAcc@1  25.39 ( 23.03)\tAcc@5  46.09 ( 46.08)\n",
      "Epoch: [1][ 500/5005]\tTime  0.322 ( 0.338)\tData  0.002 ( 0.009)\tLoss 3.7308e+00 (3.8213e+00)\tAcc@1  23.05 ( 23.08)\tAcc@5  44.53 ( 46.13)\n",
      "Epoch: [1][ 550/5005]\tTime  0.321 ( 0.337)\tData  0.002 ( 0.008)\tLoss 3.9089e+00 (3.8193e+00)\tAcc@1  19.53 ( 23.14)\tAcc@5  47.66 ( 46.21)\n",
      "Epoch: [1][ 600/5005]\tTime  0.321 ( 0.337)\tData  0.002 ( 0.008)\tLoss 3.9910e+00 (3.8179e+00)\tAcc@1  17.19 ( 23.16)\tAcc@5  41.02 ( 46.25)\n",
      "Epoch: [1][ 650/5005]\tTime  0.337 ( 0.336)\tData  0.002 ( 0.007)\tLoss 3.6126e+00 (3.8149e+00)\tAcc@1  27.34 ( 23.19)\tAcc@5  51.56 ( 46.34)\n",
      "Epoch: [1][ 700/5005]\tTime  0.323 ( 0.336)\tData  0.002 ( 0.007)\tLoss 3.8100e+00 (3.8111e+00)\tAcc@1  23.44 ( 23.24)\tAcc@5  45.31 ( 46.45)\n",
      "Epoch: [1][ 750/5005]\tTime  0.324 ( 0.336)\tData  0.002 ( 0.007)\tLoss 3.6888e+00 (3.8061e+00)\tAcc@1  25.00 ( 23.31)\tAcc@5  48.83 ( 46.57)\n",
      "Epoch: [1][ 800/5005]\tTime  0.325 ( 0.335)\tData  0.002 ( 0.006)\tLoss 3.5686e+00 (3.8021e+00)\tAcc@1  23.83 ( 23.36)\tAcc@5  50.00 ( 46.64)\n",
      "Epoch: [1][ 850/5005]\tTime  0.325 ( 0.335)\tData  0.002 ( 0.006)\tLoss 3.5077e+00 (3.7967e+00)\tAcc@1  27.73 ( 23.43)\tAcc@5  51.95 ( 46.72)\n",
      "Epoch: [1][ 900/5005]\tTime  0.325 ( 0.335)\tData  0.002 ( 0.006)\tLoss 3.8533e+00 (3.7939e+00)\tAcc@1  24.22 ( 23.50)\tAcc@5  46.88 ( 46.75)\n",
      "Epoch: [1][ 950/5005]\tTime  0.351 ( 0.335)\tData  0.002 ( 0.006)\tLoss 3.5742e+00 (3.7901e+00)\tAcc@1  25.78 ( 23.56)\tAcc@5  46.88 ( 46.84)\n",
      "Epoch: [1][1000/5005]\tTime  0.329 ( 0.335)\tData  0.002 ( 0.006)\tLoss 3.6377e+00 (3.7855e+00)\tAcc@1  26.95 ( 23.62)\tAcc@5  48.83 ( 46.90)\n",
      "Epoch: [1][1050/5005]\tTime  0.352 ( 0.335)\tData  0.002 ( 0.005)\tLoss 3.4983e+00 (3.7819e+00)\tAcc@1  23.44 ( 23.67)\tAcc@5  51.95 ( 46.98)\n",
      "Epoch: [1][1100/5005]\tTime  0.354 ( 0.335)\tData  0.002 ( 0.005)\tLoss 3.6300e+00 (3.7776e+00)\tAcc@1  26.95 ( 23.74)\tAcc@5  52.34 ( 47.04)\n",
      "Epoch: [1][1150/5005]\tTime  0.350 ( 0.335)\tData  0.002 ( 0.005)\tLoss 3.7988e+00 (3.7727e+00)\tAcc@1  24.22 ( 23.83)\tAcc@5  48.44 ( 47.13)\n",
      "Epoch: [1][1200/5005]\tTime  0.339 ( 0.335)\tData  0.004 ( 0.005)\tLoss 3.6032e+00 (3.7684e+00)\tAcc@1  26.17 ( 23.87)\tAcc@5  51.56 ( 47.17)\n",
      "Epoch: [1][1250/5005]\tTime  0.321 ( 0.335)\tData  0.002 ( 0.005)\tLoss 3.5897e+00 (3.7653e+00)\tAcc@1  25.78 ( 23.93)\tAcc@5  51.17 ( 47.21)\n",
      "Epoch: [1][1300/5005]\tTime  0.351 ( 0.335)\tData  0.002 ( 0.005)\tLoss 3.6510e+00 (3.7609e+00)\tAcc@1  27.34 ( 24.01)\tAcc@5  48.44 ( 47.29)\n",
      "Epoch: [1][1350/5005]\tTime  0.321 ( 0.335)\tData  0.002 ( 0.005)\tLoss 3.7273e+00 (3.7557e+00)\tAcc@1  25.78 ( 24.10)\tAcc@5  50.78 ( 47.39)\n",
      "Epoch: [1][1400/5005]\tTime  0.345 ( 0.335)\tData  0.002 ( 0.005)\tLoss 3.5724e+00 (3.7506e+00)\tAcc@1  23.83 ( 24.17)\tAcc@5  52.34 ( 47.48)\n",
      "Epoch: [1][1450/5005]\tTime  0.322 ( 0.334)\tData  0.002 ( 0.005)\tLoss 3.6596e+00 (3.7470e+00)\tAcc@1  23.44 ( 24.23)\tAcc@5  48.44 ( 47.55)\n",
      "Epoch: [1][1500/5005]\tTime  0.336 ( 0.334)\tData  0.003 ( 0.005)\tLoss 3.6028e+00 (3.7431e+00)\tAcc@1  27.73 ( 24.30)\tAcc@5  48.83 ( 47.65)\n",
      "Epoch: [1][1550/5005]\tTime  0.322 ( 0.334)\tData  0.002 ( 0.004)\tLoss 3.4255e+00 (3.7384e+00)\tAcc@1  24.22 ( 24.37)\tAcc@5  51.95 ( 47.73)\n",
      "Epoch: [1][1600/5005]\tTime  0.323 ( 0.334)\tData  0.002 ( 0.004)\tLoss 3.4753e+00 (3.7348e+00)\tAcc@1  28.91 ( 24.43)\tAcc@5  52.73 ( 47.78)\n",
      "Epoch: [1][1650/5005]\tTime  0.352 ( 0.334)\tData  0.005 ( 0.004)\tLoss 3.7708e+00 (3.7317e+00)\tAcc@1  25.39 ( 24.50)\tAcc@5  49.61 ( 47.84)\n",
      "Epoch: [1][1700/5005]\tTime  0.323 ( 0.334)\tData  0.002 ( 0.004)\tLoss 3.6214e+00 (3.7287e+00)\tAcc@1  23.05 ( 24.55)\tAcc@5  49.22 ( 47.91)\n",
      "Epoch: [1][1750/5005]\tTime  0.343 ( 0.334)\tData  0.003 ( 0.004)\tLoss 3.5823e+00 (3.7248e+00)\tAcc@1  26.56 ( 24.63)\tAcc@5  54.30 ( 47.98)\n",
      "Epoch: [1][1800/5005]\tTime  0.327 ( 0.334)\tData  0.003 ( 0.004)\tLoss 3.6138e+00 (3.7208e+00)\tAcc@1  23.05 ( 24.68)\tAcc@5  53.12 ( 48.05)\n",
      "Epoch: [1][1850/5005]\tTime  0.325 ( 0.334)\tData  0.002 ( 0.004)\tLoss 3.2553e+00 (3.7167e+00)\tAcc@1  33.20 ( 24.74)\tAcc@5  57.03 ( 48.12)\n",
      "Epoch: [1][1900/5005]\tTime  0.334 ( 0.334)\tData  0.002 ( 0.004)\tLoss 3.6069e+00 (3.7125e+00)\tAcc@1  26.56 ( 24.81)\tAcc@5  50.00 ( 48.20)\n",
      "Epoch: [1][1950/5005]\tTime  0.330 ( 0.334)\tData  0.002 ( 0.004)\tLoss 3.3919e+00 (3.7084e+00)\tAcc@1  27.34 ( 24.87)\tAcc@5  59.77 ( 48.28)\n",
      "Epoch: [1][2000/5005]\tTime  0.329 ( 0.334)\tData  0.002 ( 0.004)\tLoss 3.5449e+00 (3.7044e+00)\tAcc@1  31.25 ( 24.93)\tAcc@5  50.78 ( 48.35)\n",
      "Epoch: [1][2050/5005]\tTime  0.324 ( 0.334)\tData  0.002 ( 0.004)\tLoss 3.4139e+00 (3.7011e+00)\tAcc@1  31.25 ( 24.98)\tAcc@5  53.91 ( 48.41)\n",
      "Epoch: [1][2100/5005]\tTime  0.338 ( 0.334)\tData  0.004 ( 0.004)\tLoss 3.4310e+00 (3.6968e+00)\tAcc@1  28.52 ( 25.03)\tAcc@5  54.30 ( 48.50)\n",
      "Epoch: [1][2150/5005]\tTime  0.320 ( 0.334)\tData  0.002 ( 0.004)\tLoss 3.7060e+00 (3.6928e+00)\tAcc@1  30.47 ( 25.11)\tAcc@5  53.12 ( 48.59)\n",
      "Epoch: [1][2200/5005]\tTime  0.322 ( 0.334)\tData  0.002 ( 0.004)\tLoss 3.5385e+00 (3.6899e+00)\tAcc@1  24.61 ( 25.16)\tAcc@5  54.30 ( 48.64)\n",
      "Epoch: [1][2250/5005]\tTime  0.320 ( 0.334)\tData  0.002 ( 0.004)\tLoss 3.4111e+00 (3.6868e+00)\tAcc@1  35.55 ( 25.20)\tAcc@5  52.34 ( 48.70)\n",
      "Epoch: [1][2300/5005]\tTime  0.322 ( 0.334)\tData  0.002 ( 0.004)\tLoss 3.4532e+00 (3.6834e+00)\tAcc@1  35.94 ( 25.25)\tAcc@5  54.69 ( 48.77)\n",
      "Epoch: [1][2350/5005]\tTime  0.362 ( 0.334)\tData  0.005 ( 0.004)\tLoss 3.5668e+00 (3.6801e+00)\tAcc@1  30.08 ( 25.31)\tAcc@5  55.47 ( 48.85)\n",
      "Epoch: [1][2400/5005]\tTime  0.323 ( 0.333)\tData  0.002 ( 0.004)\tLoss 3.4429e+00 (3.6766e+00)\tAcc@1  28.12 ( 25.37)\tAcc@5  54.69 ( 48.92)\n",
      "Epoch: [1][2450/5005]\tTime  0.322 ( 0.333)\tData  0.002 ( 0.004)\tLoss 3.5632e+00 (3.6738e+00)\tAcc@1  29.30 ( 25.41)\tAcc@5  51.17 ( 48.97)\n",
      "Epoch: [1][2500/5005]\tTime  0.349 ( 0.333)\tData  0.003 ( 0.004)\tLoss 3.6328e+00 (3.6707e+00)\tAcc@1  28.12 ( 25.46)\tAcc@5  47.27 ( 49.04)\n",
      "Epoch: [1][2550/5005]\tTime  0.346 ( 0.333)\tData  0.003 ( 0.004)\tLoss 3.5298e+00 (3.6663e+00)\tAcc@1  26.56 ( 25.53)\tAcc@5  51.17 ( 49.13)\n",
      "Epoch: [1][2600/5005]\tTime  0.348 ( 0.333)\tData  0.002 ( 0.004)\tLoss 3.4814e+00 (3.6631e+00)\tAcc@1  28.12 ( 25.57)\tAcc@5  54.69 ( 49.18)\n",
      "Epoch: [1][2650/5005]\tTime  0.326 ( 0.333)\tData  0.002 ( 0.004)\tLoss 3.3164e+00 (3.6599e+00)\tAcc@1  28.52 ( 25.62)\tAcc@5  53.52 ( 49.25)\n",
      "Epoch: [1][2700/5005]\tTime  0.326 ( 0.333)\tData  0.003 ( 0.004)\tLoss 3.4164e+00 (3.6562e+00)\tAcc@1  25.78 ( 25.68)\tAcc@5  52.34 ( 49.31)\n",
      "Epoch: [1][2750/5005]\tTime  0.326 ( 0.333)\tData  0.002 ( 0.004)\tLoss 3.3793e+00 (3.6528e+00)\tAcc@1  27.73 ( 25.74)\tAcc@5  52.73 ( 49.38)\n",
      "Epoch: [1][2800/5005]\tTime  0.354 ( 0.333)\tData  0.003 ( 0.004)\tLoss 3.3730e+00 (3.6490e+00)\tAcc@1  24.61 ( 25.80)\tAcc@5  53.52 ( 49.45)\n",
      "Epoch: [1][2850/5005]\tTime  0.330 ( 0.333)\tData  0.002 ( 0.004)\tLoss 3.1021e+00 (3.6451e+00)\tAcc@1  33.98 ( 25.86)\tAcc@5  58.98 ( 49.53)\n",
      "Epoch: [1][2900/5005]\tTime  0.330 ( 0.333)\tData  0.002 ( 0.004)\tLoss 3.4298e+00 (3.6417e+00)\tAcc@1  28.12 ( 25.92)\tAcc@5  54.30 ( 49.60)\n",
      "Epoch: [1][2950/5005]\tTime  0.350 ( 0.333)\tData  0.002 ( 0.004)\tLoss 3.6315e+00 (3.6387e+00)\tAcc@1  27.73 ( 25.97)\tAcc@5  52.73 ( 49.66)\n",
      "Epoch: [1][3000/5005]\tTime  0.341 ( 0.333)\tData  0.004 ( 0.004)\tLoss 3.5420e+00 (3.6356e+00)\tAcc@1  28.52 ( 26.01)\tAcc@5  52.34 ( 49.73)\n",
      "Epoch: [1][3050/5005]\tTime  0.345 ( 0.333)\tData  0.002 ( 0.003)\tLoss 3.7437e+00 (3.6322e+00)\tAcc@1  25.00 ( 26.07)\tAcc@5  50.00 ( 49.80)\n"
     ]
    },
    {
     "name": "stderr",
     "output_type": "stream",
     "text": [
      "/opt/conda/lib/python3.8/site-packages/PIL/TiffImagePlugin.py:788: UserWarning: Corrupt EXIF data.  Expecting to read 4 bytes but only got 0. \n",
      "  warnings.warn(str(msg))\n"
     ]
    },
    {
     "name": "stdout",
     "output_type": "stream",
     "text": [
      "Epoch: [1][3100/5005]\tTime  0.320 ( 0.333)\tData  0.002 ( 0.003)\tLoss 3.4062e+00 (3.6293e+00)\tAcc@1  28.91 ( 26.11)\tAcc@5  52.73 ( 49.85)\n",
      "Epoch: [1][3150/5005]\tTime  0.346 ( 0.333)\tData  0.002 ( 0.003)\tLoss 3.4360e+00 (3.6257e+00)\tAcc@1  29.30 ( 26.17)\tAcc@5  57.03 ( 49.92)\n",
      "Epoch: [1][3200/5005]\tTime  0.322 ( 0.333)\tData  0.002 ( 0.003)\tLoss 3.2509e+00 (3.6221e+00)\tAcc@1  33.98 ( 26.22)\tAcc@5  58.98 ( 50.00)\n",
      "Epoch: [1][3250/5005]\tTime  0.347 ( 0.333)\tData  0.002 ( 0.003)\tLoss 3.5068e+00 (3.6184e+00)\tAcc@1  28.12 ( 26.28)\tAcc@5  52.34 ( 50.05)\n",
      "Epoch: [1][3300/5005]\tTime  0.323 ( 0.333)\tData  0.003 ( 0.003)\tLoss 3.3031e+00 (3.6151e+00)\tAcc@1  30.86 ( 26.33)\tAcc@5  52.73 ( 50.11)\n",
      "Epoch: [1][3350/5005]\tTime  0.324 ( 0.333)\tData  0.002 ( 0.003)\tLoss 3.4110e+00 (3.6123e+00)\tAcc@1  34.38 ( 26.38)\tAcc@5  53.91 ( 50.17)\n",
      "Epoch: [1][3400/5005]\tTime  0.322 ( 0.333)\tData  0.003 ( 0.003)\tLoss 3.5301e+00 (3.6088e+00)\tAcc@1  26.56 ( 26.44)\tAcc@5  49.22 ( 50.24)\n",
      "Epoch: [1][3450/5005]\tTime  0.350 ( 0.333)\tData  0.002 ( 0.003)\tLoss 3.4907e+00 (3.6055e+00)\tAcc@1  28.91 ( 26.49)\tAcc@5  51.17 ( 50.30)\n",
      "Epoch: [1][3500/5005]\tTime  0.324 ( 0.333)\tData  0.002 ( 0.003)\tLoss 3.2510e+00 (3.6024e+00)\tAcc@1  32.81 ( 26.54)\tAcc@5  57.81 ( 50.36)\n",
      "Epoch: [1][3550/5005]\tTime  0.324 ( 0.333)\tData  0.002 ( 0.003)\tLoss 3.4169e+00 (3.5991e+00)\tAcc@1  28.52 ( 26.59)\tAcc@5  50.39 ( 50.41)\n",
      "Epoch: [1][3600/5005]\tTime  0.326 ( 0.333)\tData  0.002 ( 0.003)\tLoss 3.2208e+00 (3.5961e+00)\tAcc@1  32.81 ( 26.64)\tAcc@5  57.81 ( 50.47)\n",
      "Epoch: [1][3650/5005]\tTime  0.327 ( 0.333)\tData  0.002 ( 0.003)\tLoss 3.4646e+00 (3.5933e+00)\tAcc@1  24.61 ( 26.68)\tAcc@5  48.83 ( 50.52)\n",
      "Epoch: [1][3700/5005]\tTime  0.328 ( 0.333)\tData  0.002 ( 0.003)\tLoss 3.3961e+00 (3.5898e+00)\tAcc@1  32.42 ( 26.73)\tAcc@5  54.69 ( 50.59)\n",
      "Epoch: [1][3750/5005]\tTime  0.330 ( 0.333)\tData  0.002 ( 0.003)\tLoss 3.5165e+00 (3.5864e+00)\tAcc@1  30.86 ( 26.78)\tAcc@5  51.17 ( 50.65)\n",
      "Epoch: [1][3800/5005]\tTime  0.328 ( 0.333)\tData  0.002 ( 0.003)\tLoss 3.4411e+00 (3.5831e+00)\tAcc@1  28.12 ( 26.82)\tAcc@5  55.86 ( 50.71)\n",
      "Epoch: [1][3850/5005]\tTime  0.326 ( 0.333)\tData  0.002 ( 0.003)\tLoss 3.2848e+00 (3.5802e+00)\tAcc@1  30.86 ( 26.87)\tAcc@5  57.03 ( 50.77)\n",
      "Epoch: [1][3900/5005]\tTime  0.322 ( 0.333)\tData  0.002 ( 0.003)\tLoss 3.3078e+00 (3.5772e+00)\tAcc@1  30.08 ( 26.91)\tAcc@5  56.64 ( 50.83)\n",
      "Epoch: [1][3950/5005]\tTime  0.348 ( 0.333)\tData  0.003 ( 0.003)\tLoss 3.3592e+00 (3.5740e+00)\tAcc@1  31.64 ( 26.96)\tAcc@5  55.47 ( 50.89)\n",
      "Epoch: [1][4000/5005]\tTime  0.348 ( 0.333)\tData  0.002 ( 0.003)\tLoss 3.2348e+00 (3.5710e+00)\tAcc@1  32.03 ( 27.00)\tAcc@5  57.81 ( 50.95)\n",
      "Epoch: [1][4050/5005]\tTime  0.319 ( 0.333)\tData  0.002 ( 0.003)\tLoss 3.3766e+00 (3.5682e+00)\tAcc@1  31.64 ( 27.05)\tAcc@5  55.47 ( 51.01)\n",
      "Epoch: [1][4100/5005]\tTime  0.349 ( 0.333)\tData  0.003 ( 0.003)\tLoss 3.2619e+00 (3.5649e+00)\tAcc@1  36.72 ( 27.10)\tAcc@5  55.47 ( 51.06)\n",
      "Epoch: [1][4150/5005]\tTime  0.348 ( 0.333)\tData  0.003 ( 0.003)\tLoss 3.3714e+00 (3.5620e+00)\tAcc@1  30.08 ( 27.15)\tAcc@5  57.42 ( 51.12)\n",
      "Epoch: [1][4200/5005]\tTime  0.348 ( 0.333)\tData  0.002 ( 0.003)\tLoss 3.4891e+00 (3.5595e+00)\tAcc@1  25.39 ( 27.19)\tAcc@5  54.30 ( 51.17)\n",
      "Epoch: [1][4250/5005]\tTime  0.323 ( 0.333)\tData  0.002 ( 0.003)\tLoss 3.1613e+00 (3.5568e+00)\tAcc@1  32.42 ( 27.23)\tAcc@5  56.64 ( 51.22)\n",
      "Epoch: [1][4300/5005]\tTime  0.324 ( 0.333)\tData  0.002 ( 0.003)\tLoss 3.4211e+00 (3.5538e+00)\tAcc@1  28.91 ( 27.27)\tAcc@5  51.95 ( 51.28)\n",
      "Epoch: [1][4350/5005]\tTime  0.324 ( 0.333)\tData  0.002 ( 0.003)\tLoss 3.2485e+00 (3.5508e+00)\tAcc@1  32.03 ( 27.32)\tAcc@5  55.86 ( 51.33)\n",
      "Epoch: [1][4400/5005]\tTime  0.348 ( 0.333)\tData  0.002 ( 0.003)\tLoss 3.6050e+00 (3.5480e+00)\tAcc@1  26.17 ( 27.36)\tAcc@5  52.34 ( 51.39)\n",
      "Epoch: [1][4450/5005]\tTime  0.351 ( 0.333)\tData  0.002 ( 0.003)\tLoss 3.2942e+00 (3.5452e+00)\tAcc@1  35.16 ( 27.41)\tAcc@5  57.03 ( 51.43)\n",
      "Epoch: [1][4500/5005]\tTime  0.355 ( 0.333)\tData  0.002 ( 0.003)\tLoss 3.2735e+00 (3.5423e+00)\tAcc@1  30.86 ( 27.46)\tAcc@5  54.30 ( 51.48)\n",
      "Epoch: [1][4550/5005]\tTime  0.350 ( 0.333)\tData  0.002 ( 0.003)\tLoss 3.3206e+00 (3.5393e+00)\tAcc@1  32.03 ( 27.51)\tAcc@5  58.20 ( 51.54)\n",
      "Epoch: [1][4600/5005]\tTime  0.327 ( 0.333)\tData  0.002 ( 0.003)\tLoss 3.2468e+00 (3.5364e+00)\tAcc@1  30.08 ( 27.55)\tAcc@5  53.91 ( 51.59)\n",
      "Epoch: [1][4650/5005]\tTime  0.331 ( 0.333)\tData  0.002 ( 0.003)\tLoss 3.2656e+00 (3.5336e+00)\tAcc@1  30.86 ( 27.60)\tAcc@5  59.38 ( 51.65)\n",
      "Epoch: [1][4700/5005]\tTime  0.328 ( 0.333)\tData  0.002 ( 0.003)\tLoss 3.2885e+00 (3.5309e+00)\tAcc@1  30.86 ( 27.65)\tAcc@5  56.64 ( 51.70)\n",
      "Epoch: [1][4750/5005]\tTime  0.324 ( 0.333)\tData  0.002 ( 0.003)\tLoss 3.2525e+00 (3.5277e+00)\tAcc@1  32.42 ( 27.69)\tAcc@5  58.98 ( 51.76)\n",
      "Epoch: [1][4800/5005]\tTime  0.359 ( 0.333)\tData  0.003 ( 0.003)\tLoss 3.1367e+00 (3.5250e+00)\tAcc@1  35.94 ( 27.74)\tAcc@5  60.55 ( 51.81)\n",
      "Epoch: [1][4850/5005]\tTime  0.320 ( 0.333)\tData  0.002 ( 0.003)\tLoss 3.2511e+00 (3.5225e+00)\tAcc@1  30.86 ( 27.78)\tAcc@5  55.86 ( 51.85)\n",
      "Epoch: [1][4900/5005]\tTime  0.320 ( 0.333)\tData  0.002 ( 0.003)\tLoss 3.5748e+00 (3.5200e+00)\tAcc@1  27.34 ( 27.82)\tAcc@5  52.34 ( 51.90)\n",
      "Epoch: [1][4950/5005]\tTime  0.321 ( 0.333)\tData  0.002 ( 0.003)\tLoss 2.9260e+00 (3.5175e+00)\tAcc@1  37.89 ( 27.86)\tAcc@5  64.45 ( 51.94)\n",
      "Epoch: [1][5000/5005]\tTime  0.320 ( 0.333)\tData  0.002 ( 0.003)\tLoss 3.1159e+00 (3.5148e+00)\tAcc@1  31.25 ( 27.90)\tAcc@5  61.33 ( 51.99)\n",
      "Test: [  0/196]\tTime  3.377 ( 3.377)\tLoss 2.2887e+00 (2.2887e+00)\tAcc@1  48.44 ( 48.44)\tAcc@5  75.39 ( 75.39)\n",
      "Test: [ 50/196]\tTime  0.208 ( 0.335)\tLoss 2.6529e+00 (2.7814e+00)\tAcc@1  30.86 ( 36.47)\tAcc@5  69.14 ( 65.49)\n",
      "Test: [100/196]\tTime  0.209 ( 0.308)\tLoss 4.3511e+00 (2.9224e+00)\tAcc@1   9.38 ( 34.43)\tAcc@5  34.38 ( 63.12)\n",
      "Test: [150/196]\tTime  0.217 ( 0.296)\tLoss 3.3242e+00 (3.1054e+00)\tAcc@1  30.86 ( 32.54)\tAcc@5  59.38 ( 59.58)\n",
      " * Acc@1 32.538 Acc@5 58.852\n",
      "lr: [0.09998149525276118]\n",
      "CPU times: user 1h 12s, sys: 6min 41s, total: 1h 6min 54s\n",
      "Wall time: 57min 32s\n"
     ]
    }
   ],
   "source": [
    "%%time\n",
    "for epoch in range(START_EPOCH, 2):\n",
    "    adjust_learning_rate(optimizer, epoch)\n",
    "\n",
    "    # train for one epoch\n",
    "    train(train_loader, model, criterion, optimizer, epoch)\n",
    "\n",
    "    # evaluate on validation set\n",
    "    acc1 = validate(val_loader, model, criterion)\n",
    "\n",
    "    # remember best acc@1 and save checkpoint\n",
    "    is_best = acc1 > best_acc1\n",
    "    best_acc1 = max(acc1, best_acc1)\n",
    "\n",
    "\n",
    "    save_checkpoint({\n",
    "        'epoch': epoch + 1,\n",
    "        'arch': ARCH,\n",
    "        'state_dict': model.state_dict(),\n",
    "        'best_acc1': best_acc1,\n",
    "        'optimizer' : optimizer.state_dict(),\n",
    "    }, is_best)\n",
    "    \n",
    "    scheduler.step()\n",
    "    print('lr: ' + str(scheduler.get_last_lr()))\n",
    "    writer.add_scalar(\"lr\", scheduler.get_last_lr()[0], global_step = global_step)\n",
    "    wandb.log({'lr': scheduler.get_last_lr()[0]})"
   ]
  },
  {
   "cell_type": "code",
   "execution_count": null,
   "id": "b4d1f98f",
   "metadata": {
    "id": "adc68068"
   },
   "outputs": [],
   "source": []
  },
  {
   "cell_type": "code",
   "execution_count": null,
   "id": "d34ae707",
   "metadata": {
    "id": "d3faf0cd"
   },
   "outputs": [],
   "source": []
  }
 ],
 "metadata": {
  "colab": {
   "name": "cinic.ipynb",
   "provenance": []
  },
  "kernelspec": {
   "display_name": "Python 3",
   "language": "python",
   "name": "python3"
  },
  "language_info": {
   "codemirror_mode": {
    "name": "ipython",
    "version": 3
   },
   "file_extension": ".py",
   "mimetype": "text/x-python",
   "name": "python",
   "nbconvert_exporter": "python",
   "pygments_lexer": "ipython3",
   "version": "3.8.10"
  }
 },
 "nbformat": 4,
 "nbformat_minor": 5
}

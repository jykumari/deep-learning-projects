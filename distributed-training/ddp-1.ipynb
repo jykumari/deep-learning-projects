{
 "cells": [
  {
   "cell_type": "code",
   "execution_count": 1,
   "id": "07d427bf",
   "metadata": {
    "executionInfo": {
     "elapsed": 4198,
     "status": "ok",
     "timestamp": 1624759883403,
     "user": {
      "displayName": "Dima Rekesh",
      "photoUrl": "https://lh3.googleusercontent.com/a-/AOh14GgCxhnQN9cW764WS8AiJguM8wE5foCZLMjr-NyFuQ=s64",
      "userId": "05362657998610812765"
     },
     "user_tz": 420
    },
    "id": "f2513038"
   },
   "outputs": [],
   "source": [
    "import os\n",
    "import random\n",
    "import shutil\n",
    "import time\n",
    "import warnings\n",
    "\n",
    "import torch\n",
    "import torch.nn as nn\n",
    "import torch.backends.cudnn as cudnn\n",
    "import torch.optim\n",
    "\n",
    "import torch.utils.data\n",
    "import torchvision\n",
    "import torchvision.transforms as transforms\n",
    "import torchvision.datasets as datasets\n",
    "import torchvision.models as models"
   ]
  },
  {
   "cell_type": "code",
   "execution_count": 2,
   "id": "2cc9964a",
   "metadata": {},
   "outputs": [],
   "source": [
    "# using pytorch native AMP\n",
    "from torch.cuda.amp import GradScaler\n",
    "from torch.cuda.amp import autocast"
   ]
  },
  {
   "cell_type": "code",
   "execution_count": 3,
   "id": "1eba5dcd",
   "metadata": {},
   "outputs": [],
   "source": [
    "# using Tensorboard\n",
    "from torch.utils.tensorboard import SummaryWriter\n",
    "writer = SummaryWriter(log_dir=\"/data/runs\")"
   ]
  },
  {
   "cell_type": "code",
   "execution_count": 4,
   "id": "ad2183e1",
   "metadata": {},
   "outputs": [
    {
     "name": "stdout",
     "output_type": "stream",
     "text": [
      "Requirement already satisfied: wandb in /opt/conda/lib/python3.8/site-packages (0.10.33)\n",
      "Requirement already satisfied: shortuuid>=0.5.0 in /opt/conda/lib/python3.8/site-packages (from wandb) (1.0.1)\n",
      "Requirement already satisfied: promise<3,>=2.0 in /opt/conda/lib/python3.8/site-packages (from wandb) (2.3)\n",
      "Requirement already satisfied: six>=1.13.0 in /opt/conda/lib/python3.8/site-packages (from wandb) (1.16.0)\n",
      "Requirement already satisfied: docker-pycreds>=0.4.0 in /opt/conda/lib/python3.8/site-packages (from wandb) (0.4.0)\n",
      "Requirement already satisfied: psutil>=5.0.0 in /opt/conda/lib/python3.8/site-packages (from wandb) (5.8.0)\n",
      "Requirement already satisfied: subprocess32>=3.5.3 in /opt/conda/lib/python3.8/site-packages (from wandb) (3.5.4)\n",
      "Requirement already satisfied: PyYAML in /opt/conda/lib/python3.8/site-packages (from wandb) (5.4.1)\n",
      "Requirement already satisfied: protobuf>=3.12.0 in /opt/conda/lib/python3.8/site-packages (from wandb) (3.17.2)\n",
      "Requirement already satisfied: configparser>=3.8.1 in /opt/conda/lib/python3.8/site-packages (from wandb) (5.0.2)\n",
      "Requirement already satisfied: Click!=8.0.0,>=7.0 in /opt/conda/lib/python3.8/site-packages (from wandb) (7.1.2)\n",
      "Requirement already satisfied: sentry-sdk>=0.4.0 in /opt/conda/lib/python3.8/site-packages (from wandb) (1.1.0)\n",
      "Requirement already satisfied: requests<3,>=2.0.0 in /opt/conda/lib/python3.8/site-packages (from wandb) (2.25.1)\n",
      "Requirement already satisfied: python-dateutil>=2.6.1 in /opt/conda/lib/python3.8/site-packages (from wandb) (2.8.1)\n",
      "Requirement already satisfied: pathtools in /opt/conda/lib/python3.8/site-packages (from wandb) (0.1.2)\n",
      "Requirement already satisfied: GitPython>=1.0.0 in /opt/conda/lib/python3.8/site-packages (from wandb) (3.1.18)\n",
      "Requirement already satisfied: gitdb<5,>=4.0.1 in /opt/conda/lib/python3.8/site-packages (from GitPython>=1.0.0->wandb) (4.0.7)\n",
      "Requirement already satisfied: smmap<5,>=3.0.1 in /opt/conda/lib/python3.8/site-packages (from gitdb<5,>=4.0.1->GitPython>=1.0.0->wandb) (4.0.0)\n",
      "Requirement already satisfied: chardet<5,>=3.0.2 in /opt/conda/lib/python3.8/site-packages (from requests<3,>=2.0.0->wandb) (4.0.0)\n",
      "Requirement already satisfied: certifi>=2017.4.17 in /opt/conda/lib/python3.8/site-packages (from requests<3,>=2.0.0->wandb) (2021.5.30)\n",
      "Requirement already satisfied: urllib3<1.27,>=1.21.1 in /opt/conda/lib/python3.8/site-packages (from requests<3,>=2.0.0->wandb) (1.26.4)\n",
      "Requirement already satisfied: idna<3,>=2.5 in /opt/conda/lib/python3.8/site-packages (from requests<3,>=2.0.0->wandb) (2.10)\n",
      "\u001b[33mWARNING: Running pip as root will break packages and permissions. You should install packages reliably by using venv: https://pip.pypa.io/warnings/venv\u001b[0m\n"
     ]
    }
   ],
   "source": [
    "!pip install wandb\n",
    "# wandb login"
   ]
  },
  {
   "cell_type": "code",
   "execution_count": 5,
   "id": "ce6b9d69",
   "metadata": {},
   "outputs": [
    {
     "name": "stderr",
     "output_type": "stream",
     "text": [
      "\u001b[34m\u001b[1mwandb\u001b[0m: Currently logged in as: \u001b[33mjyotik\u001b[0m (use `wandb login --relogin` to force relogin)\n"
     ]
    },
    {
     "data": {
      "text/plain": [
       "True"
      ]
     },
     "execution_count": 5,
     "metadata": {},
     "output_type": "execute_result"
    }
   ],
   "source": [
    "import wandb\n",
    "wandb.login()"
   ]
  },
  {
   "cell_type": "code",
   "execution_count": 6,
   "id": "712272d8",
   "metadata": {},
   "outputs": [
    {
     "data": {
      "text/html": [
       "\n",
       "                Tracking run with wandb version 0.10.33<br/>\n",
       "                Syncing run <strong style=\"color:#cdcd00\">dauntless-frost-19</strong> to <a href=\"https://wandb.ai\" target=\"_blank\">Weights & Biases</a> <a href=\"https://docs.wandb.com/integrations/jupyter.html\" target=\"_blank\">(Documentation)</a>.<br/>\n",
       "                Project page: <a href=\"https://wandb.ai/jyotik/hw09-w251-ddp\" target=\"_blank\">https://wandb.ai/jyotik/hw09-w251-ddp</a><br/>\n",
       "                Run page: <a href=\"https://wandb.ai/jyotik/hw09-w251-ddp/runs/p8koad7d\" target=\"_blank\">https://wandb.ai/jyotik/hw09-w251-ddp/runs/p8koad7d</a><br/>\n",
       "                Run data is saved locally in <code>/app/wandb/run-20210704_155051-p8koad7d</code><br/><br/>\n",
       "            "
      ],
      "text/plain": [
       "<IPython.core.display.HTML object>"
      ]
     },
     "metadata": {},
     "output_type": "display_data"
    },
    {
     "data": {
      "text/html": [
       "<h1>Run(p8koad7d)</h1><iframe src=\"https://wandb.ai/jyotik/hw09-w251-ddp/runs/p8koad7d\" style=\"border:none;width:100%;height:400px\"></iframe>"
      ],
      "text/plain": [
       "<wandb.sdk.wandb_run.Run at 0x7fb59f8fe160>"
      ]
     },
     "execution_count": 6,
     "metadata": {},
     "output_type": "execute_result"
    }
   ],
   "source": [
    "wandb.init(project=\"hw09-w251-ddp\")"
   ]
  },
  {
   "cell_type": "code",
   "execution_count": 7,
   "id": "2c420906",
   "metadata": {},
   "outputs": [],
   "source": [
    "import torch.distributed as dist"
   ]
  },
  {
   "cell_type": "code",
   "execution_count": 8,
   "id": "6c47e367",
   "metadata": {
    "id": "8cb72e29"
   },
   "outputs": [],
   "source": [
    "# Assume that this notebook only sees one GPU.\n",
    "GPU=0"
   ]
  },
  {
   "cell_type": "code",
   "execution_count": 9,
   "id": "37bb3d64",
   "metadata": {
    "executionInfo": {
     "elapsed": 354,
     "status": "ok",
     "timestamp": 1624759889299,
     "user": {
      "displayName": "Dima Rekesh",
      "photoUrl": "https://lh3.googleusercontent.com/a-/AOh14GgCxhnQN9cW764WS8AiJguM8wE5foCZLMjr-NyFuQ=s64",
      "userId": "05362657998610812765"
     },
     "user_tz": 420
    },
    "id": "02d1a0c0"
   },
   "outputs": [],
   "source": [
    "SEED=1"
   ]
  },
  {
   "cell_type": "code",
   "execution_count": 10,
   "id": "8cee6d3e",
   "metadata": {
    "executionInfo": {
     "elapsed": 17,
     "status": "ok",
     "timestamp": 1624759891917,
     "user": {
      "displayName": "Dima Rekesh",
      "photoUrl": "https://lh3.googleusercontent.com/a-/AOh14GgCxhnQN9cW764WS8AiJguM8wE5foCZLMjr-NyFuQ=s64",
      "userId": "05362657998610812765"
     },
     "user_tz": 420
    },
    "id": "b1b9bfde"
   },
   "outputs": [],
   "source": [
    "random.seed(SEED)\n",
    "torch.manual_seed(SEED)\n",
    "cudnn.deterministic = True"
   ]
  },
  {
   "cell_type": "code",
   "execution_count": 11,
   "id": "55b4a937",
   "metadata": {
    "colab": {
     "base_uri": "https://localhost:8080/"
    },
    "executionInfo": {
     "elapsed": 230,
     "status": "ok",
     "timestamp": 1624759894660,
     "user": {
      "displayName": "Dima Rekesh",
      "photoUrl": "https://lh3.googleusercontent.com/a-/AOh14GgCxhnQN9cW764WS8AiJguM8wE5foCZLMjr-NyFuQ=s64",
      "userId": "05362657998610812765"
     },
     "user_tz": 420
    },
    "id": "e9eb47a7",
    "outputId": "c49775ff-91ee-488c-d99c-3739e452d6af"
   },
   "outputs": [
    {
     "data": {
      "text/plain": [
       "1"
      ]
     },
     "execution_count": 11,
     "metadata": {},
     "output_type": "execute_result"
    }
   ],
   "source": [
    "torch.cuda.device_count()"
   ]
  },
  {
   "cell_type": "code",
   "execution_count": 12,
   "id": "de31e158",
   "metadata": {
    "id": "073b7b81"
   },
   "outputs": [],
   "source": [
    "START_EPOCH = 0"
   ]
  },
  {
   "cell_type": "code",
   "execution_count": 13,
   "id": "95c1ba99",
   "metadata": {
    "id": "5e18ae51",
    "tags": [
     "parameters"
    ]
   },
   "outputs": [],
   "source": [
    "# ARCH = 'resnet18'\n",
    "ARCH = 'resnet18'\n",
    "EPOCHS = 200\n",
    "LR = 0.1\n",
    "MOMENTUM = 0.9\n",
    "WEIGHT_DECAY = 1e-4\n",
    "PRINT_FREQ = 50\n",
    "TRAIN_BATCH=256\n",
    "VAL_BATCH=256\n",
    "WORKERS=8\n",
    "TRAINDIR=\"/data/train\"\n",
    "VALDIR=\"/data/val\""
   ]
  },
  {
   "cell_type": "code",
   "execution_count": 14,
   "id": "268d6cae",
   "metadata": {},
   "outputs": [
    {
     "data": {
      "text/html": [
       "Finishing last run (ID:p8koad7d) before initializing another..."
      ],
      "text/plain": [
       "<IPython.core.display.HTML object>"
      ]
     },
     "metadata": {},
     "output_type": "display_data"
    },
    {
     "data": {
      "text/html": [
       "<br/>Waiting for W&B process to finish, PID 774<br/>Program ended successfully."
      ],
      "text/plain": [
       "<IPython.core.display.HTML object>"
      ]
     },
     "metadata": {},
     "output_type": "display_data"
    },
    {
     "data": {
      "text/html": [
       "Find user logs for this run at: <code>/app/wandb/run-20210704_155051-p8koad7d/logs/debug.log</code>"
      ],
      "text/plain": [
       "<IPython.core.display.HTML object>"
      ]
     },
     "metadata": {},
     "output_type": "display_data"
    },
    {
     "data": {
      "text/html": [
       "Find internal logs for this run at: <code>/app/wandb/run-20210704_155051-p8koad7d/logs/debug-internal.log</code>"
      ],
      "text/plain": [
       "<IPython.core.display.HTML object>"
      ]
     },
     "metadata": {},
     "output_type": "display_data"
    },
    {
     "data": {
      "text/html": [
       "Synced 4 W&B file(s), 0 media file(s), 0 artifact file(s) and 0 other file(s)"
      ],
      "text/plain": [
       "<IPython.core.display.HTML object>"
      ]
     },
     "metadata": {},
     "output_type": "display_data"
    },
    {
     "data": {
      "text/html": [
       "\n",
       "                    <br/>Synced <strong style=\"color:#cdcd00\">dauntless-frost-19</strong>: <a href=\"https://wandb.ai/jyotik/hw09-w251-ddp/runs/p8koad7d\" target=\"_blank\">https://wandb.ai/jyotik/hw09-w251-ddp/runs/p8koad7d</a><br/>\n",
       "                "
      ],
      "text/plain": [
       "<IPython.core.display.HTML object>"
      ]
     },
     "metadata": {},
     "output_type": "display_data"
    },
    {
     "data": {
      "text/html": [
       "...Successfully finished last run (ID:p8koad7d). Initializing new run:<br/><br/>"
      ],
      "text/plain": [
       "<IPython.core.display.HTML object>"
      ]
     },
     "metadata": {},
     "output_type": "display_data"
    },
    {
     "data": {
      "text/html": [
       "\n",
       "                Tracking run with wandb version 0.10.33<br/>\n",
       "                Syncing run <strong style=\"color:#cdcd00\">comfy-flower-28</strong> to <a href=\"https://wandb.ai\" target=\"_blank\">Weights & Biases</a> <a href=\"https://docs.wandb.com/integrations/jupyter.html\" target=\"_blank\">(Documentation)</a>.<br/>\n",
       "                Project page: <a href=\"https://wandb.ai/jyotik/uncategorized\" target=\"_blank\">https://wandb.ai/jyotik/uncategorized</a><br/>\n",
       "                Run page: <a href=\"https://wandb.ai/jyotik/uncategorized/runs/2j1xfmqg\" target=\"_blank\">https://wandb.ai/jyotik/uncategorized/runs/2j1xfmqg</a><br/>\n",
       "                Run data is saved locally in <code>/app/wandb/run-20210704_155052-2j1xfmqg</code><br/><br/>\n",
       "            "
      ],
      "text/plain": [
       "<IPython.core.display.HTML object>"
      ]
     },
     "metadata": {},
     "output_type": "display_data"
    },
    {
     "data": {
      "text/html": [
       "<h1>Run(2j1xfmqg)</h1><iframe src=\"https://wandb.ai/jyotik/uncategorized/runs/2j1xfmqg\" style=\"border:none;width:100%;height:400px\"></iframe>"
      ],
      "text/plain": [
       "<wandb.sdk.wandb_run.Run at 0x7fb59d028070>"
      ]
     },
     "execution_count": 14,
     "metadata": {},
     "output_type": "execute_result"
    }
   ],
   "source": [
    "wandb.init(config={\"epochs\": EPOCHS, \"batch_size\": TRAIN_BATCH, \"momentum\": MOMENTUM, \"WEIGHT_DECAY\": WEIGHT_DECAY, \"arch\": ARCH})"
   ]
  },
  {
   "cell_type": "code",
   "execution_count": 15,
   "id": "8316c2b3",
   "metadata": {
    "id": "85299ee3"
   },
   "outputs": [],
   "source": [
    "TRAINDIR=\"/data/train\"\n",
    "VALDIR=\"/data/val\""
   ]
  },
  {
   "cell_type": "code",
   "execution_count": 16,
   "id": "f5e0f755",
   "metadata": {
    "colab": {
     "base_uri": "https://localhost:8080/"
    },
    "executionInfo": {
     "elapsed": 137,
     "status": "ok",
     "timestamp": 1622949197302,
     "user": {
      "displayName": "Jayanth Srinivasa",
      "photoUrl": "",
      "userId": "03369694624178485882"
     },
     "user_tz": 420
    },
    "id": "c6bf6a83",
    "outputId": "72d2e92f-7574-4c0a-c813-288cd69eaa36"
   },
   "outputs": [],
   "source": [
    "if not torch.cuda.is_available():\n",
    "    print('GPU not detected.. did you pass through your GPU?')"
   ]
  },
  {
   "cell_type": "code",
   "execution_count": 17,
   "id": "8623e3c6",
   "metadata": {},
   "outputs": [],
   "source": [
    "# how many processes in cluster?\n",
    "WORLD_SIZE = 2\n",
    "BACKEND = 'nccl'\n",
    "# where is the master?\n",
    "#URL = 'tcp://13.57.216.199:1234'\n",
    "URL = 'tcp://13.57.177.94:1234'"
   ]
  },
  {
   "cell_type": "code",
   "execution_count": 18,
   "id": "9025ef90",
   "metadata": {},
   "outputs": [],
   "source": [
    "#what is my rank?\n",
    "RANK = 0"
   ]
  },
  {
   "cell_type": "code",
   "execution_count": 19,
   "id": "8595aa54",
   "metadata": {
    "id": "68491838"
   },
   "outputs": [],
   "source": [
    "dist.init_process_group(backend = BACKEND, init_method= URL,\n",
    "                                world_size= WORLD_SIZE, rank=RANK)"
   ]
  },
  {
   "cell_type": "code",
   "execution_count": 20,
   "id": "fe58cd6b",
   "metadata": {
    "id": "acd97390"
   },
   "outputs": [],
   "source": [
    "#torch.cuda.set_device('cpu')\n",
    "torch.cuda.set_device(GPU)"
   ]
  },
  {
   "cell_type": "code",
   "execution_count": 21,
   "id": "57be159a",
   "metadata": {
    "id": "e19a5849"
   },
   "outputs": [],
   "source": [
    "cudnn.benchmark = True"
   ]
  },
  {
   "cell_type": "code",
   "execution_count": 22,
   "id": "d1d96077",
   "metadata": {},
   "outputs": [],
   "source": [
    "global_step = 0"
   ]
  },
  {
   "cell_type": "code",
   "execution_count": 23,
   "id": "51980911",
   "metadata": {
    "id": "4e65743f"
   },
   "outputs": [],
   "source": [
    "def train(train_loader, model, criterion, optimizer, epoch):\n",
    "    global global_step\n",
    "    batch_time = AverageMeter('Time', ':6.3f')\n",
    "    data_time = AverageMeter('Data', ':6.3f')\n",
    "    losses = AverageMeter('Loss', ':.4e')\n",
    "    top1 = AverageMeter('Acc@1', ':6.2f')\n",
    "    top5 = AverageMeter('Acc@5', ':6.2f')\n",
    "    progress = ProgressMeter(\n",
    "        len(train_loader),\n",
    "        [batch_time, data_time, losses, top1, top5],\n",
    "        prefix=\"Epoch: [{}]\".format(epoch))\n",
    "\n",
    "    # Grad Scaler\n",
    "    scaler = GradScaler()\n",
    "    \n",
    "    # switch to train mode\n",
    "    model.train()\n",
    "\n",
    "    end = time.time()\n",
    "    for i, (images, target) in enumerate(train_loader):\n",
    "        # measure data loading time\n",
    "        data_time.update(time.time() - end)\n",
    "\n",
    "        if GPU is not None:\n",
    "            images = images.cuda(GPU, non_blocking=True)\n",
    "        if torch.cuda.is_available():\n",
    "            target = target.cuda(GPU, non_blocking=True)\n",
    "\n",
    "        # compute output\n",
    "        with autocast():\n",
    "            output = model(images)\n",
    "            loss = criterion(output, target)\n",
    "\n",
    "        # measure accuracy and record loss\n",
    "        acc1, acc5 = accuracy(output, target, topk=(1, 5))\n",
    "        losses.update(loss.item(), images.size(0))\n",
    "        top1.update(acc1[0], images.size(0))\n",
    "        top5.update(acc5[0], images.size(0))\n",
    "\n",
    "        # compute gradient and do SGD step\n",
    "        #optimizer.zero_grad()\n",
    "        #loss.backward()\n",
    "        #optimizer.step()\n",
    "        \n",
    "        # use the scaler\n",
    "        scaler.scale(loss).backward()\n",
    "        scaler.step(optimizer)\n",
    "        scaler.update()\n",
    "\n",
    "        # measure elapsed time\n",
    "        batch_time.update(time.time() - end)\n",
    "        end = time.time()\n",
    "        wandb.log({\"Loss/train\": loss, 'acc1/train': top1.avg, 'acc5/train': top5.avg})\n",
    "        \n",
    "        writer.add_scalar(\"Loss/train\", loss, global_step = global_step)\n",
    "        writer.add_scalar(\"acc1/train\", top1.avg, global_step = global_step)\n",
    "        writer.add_scalar(\"acc5/train\", top5.avg, global_step = global_step)\n",
    "        global_step = global_step + 1\n",
    "\n",
    "        if i % PRINT_FREQ == 0:\n",
    "            progress.display(i)"
   ]
  },
  {
   "cell_type": "code",
   "execution_count": 24,
   "id": "28a1a70a",
   "metadata": {
    "id": "ab30a1a4"
   },
   "outputs": [],
   "source": [
    "def validate(val_loader, model, criterion):\n",
    "    global global_step\n",
    "    batch_time = AverageMeter('Time', ':6.3f')\n",
    "    losses = AverageMeter('Loss', ':.4e')\n",
    "    top1 = AverageMeter('Acc@1', ':6.2f')\n",
    "    top5 = AverageMeter('Acc@5', ':6.2f')\n",
    "    progress = ProgressMeter(\n",
    "        len(val_loader),\n",
    "        [batch_time, losses, top1, top5],\n",
    "        prefix='Test: ')\n",
    "\n",
    "    # switch to evaluate mode\n",
    "    model.eval()\n",
    "\n",
    "    with torch.no_grad():\n",
    "        end = time.time()\n",
    "        for i, (images, target) in enumerate(val_loader):\n",
    "            if GPU is not None:\n",
    "                images = images.cuda(GPU, non_blocking=True)\n",
    "            if torch.cuda.is_available():\n",
    "                target = target.cuda(GPU, non_blocking=True)\n",
    "\n",
    "            # compute output\n",
    "            output = model(images)\n",
    "            loss = criterion(output, target)\n",
    "\n",
    "            # measure accuracy and record loss\n",
    "            acc1, acc5 = accuracy(output, target, topk=(1, 5))\n",
    "            losses.update(loss.item(), images.size(0))\n",
    "            top1.update(acc1[0], images.size(0))\n",
    "            top5.update(acc5[0], images.size(0))\n",
    "\n",
    "            # measure elapsed time\n",
    "            batch_time.update(time.time() - end)\n",
    "            end = time.time()\n",
    "\n",
    "            if i % PRINT_FREQ == 0:\n",
    "                progress.display(i)\n",
    "\n",
    "        # TODO: this should also be done with the ProgressMeter\n",
    "        print(' * Acc@1 {top1.avg:.3f} Acc@5 {top5.avg:.3f}'\n",
    "              .format(top1=top1, top5=top5))\n",
    "\n",
    "    writer.add_scalar(\"Loss/val\", losses.avg, global_step = global_step)\n",
    "    writer.add_scalar(\"acc1/val\", top1.avg, global_step = global_step)\n",
    "    writer.add_scalar(\"acc5/val\", top5.avg, global_step = global_step)\n",
    "    \n",
    "    wandb.log({\"Loss/val\": losses.avg, 'acc1/val': top1.avg, 'acc5/val': top5.avg})\n",
    "    return top1.avg"
   ]
  },
  {
   "cell_type": "code",
   "execution_count": 25,
   "id": "12b72c1d",
   "metadata": {
    "id": "afa7d9fd"
   },
   "outputs": [],
   "source": [
    "def save_checkpoint(state, is_best, filename='checkpoint.pth.tar'):\n",
    "    torch.save(state, filename)\n",
    "    if is_best:\n",
    "        shutil.copyfile(filename, 'model_best.pth.tar')"
   ]
  },
  {
   "cell_type": "code",
   "execution_count": 26,
   "id": "977462ae",
   "metadata": {
    "id": "8c5f0ab4"
   },
   "outputs": [],
   "source": [
    "class AverageMeter(object):\n",
    "    \"\"\"Computes and stores the average and current value\"\"\"\n",
    "    def __init__(self, name, fmt=':f'):\n",
    "        self.name = name\n",
    "        self.fmt = fmt\n",
    "        self.reset()\n",
    "\n",
    "    def reset(self):\n",
    "        self.val = 0\n",
    "        self.avg = 0\n",
    "        self.sum = 0\n",
    "        self.count = 0\n",
    "\n",
    "    def update(self, val, n=1):\n",
    "        self.val = val\n",
    "        self.sum += val * n\n",
    "        self.count += n\n",
    "        self.avg = self.sum / self.count\n",
    "\n",
    "    def __str__(self):\n",
    "        fmtstr = '{name} {val' + self.fmt + '} ({avg' + self.fmt + '})'\n",
    "        return fmtstr.format(**self.__dict__)"
   ]
  },
  {
   "cell_type": "code",
   "execution_count": 27,
   "id": "dce1dfa7",
   "metadata": {
    "id": "ce30c86a"
   },
   "outputs": [],
   "source": [
    "class ProgressMeter(object):\n",
    "    def __init__(self, num_batches, meters, prefix=\"\"):\n",
    "        self.batch_fmtstr = self._get_batch_fmtstr(num_batches)\n",
    "        self.meters = meters\n",
    "        self.prefix = prefix\n",
    "\n",
    "    def display(self, batch):\n",
    "        entries = [self.prefix + self.batch_fmtstr.format(batch)]\n",
    "        entries += [str(meter) for meter in self.meters]\n",
    "        print('\\t'.join(entries))\n",
    "\n",
    "    def _get_batch_fmtstr(self, num_batches):\n",
    "        num_digits = len(str(num_batches // 1))\n",
    "        fmt = '{:' + str(num_digits) + 'd}'\n",
    "        return '[' + fmt + '/' + fmt.format(num_batches) + ']'"
   ]
  },
  {
   "cell_type": "code",
   "execution_count": 28,
   "id": "6ba21c16",
   "metadata": {
    "id": "7504ce7a"
   },
   "outputs": [],
   "source": [
    "def adjust_learning_rate(optimizer, epoch):\n",
    "    \"\"\"Sets the learning rate to the initial LR decayed by 10 every 30 epochs\"\"\"\n",
    "    lr = LR * (0.1 ** (epoch // 30))\n",
    "    for param_group in optimizer.param_groups:\n",
    "        param_group['lr'] = lr"
   ]
  },
  {
   "cell_type": "code",
   "execution_count": 29,
   "id": "fb4a3e99",
   "metadata": {
    "id": "0d659923"
   },
   "outputs": [],
   "source": [
    "def accuracy(output, target, topk=(1,)):\n",
    "    \"\"\"Computes the accuracy over the k top predictions for the specified values of k\"\"\"\n",
    "    with torch.no_grad():\n",
    "        maxk = max(topk)\n",
    "        batch_size = target.size(0)\n",
    "\n",
    "        _, pred = output.topk(maxk, 1, True, True)\n",
    "        pred = pred.t()\n",
    "        correct = pred.eq(target.view(1, -1).expand_as(pred))\n",
    "\n",
    "        res = []\n",
    "        for k in topk:\n",
    "            correct_k = correct[:k].reshape(-1).float().sum(0, keepdim=True)\n",
    "            res.append(correct_k.mul_(100.0 / batch_size))\n",
    "        return res"
   ]
  },
  {
   "cell_type": "code",
   "execution_count": 30,
   "id": "6b5fab71",
   "metadata": {
    "id": "f74f06e1"
   },
   "outputs": [],
   "source": [
    "imagenet_mean_RGB = [0.47889522, 0.47227842, 0.43047404]\n",
    "imagenet_std_RGB = [0.229, 0.224, 0.225]"
   ]
  },
  {
   "cell_type": "code",
   "execution_count": 31,
   "id": "10163bc1",
   "metadata": {
    "id": "c005e2dd"
   },
   "outputs": [],
   "source": [
    "normalize = transforms.Normalize(mean=imagenet_mean_RGB, std=imagenet_std_RGB)"
   ]
  },
  {
   "cell_type": "code",
   "execution_count": 32,
   "id": "31c2f17b",
   "metadata": {
    "id": "29d54592"
   },
   "outputs": [],
   "source": [
    "IMG_SIZE = 224"
   ]
  },
  {
   "cell_type": "code",
   "execution_count": 33,
   "id": "03b3c39e",
   "metadata": {
    "id": "94059b7f"
   },
   "outputs": [],
   "source": [
    "NUM_CLASSES = 1000"
   ]
  },
  {
   "cell_type": "code",
   "execution_count": 34,
   "id": "a4c18b83",
   "metadata": {
    "id": "788c0401"
   },
   "outputs": [],
   "source": [
    "model = models.__dict__[ARCH]()"
   ]
  },
  {
   "cell_type": "code",
   "execution_count": 35,
   "id": "8a399191",
   "metadata": {
    "id": "63dc579e"
   },
   "outputs": [],
   "source": [
    "inf = model.fc.in_features"
   ]
  },
  {
   "cell_type": "code",
   "execution_count": 36,
   "id": "ddba8c84",
   "metadata": {
    "id": "edf9cf5d"
   },
   "outputs": [],
   "source": [
    "model.fc = nn.Linear(inf, NUM_CLASSES)"
   ]
  },
  {
   "cell_type": "code",
   "execution_count": 37,
   "id": "b6b46a81",
   "metadata": {
    "id": "319e2d99"
   },
   "outputs": [],
   "source": [
    "model.cuda(GPU)\n",
    "model = torch.nn.parallel.DistributedDataParallel(model, device_ids=[GPU])\n",
    "# model = torch.nn.parallel.DistributedDataParallel(model)"
   ]
  },
  {
   "cell_type": "code",
   "execution_count": 38,
   "id": "2a1fb460",
   "metadata": {
    "id": "b8dc59b5"
   },
   "outputs": [],
   "source": [
    "criterion = nn.CrossEntropyLoss().cuda(GPU)"
   ]
  },
  {
   "cell_type": "code",
   "execution_count": 39,
   "id": "37386820",
   "metadata": {
    "id": "3999d84a"
   },
   "outputs": [],
   "source": [
    "optimizer = torch.optim.SGD(model.parameters(), LR,\n",
    "                                momentum=MOMENTUM,\n",
    "                                weight_decay=WEIGHT_DECAY)"
   ]
  },
  {
   "cell_type": "code",
   "execution_count": 40,
   "id": "4ee00264",
   "metadata": {
    "id": "9fae338b"
   },
   "outputs": [],
   "source": [
    "scheduler = torch.optim.lr_scheduler.CosineAnnealingLR(optimizer, T_max=EPOCHS)"
   ]
  },
  {
   "cell_type": "code",
   "execution_count": 41,
   "id": "c33cfbdc",
   "metadata": {
    "id": "34dbcdb1"
   },
   "outputs": [],
   "source": [
    "#transform_train = transforms.Compose([\n",
    "#    transforms.Resize(256),\n",
    "#    transforms.RandomResizedCrop(224),\n",
    "#    transforms.CenterCrop(224),\n",
    "#    transforms.RandomHorizontalFlip(),\n",
    "#    transforms.ToTensor(),\n",
    "#    transforms.Normalize(imagenet_mean_RGB, imagenet_std_RGB),\n",
    "#])"
   ]
  },
  {
   "cell_type": "code",
   "execution_count": 42,
   "id": "963c5927",
   "metadata": {
    "id": "e5275a69"
   },
   "outputs": [],
   "source": [
    "#train_dataset = datasets.ImageFolder(\n",
    "#    TRAINDIR, transform=transform_train)"
   ]
  },
  {
   "cell_type": "code",
   "execution_count": 43,
   "id": "f77dda35",
   "metadata": {},
   "outputs": [],
   "source": [
    "train_dataset = datasets.ImageFolder(\n",
    "    TRAINDIR,\n",
    "    transforms.Compose([\n",
    "        transforms.Resize(256),\n",
    "        transforms.RandomResizedCrop(224),\n",
    "        transforms.CenterCrop(224),\n",
    "        transforms.RandomHorizontalFlip(),\n",
    "        transforms.ToTensor(),\n",
    "        normalize,\n",
    "    ])\n",
    ")"
   ]
  },
  {
   "cell_type": "code",
   "execution_count": 44,
   "id": "8847ac40",
   "metadata": {
    "id": "854ca1ad"
   },
   "outputs": [],
   "source": [
    "#transform_val = transforms.Compose([\n",
    "#    transforms.Resize(256),\n",
    "#    transforms.CenterCrop(224),\n",
    "#    transforms.ToTensor(),\n",
    "#    transforms.Normalize(imagenet_mean_RGB, imagenet_std_RGB),\n",
    "#])"
   ]
  },
  {
   "cell_type": "code",
   "execution_count": 45,
   "id": "aeac1c4f",
   "metadata": {
    "id": "abfa5fb6"
   },
   "outputs": [],
   "source": [
    "#val_dataset = datasets.ImageFolder(\n",
    "#    VALDIR, transform=transform_val)"
   ]
  },
  {
   "cell_type": "code",
   "execution_count": 46,
   "id": "e1639e6b",
   "metadata": {},
   "outputs": [],
   "source": [
    "val_dataset = datasets.ImageFolder(\n",
    "    VALDIR,\n",
    "    transforms.Compose([\n",
    "        transforms.Resize(256),\n",
    "        transforms.CenterCrop(224),\n",
    "        transforms.ToTensor(),\n",
    "        normalize,\n",
    "    ])\n",
    ")"
   ]
  },
  {
   "cell_type": "code",
   "execution_count": 47,
   "id": "4a2a216a",
   "metadata": {
    "id": "07a0bdf4"
   },
   "outputs": [],
   "source": [
    "train_loader = torch.utils.data.DataLoader(\n",
    "        train_dataset, batch_size=TRAIN_BATCH, shuffle=False,\n",
    "        num_workers=WORKERS, pin_memory=True, sampler=torch.utils.data.distributed.DistributedSampler(train_dataset))"
   ]
  },
  {
   "cell_type": "code",
   "execution_count": 48,
   "id": "7020393b",
   "metadata": {
    "id": "192ae835"
   },
   "outputs": [],
   "source": [
    "val_loader = torch.utils.data.DataLoader(\n",
    "        val_dataset, batch_size=VAL_BATCH, shuffle=False,\n",
    "        num_workers=WORKERS, pin_memory=True, sampler=torch.utils.data.distributed.DistributedSampler(val_dataset)) "
   ]
  },
  {
   "cell_type": "code",
   "execution_count": 49,
   "id": "ac563d15",
   "metadata": {
    "id": "1502c5db"
   },
   "outputs": [],
   "source": [
    "best_acc1 = 0"
   ]
  },
  {
   "cell_type": "code",
   "execution_count": 50,
   "id": "44815aa2",
   "metadata": {
    "id": "ceb95e07"
   },
   "outputs": [
    {
     "name": "stderr",
     "output_type": "stream",
     "text": [
      "/opt/conda/lib/python3.8/site-packages/torch/nn/functional.py:718: UserWarning: Named tensors and all their associated APIs are an experimental feature and subject to change. Please do not use them for anything important until they are released as stable. (Triggered internally at  ../c10/core/TensorImpl.h:1153.)\n",
      "  return torch.max_pool2d(input, kernel_size, stride, padding, dilation, ceil_mode)\n"
     ]
    },
    {
     "name": "stdout",
     "output_type": "stream",
     "text": [
      "Epoch: [0][   0/2503]\tTime 14.072 (14.072)\tData  3.448 ( 3.448)\tLoss 6.9782e+00 (6.9782e+00)\tAcc@1   0.00 (  0.00)\tAcc@5   1.56 (  1.56)\n",
      "Epoch: [0][  50/2503]\tTime  0.370 ( 0.623)\tData  0.002 ( 0.070)\tLoss 6.8251e+00 (6.9427e+00)\tAcc@1   0.00 (  0.24)\tAcc@5   1.56 (  1.10)\n",
      "Epoch: [0][ 100/2503]\tTime  0.346 ( 0.491)\tData  0.003 ( 0.037)\tLoss 6.6277e+00 (6.8248e+00)\tAcc@1   0.00 (  0.31)\tAcc@5   1.17 (  1.59)\n",
      "Epoch: [0][ 150/2503]\tTime  0.345 ( 0.445)\tData  0.002 ( 0.025)\tLoss 6.3093e+00 (6.7266e+00)\tAcc@1   1.17 (  0.55)\tAcc@5   4.30 (  2.26)\n",
      "Epoch: [0][ 200/2503]\tTime  0.369 ( 0.423)\tData  0.002 ( 0.020)\tLoss 6.3423e+00 (6.6358e+00)\tAcc@1   0.78 (  0.72)\tAcc@5   4.30 (  2.88)\n",
      "Epoch: [0][ 250/2503]\tTime  0.344 ( 0.411)\tData  0.002 ( 0.017)\tLoss 6.1630e+00 (6.5543e+00)\tAcc@1   1.17 (  0.92)\tAcc@5   5.86 (  3.59)\n",
      "Epoch: [0][ 300/2503]\tTime  0.343 ( 0.402)\tData  0.002 ( 0.014)\tLoss 6.0747e+00 (6.4791e+00)\tAcc@1   2.34 (  1.10)\tAcc@5   6.25 (  4.19)\n",
      "Epoch: [0][ 350/2503]\tTime  0.372 ( 0.395)\tData  0.003 ( 0.013)\tLoss 6.0102e+00 (6.4086e+00)\tAcc@1   1.95 (  1.33)\tAcc@5  10.16 (  4.88)\n",
      "Epoch: [0][ 400/2503]\tTime  0.343 ( 0.390)\tData  0.002 ( 0.011)\tLoss 5.9613e+00 (6.3449e+00)\tAcc@1   2.34 (  1.51)\tAcc@5  11.33 (  5.54)\n",
      "Epoch: [0][ 450/2503]\tTime  0.344 ( 0.387)\tData  0.002 ( 0.011)\tLoss 5.6904e+00 (6.2836e+00)\tAcc@1   5.08 (  1.72)\tAcc@5  14.06 (  6.13)\n",
      "Epoch: [0][ 500/2503]\tTime  0.373 ( 0.385)\tData  0.002 ( 0.010)\tLoss 5.7907e+00 (6.2253e+00)\tAcc@1   2.34 (  1.93)\tAcc@5  11.72 (  6.75)\n",
      "Epoch: [0][ 550/2503]\tTime  0.363 ( 0.382)\tData  0.003 ( 0.009)\tLoss 5.5410e+00 (6.1715e+00)\tAcc@1   2.73 (  2.12)\tAcc@5  13.67 (  7.37)\n",
      "Epoch: [0][ 600/2503]\tTime  0.349 ( 0.380)\tData  0.002 ( 0.009)\tLoss 5.6221e+00 (6.1191e+00)\tAcc@1   3.12 (  2.32)\tAcc@5  14.45 (  7.95)\n",
      "Epoch: [0][ 650/2503]\tTime  0.348 ( 0.379)\tData  0.003 ( 0.008)\tLoss 5.5250e+00 (6.0694e+00)\tAcc@1   4.69 (  2.56)\tAcc@5  14.84 (  8.58)\n",
      "Epoch: [0][ 700/2503]\tTime  0.348 ( 0.377)\tData  0.002 ( 0.008)\tLoss 5.4539e+00 (6.0237e+00)\tAcc@1   5.47 (  2.80)\tAcc@5  17.97 (  9.15)\n",
      "Epoch: [0][ 750/2503]\tTime  0.344 ( 0.376)\tData  0.002 ( 0.007)\tLoss 5.3615e+00 (5.9806e+00)\tAcc@1   7.42 (  3.03)\tAcc@5  16.02 (  9.71)\n",
      "Epoch: [0][ 800/2503]\tTime  0.389 ( 0.375)\tData  0.002 ( 0.007)\tLoss 5.3630e+00 (5.9390e+00)\tAcc@1   7.42 (  3.25)\tAcc@5  21.09 ( 10.27)\n",
      "Epoch: [0][ 850/2503]\tTime  0.343 ( 0.374)\tData  0.003 ( 0.007)\tLoss 4.9688e+00 (5.8983e+00)\tAcc@1   9.38 (  3.48)\tAcc@5  25.78 ( 10.82)\n",
      "Epoch: [0][ 900/2503]\tTime  0.349 ( 0.373)\tData  0.002 ( 0.007)\tLoss 5.0191e+00 (5.8601e+00)\tAcc@1   9.77 (  3.70)\tAcc@5  22.66 ( 11.35)\n",
      "Epoch: [0][ 950/2503]\tTime  0.350 ( 0.373)\tData  0.004 ( 0.006)\tLoss 5.2244e+00 (5.8224e+00)\tAcc@1   8.20 (  3.94)\tAcc@5  23.05 ( 11.89)\n",
      "Epoch: [0][1000/2503]\tTime  0.351 ( 0.372)\tData  0.002 ( 0.006)\tLoss 5.0220e+00 (5.7853e+00)\tAcc@1   9.77 (  4.16)\tAcc@5  23.44 ( 12.38)\n",
      "Epoch: [0][1050/2503]\tTime  0.367 ( 0.371)\tData  0.003 ( 0.006)\tLoss 4.9493e+00 (5.7506e+00)\tAcc@1   8.20 (  4.38)\tAcc@5  24.61 ( 12.87)\n",
      "Epoch: [0][1100/2503]\tTime  0.347 ( 0.371)\tData  0.003 ( 0.006)\tLoss 4.9173e+00 (5.7165e+00)\tAcc@1  11.33 (  4.60)\tAcc@5  23.83 ( 13.37)\n",
      "Epoch: [0][1150/2503]\tTime  0.344 ( 0.370)\tData  0.002 ( 0.006)\tLoss 4.8985e+00 (5.6829e+00)\tAcc@1  10.55 (  4.82)\tAcc@5  26.17 ( 13.85)\n",
      "Epoch: [0][1200/2503]\tTime  0.369 ( 0.370)\tData  0.002 ( 0.006)\tLoss 5.0549e+00 (5.6500e+00)\tAcc@1   9.38 (  5.03)\tAcc@5  26.17 ( 14.36)\n",
      "Epoch: [0][1250/2503]\tTime  0.366 ( 0.369)\tData  0.004 ( 0.006)\tLoss 5.1044e+00 (5.6188e+00)\tAcc@1   7.03 (  5.25)\tAcc@5  28.12 ( 14.85)\n",
      "Epoch: [0][1300/2503]\tTime  0.363 ( 0.369)\tData  0.002 ( 0.005)\tLoss 4.7862e+00 (5.5866e+00)\tAcc@1  11.72 (  5.47)\tAcc@5  25.00 ( 15.36)\n",
      "Epoch: [0][1350/2503]\tTime  0.368 ( 0.369)\tData  0.002 ( 0.005)\tLoss 4.7152e+00 (5.5566e+00)\tAcc@1  12.11 (  5.70)\tAcc@5  30.47 ( 15.83)\n",
      "Epoch: [0][1400/2503]\tTime  0.354 ( 0.368)\tData  0.008 ( 0.005)\tLoss 4.8010e+00 (5.5259e+00)\tAcc@1  11.33 (  5.95)\tAcc@5  24.61 ( 16.31)\n",
      "Epoch: [0][1450/2503]\tTime  0.380 ( 0.368)\tData  0.007 ( 0.005)\tLoss 4.6174e+00 (5.4969e+00)\tAcc@1  12.11 (  6.16)\tAcc@5  30.08 ( 16.79)\n",
      "Epoch: [0][1500/2503]\tTime  0.366 ( 0.368)\tData  0.003 ( 0.005)\tLoss 4.5075e+00 (5.4700e+00)\tAcc@1  12.11 (  6.36)\tAcc@5  32.42 ( 17.20)\n",
      "Epoch: [0][1550/2503]\tTime  0.369 ( 0.368)\tData  0.003 ( 0.005)\tLoss 4.7864e+00 (5.4427e+00)\tAcc@1  11.33 (  6.56)\tAcc@5  27.73 ( 17.63)\n",
      "Epoch: [0][1600/2503]\tTime  0.344 ( 0.367)\tData  0.003 ( 0.005)\tLoss 4.6126e+00 (5.4152e+00)\tAcc@1  13.28 (  6.79)\tAcc@5  27.73 ( 18.08)\n",
      "Epoch: [0][1650/2503]\tTime  0.345 ( 0.367)\tData  0.002 ( 0.005)\tLoss 4.4881e+00 (5.3884e+00)\tAcc@1  14.84 (  7.01)\tAcc@5  35.94 ( 18.53)\n",
      "Epoch: [0][1700/2503]\tTime  0.344 ( 0.367)\tData  0.004 ( 0.005)\tLoss 4.5462e+00 (5.3619e+00)\tAcc@1  14.06 (  7.22)\tAcc@5  32.81 ( 18.97)\n",
      "Epoch: [0][1750/2503]\tTime  0.343 ( 0.366)\tData  0.003 ( 0.005)\tLoss 4.6891e+00 (5.3365e+00)\tAcc@1  14.06 (  7.44)\tAcc@5  29.69 ( 19.40)\n",
      "Epoch: [0][1800/2503]\tTime  0.344 ( 0.366)\tData  0.003 ( 0.005)\tLoss 4.1846e+00 (5.3109e+00)\tAcc@1  21.09 (  7.66)\tAcc@5  39.84 ( 19.83)\n",
      "Epoch: [0][1850/2503]\tTime  0.366 ( 0.366)\tData  0.002 ( 0.005)\tLoss 4.3510e+00 (5.2870e+00)\tAcc@1  12.89 (  7.86)\tAcc@5  35.94 ( 20.22)\n",
      "Epoch: [0][1900/2503]\tTime  0.357 ( 0.366)\tData  0.002 ( 0.005)\tLoss 4.6527e+00 (5.2642e+00)\tAcc@1  16.80 (  8.06)\tAcc@5  30.08 ( 20.59)\n",
      "Epoch: [0][1950/2503]\tTime  0.365 ( 0.366)\tData  0.002 ( 0.005)\tLoss 4.3327e+00 (5.2416e+00)\tAcc@1  19.14 (  8.27)\tAcc@5  35.16 ( 20.98)\n",
      "Epoch: [0][2000/2503]\tTime  0.366 ( 0.366)\tData  0.003 ( 0.004)\tLoss 4.3866e+00 (5.2190e+00)\tAcc@1  15.62 (  8.48)\tAcc@5  36.33 ( 21.36)\n",
      "Epoch: [0][2050/2503]\tTime  0.369 ( 0.365)\tData  0.002 ( 0.004)\tLoss 4.2086e+00 (5.1969e+00)\tAcc@1  20.70 (  8.69)\tAcc@5  40.62 ( 21.74)\n",
      "Epoch: [0][2100/2503]\tTime  0.345 ( 0.365)\tData  0.002 ( 0.004)\tLoss 4.2848e+00 (5.1751e+00)\tAcc@1  17.58 (  8.89)\tAcc@5  36.33 ( 22.11)\n",
      "Epoch: [0][2150/2503]\tTime  0.350 ( 0.365)\tData  0.002 ( 0.004)\tLoss 4.3431e+00 (5.1537e+00)\tAcc@1  17.19 (  9.09)\tAcc@5  39.45 ( 22.48)\n",
      "Epoch: [0][2200/2503]\tTime  0.364 ( 0.365)\tData  0.002 ( 0.004)\tLoss 4.3905e+00 (5.1322e+00)\tAcc@1  17.19 (  9.30)\tAcc@5  34.77 ( 22.85)\n",
      "Epoch: [0][2250/2503]\tTime  0.349 ( 0.365)\tData  0.003 ( 0.004)\tLoss 4.1877e+00 (5.1108e+00)\tAcc@1  16.02 (  9.50)\tAcc@5  35.55 ( 23.21)\n",
      "Epoch: [0][2300/2503]\tTime  0.346 ( 0.365)\tData  0.002 ( 0.004)\tLoss 4.3444e+00 (5.0892e+00)\tAcc@1  17.97 (  9.70)\tAcc@5  33.59 ( 23.57)\n",
      "Epoch: [0][2350/2503]\tTime  0.367 ( 0.365)\tData  0.002 ( 0.004)\tLoss 4.2674e+00 (5.0690e+00)\tAcc@1  21.09 (  9.90)\tAcc@5  40.23 ( 23.93)\n",
      "Epoch: [0][2400/2503]\tTime  0.347 ( 0.365)\tData  0.002 ( 0.004)\tLoss 3.9219e+00 (5.0494e+00)\tAcc@1  19.92 ( 10.09)\tAcc@5  44.14 ( 24.27)\n",
      "Epoch: [0][2450/2503]\tTime  0.365 ( 0.365)\tData  0.002 ( 0.004)\tLoss 4.1616e+00 (5.0297e+00)\tAcc@1  18.36 ( 10.27)\tAcc@5  41.41 ( 24.62)\n",
      "Epoch: [0][2500/2503]\tTime  0.337 ( 0.364)\tData  0.002 ( 0.004)\tLoss 4.1397e+00 (5.0103e+00)\tAcc@1  18.75 ( 10.46)\tAcc@5  42.19 ( 24.97)\n",
      "Test: [ 0/98]\tTime  4.507 ( 4.507)\tLoss 4.0087e+00 (4.0087e+00)\tAcc@1  19.53 ( 19.53)\tAcc@5  42.19 ( 42.19)\n",
      "Test: [50/98]\tTime  0.218 ( 0.336)\tLoss 3.9015e+00 (4.0668e+00)\tAcc@1  21.09 ( 19.22)\tAcc@5  41.41 ( 41.38)\n",
      " * Acc@1 19.560 Acc@5 41.412\n",
      "lr: [0.09999383162408304]\n",
      "Epoch: [1][   0/2503]\tTime  3.551 ( 3.551)\tData  3.142 ( 3.142)\tLoss 3.8677e+00 (3.8677e+00)\tAcc@1  21.09 ( 21.09)\tAcc@5  46.48 ( 46.48)\n",
      "Epoch: [1][  50/2503]\tTime  0.349 ( 0.425)\tData  0.009 ( 0.066)\tLoss 4.1610e+00 (4.0598e+00)\tAcc@1  19.53 ( 19.83)\tAcc@5  42.58 ( 41.72)\n",
      "Epoch: [1][ 100/2503]\tTime  0.375 ( 0.395)\tData  0.007 ( 0.035)\tLoss 3.7883e+00 (4.0467e+00)\tAcc@1  21.88 ( 20.10)\tAcc@5  48.05 ( 42.01)\n",
      "Epoch: [1][ 150/2503]\tTime  0.365 ( 0.383)\tData  0.003 ( 0.024)\tLoss 3.8694e+00 (4.0301e+00)\tAcc@1  21.09 ( 20.32)\tAcc@5  43.75 ( 42.23)\n",
      "Epoch: [1][ 200/2503]\tTime  0.369 ( 0.377)\tData  0.003 ( 0.019)\tLoss 4.0736e+00 (4.0168e+00)\tAcc@1  19.14 ( 20.52)\tAcc@5  42.19 ( 42.58)\n",
      "Epoch: [1][ 250/2503]\tTime  0.370 ( 0.374)\tData  0.003 ( 0.016)\tLoss 3.8773e+00 (4.0048e+00)\tAcc@1  20.31 ( 20.65)\tAcc@5  44.92 ( 42.75)\n",
      "Epoch: [1][ 300/2503]\tTime  0.369 ( 0.372)\tData  0.003 ( 0.014)\tLoss 3.9344e+00 (3.9893e+00)\tAcc@1  21.88 ( 20.86)\tAcc@5  42.58 ( 43.05)\n",
      "Epoch: [1][ 350/2503]\tTime  0.348 ( 0.370)\tData  0.003 ( 0.012)\tLoss 3.8735e+00 (3.9745e+00)\tAcc@1  24.22 ( 21.09)\tAcc@5  42.58 ( 43.33)\n",
      "Epoch: [1][ 400/2503]\tTime  0.346 ( 0.368)\tData  0.002 ( 0.011)\tLoss 4.1469e+00 (3.9632e+00)\tAcc@1  19.53 ( 21.26)\tAcc@5  39.45 ( 43.58)\n",
      "Epoch: [1][ 450/2503]\tTime  0.347 ( 0.367)\tData  0.003 ( 0.010)\tLoss 4.0381e+00 (3.9539e+00)\tAcc@1  18.75 ( 21.42)\tAcc@5  42.19 ( 43.75)\n",
      "Epoch: [1][ 500/2503]\tTime  0.347 ( 0.367)\tData  0.002 ( 0.009)\tLoss 3.9319e+00 (3.9395e+00)\tAcc@1  27.34 ( 21.63)\tAcc@5  46.09 ( 44.02)\n",
      "Epoch: [1][ 550/2503]\tTime  0.358 ( 0.366)\tData  0.006 ( 0.009)\tLoss 3.7706e+00 (3.9289e+00)\tAcc@1  21.48 ( 21.81)\tAcc@5  44.92 ( 44.20)\n",
      "Epoch: [1][ 600/2503]\tTime  0.375 ( 0.366)\tData  0.003 ( 0.008)\tLoss 3.9409e+00 (3.9206e+00)\tAcc@1  24.22 ( 21.94)\tAcc@5  45.70 ( 44.32)\n",
      "Epoch: [1][ 650/2503]\tTime  0.345 ( 0.365)\tData  0.002 ( 0.008)\tLoss 3.7228e+00 (3.9120e+00)\tAcc@1  23.05 ( 22.06)\tAcc@5  48.05 ( 44.49)\n",
      "Epoch: [1][ 700/2503]\tTime  0.342 ( 0.365)\tData  0.002 ( 0.007)\tLoss 3.8741e+00 (3.9015e+00)\tAcc@1  23.83 ( 22.25)\tAcc@5  45.31 ( 44.67)\n",
      "Epoch: [1][ 750/2503]\tTime  0.343 ( 0.365)\tData  0.002 ( 0.007)\tLoss 3.7419e+00 (3.8916e+00)\tAcc@1  21.88 ( 22.38)\tAcc@5  48.83 ( 44.89)\n",
      "Epoch: [1][ 800/2503]\tTime  0.367 ( 0.364)\tData  0.003 ( 0.007)\tLoss 3.8868e+00 (3.8819e+00)\tAcc@1  22.66 ( 22.52)\tAcc@5  46.09 ( 45.08)\n",
      "Epoch: [1][ 850/2503]\tTime  0.345 ( 0.364)\tData  0.002 ( 0.006)\tLoss 3.5930e+00 (3.8738e+00)\tAcc@1  27.73 ( 22.68)\tAcc@5  52.34 ( 45.23)\n",
      "Epoch: [1][ 900/2503]\tTime  0.409 ( 0.364)\tData  0.032 ( 0.006)\tLoss 3.7416e+00 (3.8642e+00)\tAcc@1  31.25 ( 22.82)\tAcc@5  52.73 ( 45.42)\n",
      "Epoch: [1][ 950/2503]\tTime  0.347 ( 0.364)\tData  0.002 ( 0.006)\tLoss 3.8492e+00 (3.8543e+00)\tAcc@1  21.09 ( 22.93)\tAcc@5  45.70 ( 45.61)\n",
      "Epoch: [1][1000/2503]\tTime  0.343 ( 0.364)\tData  0.003 ( 0.006)\tLoss 3.6156e+00 (3.8451e+00)\tAcc@1  26.95 ( 23.04)\tAcc@5  52.34 ( 45.79)\n",
      "Epoch: [1][1050/2503]\tTime  0.365 ( 0.364)\tData  0.002 ( 0.006)\tLoss 3.7557e+00 (3.8365e+00)\tAcc@1  23.83 ( 23.15)\tAcc@5  46.48 ( 45.94)\n",
      "Epoch: [1][1100/2503]\tTime  0.361 ( 0.363)\tData  0.002 ( 0.006)\tLoss 3.5974e+00 (3.8278e+00)\tAcc@1  27.34 ( 23.30)\tAcc@5  53.52 ( 46.10)\n",
      "Epoch: [1][1150/2503]\tTime  0.345 ( 0.363)\tData  0.002 ( 0.006)\tLoss 3.6527e+00 (3.8193e+00)\tAcc@1  27.73 ( 23.42)\tAcc@5  51.95 ( 46.26)\n",
      "Epoch: [1][1200/2503]\tTime  0.345 ( 0.363)\tData  0.002 ( 0.005)\tLoss 3.7168e+00 (3.8105e+00)\tAcc@1  25.00 ( 23.56)\tAcc@5  47.27 ( 46.43)\n",
      "Epoch: [1][1250/2503]\tTime  0.346 ( 0.363)\tData  0.002 ( 0.005)\tLoss 3.7315e+00 (3.8027e+00)\tAcc@1  25.39 ( 23.66)\tAcc@5  49.22 ( 46.56)\n",
      "Epoch: [1][1300/2503]\tTime  0.374 ( 0.363)\tData  0.003 ( 0.005)\tLoss 3.4469e+00 (3.7928e+00)\tAcc@1  27.34 ( 23.79)\tAcc@5  54.30 ( 46.74)\n",
      "Epoch: [1][1350/2503]\tTime  0.369 ( 0.363)\tData  0.002 ( 0.005)\tLoss 3.9112e+00 (3.7855e+00)\tAcc@1  23.05 ( 23.90)\tAcc@5  45.31 ( 46.87)\n",
      "Epoch: [1][1400/2503]\tTime  0.347 ( 0.363)\tData  0.003 ( 0.005)\tLoss 3.7068e+00 (3.7771e+00)\tAcc@1  26.95 ( 24.02)\tAcc@5  50.39 ( 47.04)\n",
      "Epoch: [1][1450/2503]\tTime  0.372 ( 0.362)\tData  0.004 ( 0.005)\tLoss 3.4178e+00 (3.7703e+00)\tAcc@1  32.42 ( 24.12)\tAcc@5  52.73 ( 47.16)\n",
      "Epoch: [1][1500/2503]\tTime  0.369 ( 0.362)\tData  0.005 ( 0.005)\tLoss 3.4615e+00 (3.7636e+00)\tAcc@1  23.83 ( 24.22)\tAcc@5  53.12 ( 47.29)\n",
      "Epoch: [1][1550/2503]\tTime  0.372 ( 0.362)\tData  0.003 ( 0.005)\tLoss 3.7574e+00 (3.7552e+00)\tAcc@1  28.12 ( 24.32)\tAcc@5  47.66 ( 47.45)\n",
      "Epoch: [1][1600/2503]\tTime  0.365 ( 0.362)\tData  0.002 ( 0.005)\tLoss 3.3557e+00 (3.7465e+00)\tAcc@1  27.34 ( 24.46)\tAcc@5  52.73 ( 47.62)\n",
      "Epoch: [1][1650/2503]\tTime  0.370 ( 0.362)\tData  0.003 ( 0.005)\tLoss 3.2929e+00 (3.7384e+00)\tAcc@1  33.20 ( 24.58)\tAcc@5  56.25 ( 47.78)\n",
      "Epoch: [1][1700/2503]\tTime  0.369 ( 0.362)\tData  0.003 ( 0.005)\tLoss 3.5671e+00 (3.7301e+00)\tAcc@1  28.52 ( 24.71)\tAcc@5  50.39 ( 47.92)\n",
      "Epoch: [1][1750/2503]\tTime  0.345 ( 0.362)\tData  0.003 ( 0.005)\tLoss 3.6763e+00 (3.7224e+00)\tAcc@1  26.56 ( 24.84)\tAcc@5  50.78 ( 48.06)\n",
      "Epoch: [1][1800/2503]\tTime  0.347 ( 0.362)\tData  0.002 ( 0.005)\tLoss 3.3943e+00 (3.7150e+00)\tAcc@1  28.91 ( 24.94)\tAcc@5  50.78 ( 48.20)\n",
      "Epoch: [1][1850/2503]\tTime  0.341 ( 0.362)\tData  0.002 ( 0.005)\tLoss 3.4408e+00 (3.7080e+00)\tAcc@1  27.34 ( 25.05)\tAcc@5  54.30 ( 48.33)\n",
      "Epoch: [1][1900/2503]\tTime  0.367 ( 0.362)\tData  0.002 ( 0.004)\tLoss 3.6340e+00 (3.7014e+00)\tAcc@1  26.95 ( 25.14)\tAcc@5  46.48 ( 48.45)\n",
      "Epoch: [1][1950/2503]\tTime  0.362 ( 0.362)\tData  0.002 ( 0.004)\tLoss 3.5588e+00 (3.6951e+00)\tAcc@1  28.91 ( 25.25)\tAcc@5  50.78 ( 48.57)\n",
      "Epoch: [1][2000/2503]\tTime  0.369 ( 0.362)\tData  0.002 ( 0.004)\tLoss 3.2937e+00 (3.6879e+00)\tAcc@1  33.59 ( 25.35)\tAcc@5  55.47 ( 48.70)\n",
      "Epoch: [1][2050/2503]\tTime  0.345 ( 0.361)\tData  0.003 ( 0.004)\tLoss 3.4162e+00 (3.6811e+00)\tAcc@1  28.91 ( 25.46)\tAcc@5  54.69 ( 48.84)\n",
      "Epoch: [1][2100/2503]\tTime  0.364 ( 0.361)\tData  0.003 ( 0.004)\tLoss 3.5188e+00 (3.6741e+00)\tAcc@1  27.73 ( 25.55)\tAcc@5  49.61 ( 48.96)\n",
      "Epoch: [1][2150/2503]\tTime  0.367 ( 0.361)\tData  0.002 ( 0.004)\tLoss 3.6411e+00 (3.6672e+00)\tAcc@1  28.52 ( 25.66)\tAcc@5  53.52 ( 49.08)\n",
      "Epoch: [1][2200/2503]\tTime  0.343 ( 0.361)\tData  0.002 ( 0.004)\tLoss 3.5526e+00 (3.6602e+00)\tAcc@1  21.88 ( 25.76)\tAcc@5  50.78 ( 49.20)\n",
      "Epoch: [1][2250/2503]\tTime  0.369 ( 0.361)\tData  0.002 ( 0.004)\tLoss 3.4261e+00 (3.6532e+00)\tAcc@1  23.83 ( 25.87)\tAcc@5  52.73 ( 49.33)\n",
      "Epoch: [1][2300/2503]\tTime  0.343 ( 0.361)\tData  0.002 ( 0.004)\tLoss 3.4347e+00 (3.6451e+00)\tAcc@1  31.64 ( 25.99)\tAcc@5  53.91 ( 49.49)\n",
      "Epoch: [1][2350/2503]\tTime  0.347 ( 0.361)\tData  0.002 ( 0.004)\tLoss 3.4843e+00 (3.6386e+00)\tAcc@1  29.69 ( 26.11)\tAcc@5  53.12 ( 49.61)\n",
      "Epoch: [1][2400/2503]\tTime  0.357 ( 0.361)\tData  0.003 ( 0.004)\tLoss 3.1289e+00 (3.6320e+00)\tAcc@1  33.59 ( 26.22)\tAcc@5  57.42 ( 49.73)\n",
      "Epoch: [1][2450/2503]\tTime  0.343 ( 0.361)\tData  0.002 ( 0.004)\tLoss 3.2781e+00 (3.6254e+00)\tAcc@1  30.08 ( 26.31)\tAcc@5  58.20 ( 49.85)\n",
      "Epoch: [1][2500/2503]\tTime  0.339 ( 0.360)\tData  0.002 ( 0.004)\tLoss 3.3498e+00 (3.6185e+00)\tAcc@1  29.69 ( 26.42)\tAcc@5  52.34 ( 49.98)\n",
      "Test: [ 0/98]\tTime  3.482 ( 3.482)\tLoss 3.3224e+00 (3.3224e+00)\tAcc@1  32.42 ( 32.42)\tAcc@5  54.30 ( 54.30)\n",
      "Test: [50/98]\tTime  0.205 ( 0.338)\tLoss 3.3779e+00 (3.5058e+00)\tAcc@1  29.69 ( 28.05)\tAcc@5  52.34 ( 52.74)\n",
      " * Acc@1 28.368 Acc@5 53.040\n",
      "lr: [0.09998149525276118]\n",
      "CPU times: user 40min 54s, sys: 19min 56s, total: 1h 51s\n",
      "Wall time: 31min 18s\n"
     ]
    }
   ],
   "source": [
    "%%time\n",
    "for epoch in range(START_EPOCH, 2):\n",
    "    adjust_learning_rate(optimizer, epoch)\n",
    "\n",
    "    # train for one epoch\n",
    "    train(train_loader, model, criterion, optimizer, epoch)\n",
    "\n",
    "    # evaluate on validation set\n",
    "    acc1 = validate(val_loader, model, criterion)\n",
    "\n",
    "    # remember best acc@1 and save checkpoint\n",
    "    is_best = acc1 > best_acc1\n",
    "    best_acc1 = max(acc1, best_acc1)\n",
    "\n",
    "\n",
    "    save_checkpoint({\n",
    "        'epoch': epoch + 1,\n",
    "        'arch': ARCH,\n",
    "        'state_dict': model.state_dict(),\n",
    "        'best_acc1': best_acc1,\n",
    "        'optimizer' : optimizer.state_dict(),\n",
    "    }, is_best)\n",
    "    \n",
    "    scheduler.step()\n",
    "    print('lr: ' + str(scheduler.get_last_lr()))\n",
    "    writer.add_scalar(\"lr\", scheduler.get_last_lr()[0], global_step = global_step)\n",
    "    wandb.log({'lr': scheduler.get_last_lr()[0]})"
   ]
  },
  {
   "cell_type": "code",
   "execution_count": null,
   "id": "43e8b96c",
   "metadata": {
    "id": "adc68068"
   },
   "outputs": [],
   "source": []
  },
  {
   "cell_type": "code",
   "execution_count": null,
   "id": "43368b82",
   "metadata": {
    "id": "d3faf0cd"
   },
   "outputs": [],
   "source": []
  }
 ],
 "metadata": {
  "colab": {
   "name": "cinic.ipynb",
   "provenance": []
  },
  "kernelspec": {
   "display_name": "Python 3",
   "language": "python",
   "name": "python3"
  },
  "language_info": {
   "codemirror_mode": {
    "name": "ipython",
    "version": 3
   },
   "file_extension": ".py",
   "mimetype": "text/x-python",
   "name": "python",
   "nbconvert_exporter": "python",
   "pygments_lexer": "ipython3",
   "version": "3.8.3"
  }
 },
 "nbformat": 4,
 "nbformat_minor": 5
}
